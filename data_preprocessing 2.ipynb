{
  "cells": [
    {
      "cell_type": "code",
      "execution_count": null,
      "metadata": {
        "_cell_guid": "b1076dfc-b9ad-4769-8c92-a6c4dae69d19",
        "_uuid": "8f2839f25d086af736a60e9eeb907d3b93b6e0e5",
        "execution": {
          "iopub.execute_input": "2023-12-31T10:03:42.532793Z",
          "iopub.status.busy": "2023-12-31T10:03:42.532208Z",
          "iopub.status.idle": "2023-12-31T10:03:42.547063Z",
          "shell.execute_reply": "2023-12-31T10:03:42.545304Z",
          "shell.execute_reply.started": "2023-12-31T10:03:42.532753Z"
        },
        "id": "x1TL2FD045RE",
        "trusted": true
      },
      "outputs": [],
      "source": [
        "# This Python 3 environment comes with many helpful analytics libraries installed\n",
        "# It is defined by the kaggle/python Docker image: https://github.com/kaggle/docker-python\n",
        "# For example, here's several helpful packages to load\n",
        "\n",
        "import numpy as np # linear algebra\n",
        "import pandas as pd # data processing, CSV file I/O (e.g. pd.read_csv)\n",
        "\n",
        "# Input data files are available in the read-only \"../input/\" directory\n",
        "# For example, running this (by clicking run or pressing Shift+Enter) will list all files under the input directory\n",
        "\n",
        "import os\n",
        "for dirname, _, filenames in os.walk('/kaggle/input'):\n",
        "    for filename in filenames:\n",
        "        print(os.path.join(dirname, filename))\n",
        "\n",
        "# You can write up to 20GB to the current directory (/kaggle/working/) that gets preserved as output when you create a version using \"Save & Run All\"\n",
        "# You can also write temporary files to /kaggle/temp/, but they won't be saved outside of the current session"
      ]
    },
    {
      "cell_type": "code",
      "execution_count": null,
      "metadata": {
        "colab": {
          "base_uri": "https://localhost:8080/"
        },
        "id": "jgaqLWv6Gmc-",
        "outputId": "3d695ae6-8e9c-4676-e741-90290579ddf3"
      },
      "outputs": [
        {
          "name": "stdout",
          "output_type": "stream",
          "text": [
            "Mounted at /content/drive\n"
          ]
        }
      ],
      "source": [
        "from google.colab import drive\n",
        "drive.mount('/content/drive')"
      ]
    },
    {
      "cell_type": "code",
      "execution_count": null,
      "metadata": {
        "id": "IBTDVDVqGquQ"
      },
      "outputs": [],
      "source": [
        "df = pd.read_csv(\"/content/drive/MyDrive/Data Science/data science/Data Preprocessing/1stLab/Data.csv\")\n",
        "iris_df = pd.read_csv(\"/content/drive/MyDrive/Iris.csv\")"
      ]
    },
    {
      "cell_type": "markdown",
      "metadata": {
        "id": "OyV52v5y45RH"
      },
      "source": [
        "# <font color='cadetblue'>2- Import all the crucial libraries</font>\n",
        " The predefined Python libraries can perform specific data preprocessing jobs. Importing all the crucial libraries is the second step in data preprocessing in machine learning."
      ]
    },
    {
      "cell_type": "code",
      "execution_count": null,
      "metadata": {
        "execution": {
          "iopub.execute_input": "2023-12-31T10:03:42.556569Z",
          "iopub.status.busy": "2023-12-31T10:03:42.556004Z",
          "iopub.status.idle": "2023-12-31T10:03:42.566564Z",
          "shell.execute_reply": "2023-12-31T10:03:42.565228Z",
          "shell.execute_reply.started": "2023-12-31T10:03:42.556456Z"
        },
        "id": "-e1gcfWP45RJ",
        "trusted": true
      },
      "outputs": [],
      "source": [
        "%matplotlib inline\n",
        "import numpy as np\n",
        "import pandas as pd\n",
        "import matplotlib.pyplot as plt\n",
        "import seaborn as sns\n",
        "import sklearn\n",
        "from sklearn.model_selection import train_test_split\n"
      ]
    },
    {
      "cell_type": "markdown",
      "metadata": {
        "id": "BV7ROig845RK"
      },
      "source": [
        "# <font color='cadetblue'>3- Import the dataset</font>\n",
        "In this step, you need to import the dataset/s that you have gathered for the ML project at hand. Importing the dataset is one of the important steps in data preprocessing in machine learning.\n"
      ]
    },
    {
      "cell_type": "markdown",
      "metadata": {
        "id": "2ypxlOXY45RL"
      },
      "source": [
        "Outlier Detection:\n"
      ]
    },
    {
      "cell_type": "code",
      "execution_count": null,
      "metadata": {
        "colab": {
          "base_uri": "https://localhost:8080/",
          "height": 564
        },
        "execution": {
          "iopub.execute_input": "2023-12-31T10:03:42.615785Z",
          "iopub.status.busy": "2023-12-31T10:03:42.615410Z",
          "iopub.status.idle": "2023-12-31T10:03:42.799237Z",
          "shell.execute_reply": "2023-12-31T10:03:42.798317Z",
          "shell.execute_reply.started": "2023-12-31T10:03:42.615753Z"
        },
        "id": "D9f_ywYA45RM",
        "outputId": "791721d5-e9a9-4938-b282-26590a55a125",
        "trusted": true
      },
      "outputs": [
        {
          "data": {
            "image/png": "[encoded data removed]",
            "text/plain": [
              "<Figure size 800x600 with 1 Axes>"
            ]
          },
          "metadata": {},
          "output_type": "display_data"
        }
      ],
      "source": [
        "\n",
        "# Assuming 'numerical_column' is the column with numerical data\n",
        "# Checking for outliers using a box plot\n",
        "plt.figure(figsize=(8, 6))\n",
        "sns.boxplot(x=df['Age'])\n",
        "plt.title('Box Plot for Outlier Detection')\n",
        "plt.show()\n"
      ]
    },
    {
      "cell_type": "markdown",
      "metadata": {
        "id": "m0Ungxbu45RM"
      },
      "source": [
        "Handling outliers and noisy data:"
      ]
    },
    {
      "cell_type": "code",
      "execution_count": null,
      "metadata": {
        "colab": {
          "base_uri": "https://localhost:8080/"
        },
        "id": "BUzKOm_745RN",
        "outputId": "dfde8182-a921-4069-a1be-f4a85a846274"
      },
      "outputs": [
        {
          "name": "stdout",
          "output_type": "stream",
          "text": [
            "Number of removed outliers: 9\n"
          ]
        }
      ],
      "source": [
        "from sklearn.datasets import load_iris\n",
        "from sklearn.preprocessing import StandardScaler\n",
        "from sklearn.ensemble import IsolationForest\n",
        "from sklearn.model_selection import train_test_split\n",
        "iris = load_iris()\n",
        "X, y = iris.data, iris.target\n",
        "iris_df_copy = pd.DataFrame(data=np.c_[X, y], columns=iris.feature_names + ['target'])\n",
        "np.random.seed(42)\n",
        "outliers_idx = np.random.choice(iris_df_copy.index, size=10, replace=False)\n",
        "iris_df_copy.loc[outliers_idx, 'sepal length (cm)'] += 10\n",
        "iris_df_copy.loc[outliers_idx, 'sepal width (cm)'] -= 5\n",
        "X = iris_df_copy.drop('target', axis=1)\n",
        "y = iris_df_copy['target']\n",
        "scaler = StandardScaler()\n",
        "X_scaled = scaler.fit_transform(X)\n",
        "outlier_detector = IsolationForest(contamination=0.06, random_state=42)\n",
        "outliers_mask = outlier_detector.fit_predict(X_scaled) == -1 # -1 indicates an outlier, label it as true\n",
        "X_no_outliers = X[~outliers_mask]\n",
        "y_no_outliers = y[~outliers_mask]\n",
        "print(f\"Number of removed outliers: {sum(outliers_mask)}\")"
      ]
    },
    {
      "cell_type": "code",
      "execution_count": null,
      "metadata": {
        "id": "_vrwF4ty0eue"
      },
      "outputs": [],
      "source": [
        "from google.colab import drive\n",
        "drive.mount('/content/drive')\n",
        "df = pd.read_csv(\"/content/drive/MyDrive/Data Science/data science/Data Preprocessing/1stLab/Data.csv\")"
      ]
    },
    {
      "cell_type": "markdown",
      "metadata": {
        "id": "n9bx5g3d45RN"
      },
      "source": [
        "Data Visualization:"
      ]
    },
    {
      "cell_type": "code",
      "execution_count": null,
      "metadata": {
        "colab": {
          "base_uri": "https://localhost:8080/",
          "height": 1000
        },
        "execution": {
          "iopub.execute_input": "2023-12-31T10:03:42.802069Z",
          "iopub.status.busy": "2023-12-31T10:03:42.800837Z",
          "iopub.status.idle": "2023-12-31T10:03:43.448083Z",
          "shell.execute_reply": "2023-12-31T10:03:43.446417Z",
          "shell.execute_reply.started": "2023-12-31T10:03:42.802016Z"
        },
        "id": "cn221AIM45RN",
        "outputId": "af3cb7c2-b8f8-4185-df6a-2c554e581710",
        "trusted": true
      },
      "outputs": [
        {
          "data": {
            "image/png": "[encoded data removed]",
            "text/plain": [
              "<Figure size 1000x600 with 1 Axes>"
            ]
          },
          "metadata": {},
          "output_type": "display_data"
        },
        {
          "data": {
            "image/png": "[encoded data removed]",
            "text/plain": [
              "<Figure size 1000x600 with 1 Axes>"
            ]
          },
          "metadata": {},
          "output_type": "display_data"
        }
      ],
      "source": [
        "numerical_column = 'Age'\n",
        "categorical_column = 'Country'\n",
        "plt.figure(figsize=(10, 6))\n",
        "sns.histplot(df[numerical_column], bins=100, kde=True)#kde: Kernel Density Estimation\n",
        "plt\n",
        "plt.title('Histogram for Numerical Column')\n",
        "plt.xlabel('Values')\n",
        "plt.ylabel('Frequency')\n",
        "plt.show()\n",
        "plt.figure(figsize=(10, 6))\n",
        "sns.countplot(x=df[categorical_column])\n",
        "plt.title('Bar Chart for Categorical Column')\n",
        "plt.xlabel('Categories')\n",
        "plt.ylabel('Count')\n",
        "plt.show()\n"
      ]
    },
    {
      "cell_type": "code",
      "execution_count": null,
      "metadata": {
        "colab": {
          "base_uri": "https://localhost:8080/"
        },
        "execution": {
          "iopub.execute_input": "2023-12-31T10:03:43.451608Z",
          "iopub.status.busy": "2023-12-31T10:03:43.451189Z",
          "iopub.status.idle": "2023-12-31T10:03:43.465398Z",
          "shell.execute_reply": "2023-12-31T10:03:43.463734Z",
          "shell.execute_reply.started": "2023-12-31T10:03:43.451575Z"
        },
        "id": "7BHE43KS45RO",
        "outputId": "72e63d8a-4365-4347-dbe5-baf7fc2afe9c",
        "trusted": true
      },
      "outputs": [
        {
          "name": "stdout",
          "output_type": "stream",
          "text": [
            "           0     1\n",
            "Country    0   0.0\n",
            "Age        1  10.0\n",
            "Salary     1  10.0\n",
            "Purchased  0   0.0\n"
          ]
        }
      ],
      "source": [
        "#iris_df.head()\n",
        "#print(iris_df['Species'].value_counts())\n",
        "\n",
        "# Total missing values\n",
        "mis_val = df.isnull().sum()\n",
        "\n",
        "# Percentage of missing values\n",
        "mis_val_percent = 100 * df.isnull().sum() / len(df)\n",
        "#print(mis_val,mis_val_percent)\n",
        "\n",
        "# Make a table with the results\n",
        "mis_val_table = pd.concat([mis_val, mis_val_percent], axis=1)\n",
        "print(mis_val_table)"
      ]
    },
    {
      "cell_type": "markdown",
      "metadata": {
        "id": "SnySqxog45RO"
      },
      "source": [
        "Drop Columns That Aren’t Useful:\n",
        "- Let's try to drop some of the columns which won't contribute much to our machine learning model."
      ]
    },
    {
      "cell_type": "code",
      "execution_count": null,
      "metadata": {
        "colab": {
          "base_uri": "https://localhost:8080/",
          "height": 363
        },
        "id": "z1vks9pO45RP",
        "outputId": "ac99161b-f26e-42a2-a46e-d4c0e59cdd85"
      },
      "outputs": [
        {
          "data": {
            "application/vnd.google.colaboratory.intrinsic+json": {
              "summary": "{\n  \"name\": \"copy_df\",\n  \"rows\": 10,\n  \"fields\": [\n    {\n      \"column\": \"Age\",\n      \"properties\": {\n        \"dtype\": \"number\",\n        \"std\": 7.693792591722527,\n        \"min\": 27.0,\n        \"max\": 50.0,\n        \"num_unique_values\": 9,\n        \"samples\": [\n          50.0,\n          27.0,\n          35.0\n        ],\n        \"semantic_type\": \"\",\n        \"description\": \"\"\n      }\n    },\n    {\n      \"column\": \"Salary\",\n      \"properties\": {\n        \"dtype\": \"number\",\n        \"std\": 12265.579661982732,\n        \"min\": 48000.0,\n        \"max\": 83000.0,\n        \"num_unique_values\": 9,\n        \"samples\": [\n          83000.0,\n          48000.0,\n          52000.0\n        ],\n        \"semantic_type\": \"\",\n        \"description\": \"\"\n      }\n    },\n    {\n      \"column\": \"Purchased\",\n      \"properties\": {\n        \"dtype\": \"category\",\n        \"num_unique_values\": 2,\n        \"samples\": [\n          \"Yes\",\n          \"No\"\n        ],\n        \"semantic_type\": \"\",\n        \"description\": \"\"\n      }\n    }\n  ]\n}",
              "type": "dataframe",
              "variable_name": "copy_df"
            },
            "text/html": [
              "\n",
              "  <div id=\"df-44ade6a0-cb02-4a43-b53d-ca24c0bd8045\" class=\"colab-df-container\">\n",
              "    <div>\n",
              "<style scoped>\n",
              "    .dataframe tbody tr th:only-of-type {\n",
              "        vertical-align: middle;\n",
              "    }\n",
              "\n",
              "    .dataframe tbody tr th {\n",
              "        vertical-align: top;\n",
              "    }\n",
              "\n",
              "    .dataframe thead th {\n",
              "        text-align: right;\n",
              "    }\n",
              "</style>\n",
              "<table border=\"1\" class=\"dataframe\">\n",
              "  <thead>\n",
              "    <tr style=\"text-align: right;\">\n",
              "      <th></th>\n",
              "      <th>Age</th>\n",
              "      <th>Salary</th>\n",
              "      <th>Purchased</th>\n",
              "    </tr>\n",
              "  </thead>\n",
              "  <tbody>\n",
              "    <tr>\n",
              "      <th>0</th>\n",
              "      <td>44.0</td>\n",
              "      <td>72000.0</td>\n",
              "      <td>No</td>\n",
              "    </tr>\n",
              "    <tr>\n",
              "      <th>1</th>\n",
              "      <td>27.0</td>\n",
              "      <td>48000.0</td>\n",
              "      <td>Yes</td>\n",
              "    </tr>\n",
              "    <tr>\n",
              "      <th>2</th>\n",
              "      <td>30.0</td>\n",
              "      <td>54000.0</td>\n",
              "      <td>No</td>\n",
              "    </tr>\n",
              "    <tr>\n",
              "      <th>3</th>\n",
              "      <td>38.0</td>\n",
              "      <td>61000.0</td>\n",
              "      <td>No</td>\n",
              "    </tr>\n",
              "    <tr>\n",
              "      <th>4</th>\n",
              "      <td>40.0</td>\n",
              "      <td>NaN</td>\n",
              "      <td>Yes</td>\n",
              "    </tr>\n",
              "    <tr>\n",
              "      <th>5</th>\n",
              "      <td>35.0</td>\n",
              "      <td>58000.0</td>\n",
              "      <td>Yes</td>\n",
              "    </tr>\n",
              "    <tr>\n",
              "      <th>6</th>\n",
              "      <td>NaN</td>\n",
              "      <td>52000.0</td>\n",
              "      <td>No</td>\n",
              "    </tr>\n",
              "    <tr>\n",
              "      <th>7</th>\n",
              "      <td>48.0</td>\n",
              "      <td>79000.0</td>\n",
              "      <td>Yes</td>\n",
              "    </tr>\n",
              "    <tr>\n",
              "      <th>8</th>\n",
              "      <td>50.0</td>\n",
              "      <td>83000.0</td>\n",
              "      <td>No</td>\n",
              "    </tr>\n",
              "    <tr>\n",
              "      <th>9</th>\n",
              "      <td>37.0</td>\n",
              "      <td>67000.0</td>\n",
              "      <td>Yes</td>\n",
              "    </tr>\n",
              "  </tbody>\n",
              "</table>\n",
              "</div>\n",
              "    <div class=\"colab-df-buttons\">\n",
              "\n",
              "  <div class=\"colab-df-container\">\n",
              "    <button class=\"colab-df-convert\" onclick=\"convertToInteractive('df-44ade6a0-cb02-4a43-b53d-ca24c0bd8045')\"\n",
              "            title=\"Convert this dataframe to an interactive table.\"\n",
              "            style=\"display:none;\">\n",
              "\n",
              "  <svg xmlns=\"http://www.w3.org/2000/svg\" height=\"24px\" viewBox=\"0 -960 960 960\">\n",
              "    <path d=\"M120-120v-720h720v720H120Zm60-500h600v-160H180v160Zm220 220h160v-160H400v160Zm0 220h160v-160H400v160ZM180-400h160v-160H180v160Zm440 0h160v-160H620v160ZM180-180h160v-160H180v160Zm440 0h160v-160H620v160Z\"/>\n",
              "  </svg>\n",
              "    </button>\n",
              "\n",
              "  <style>\n",
              "    .colab-df-container {\n",
              "      display:flex;\n",
              "      gap: 12px;\n",
              "    }\n",
              "\n",
              "    .colab-df-convert {\n",
              "      background-color: #E8F0FE;\n",
              "      border: none;\n",
              "      border-radius: 50%;\n",
              "      cursor: pointer;\n",
              "      display: none;\n",
              "      fill: #1967D2;\n",
              "      height: 32px;\n",
              "      padding: 0 0 0 0;\n",
              "      width: 32px;\n",
              "    }\n",
              "\n",
              "    .colab-df-convert:hover {\n",
              "      background-color: #E2EBFA;\n",
              "      box-shadow: 0px 1px 2px rgba(60, 64, 67, 0.3), 0px 1px 3px 1px rgba(60, 64, 67, 0.15);\n",
              "      fill: #174EA6;\n",
              "    }\n",
              "\n",
              "    .colab-df-buttons div {\n",
              "      margin-bottom: 4px;\n",
              "    }\n",
              "\n",
              "    [theme=dark] .colab-df-convert {\n",
              "      background-color: #3B4455;\n",
              "      fill: #D2E3FC;\n",
              "    }\n",
              "\n",
              "    [theme=dark] .colab-df-convert:hover {\n",
              "      background-color: #434B5C;\n",
              "      box-shadow: 0px 1px 3px 1px rgba(0, 0, 0, 0.15);\n",
              "      filter: drop-shadow(0px 1px 2px rgba(0, 0, 0, 0.3));\n",
              "      fill: #FFFFFF;\n",
              "    }\n",
              "  </style>\n",
              "\n",
              "    <script>\n",
              "      const buttonEl =\n",
              "        document.querySelector('#df-44ade6a0-cb02-4a43-b53d-ca24c0bd8045 button.colab-df-convert');\n",
              "      buttonEl.style.display =\n",
              "        google.colab.kernel.accessAllowed ? 'block' : 'none';\n",
              "\n",
              "      async function convertToInteractive(key) {\n",
              "        const element = document.querySelector('#df-44ade6a0-cb02-4a43-b53d-ca24c0bd8045');\n",
              "        const dataTable =\n",
              "          await google.colab.kernel.invokeFunction('convertToInteractive',\n",
              "                                                    [key], {});\n",
              "        if (!dataTable) return;\n",
              "\n",
              "        const docLinkHtml = 'Like what you see? Visit the ' +\n",
              "          '<a target=\"_blank\" href=https://colab.research.google.com/notebooks/data_table.ipynb>data table notebook</a>'\n",
              "          + ' to learn more about interactive tables.';\n",
              "        element.innerHTML = '';\n",
              "        dataTable['output_type'] = 'display_data';\n",
              "        await google.colab.output.renderOutput(dataTable, element);\n",
              "        const docLink = document.createElement('div');\n",
              "        docLink.innerHTML = docLinkHtml;\n",
              "        element.appendChild(docLink);\n",
              "      }\n",
              "    </script>\n",
              "  </div>\n",
              "\n",
              "\n",
              "<div id=\"df-aec47c0b-83c0-4edd-85ce-ccf35d58d4a9\">\n",
              "  <button class=\"colab-df-quickchart\" onclick=\"quickchart('df-aec47c0b-83c0-4edd-85ce-ccf35d58d4a9')\"\n",
              "            title=\"Suggest charts\"\n",
              "            style=\"display:none;\">\n",
              "\n",
              "<svg xmlns=\"http://www.w3.org/2000/svg\" height=\"24px\"viewBox=\"0 0 24 24\"\n",
              "     width=\"24px\">\n",
              "    <g>\n",
              "        <path d=\"M19 3H5c-1.1 0-2 .9-2 2v14c0 1.1.9 2 2 2h14c1.1 0 2-.9 2-2V5c0-1.1-.9-2-2-2zM9 17H7v-7h2v7zm4 0h-2V7h2v10zm4 0h-2v-4h2v4z\"/>\n",
              "    </g>\n",
              "</svg>\n",
              "  </button>\n",
              "\n",
              "<style>\n",
              "  .colab-df-quickchart {\n",
              "      --bg-color: #E8F0FE;\n",
              "      --fill-color: #1967D2;\n",
              "      --hover-bg-color: #E2EBFA;\n",
              "      --hover-fill-color: #174EA6;\n",
              "      --disabled-fill-color: #AAA;\n",
              "      --disabled-bg-color: #DDD;\n",
              "  }\n",
              "\n",
              "  [theme=dark] .colab-df-quickchart {\n",
              "      --bg-color: #3B4455;\n",
              "      --fill-color: #D2E3FC;\n",
              "      --hover-bg-color: #434B5C;\n",
              "      --hover-fill-color: #FFFFFF;\n",
              "      --disabled-bg-color: #3B4455;\n",
              "      --disabled-fill-color: #666;\n",
              "  }\n",
              "\n",
              "  .colab-df-quickchart {\n",
              "    background-color: var(--bg-color);\n",
              "    border: none;\n",
              "    border-radius: 50%;\n",
              "    cursor: pointer;\n",
              "    display: none;\n",
              "    fill: var(--fill-color);\n",
              "    height: 32px;\n",
              "    padding: 0;\n",
              "    width: 32px;\n",
              "  }\n",
              "\n",
              "  .colab-df-quickchart:hover {\n",
              "    background-color: var(--hover-bg-color);\n",
              "    box-shadow: 0 1px 2px rgba(60, 64, 67, 0.3), 0 1px 3px 1px rgba(60, 64, 67, 0.15);\n",
              "    fill: var(--button-hover-fill-color);\n",
              "  }\n",
              "\n",
              "  .colab-df-quickchart-complete:disabled,\n",
              "  .colab-df-quickchart-complete:disabled:hover {\n",
              "    background-color: var(--disabled-bg-color);\n",
              "    fill: var(--disabled-fill-color);\n",
              "    box-shadow: none;\n",
              "  }\n",
              "\n",
              "  .colab-df-spinner {\n",
              "    border: 2px solid var(--fill-color);\n",
              "    border-color: transparent;\n",
              "    border-bottom-color: var(--fill-color);\n",
              "    animation:\n",
              "      spin 1s steps(1) infinite;\n",
              "  }\n",
              "\n",
              "  @keyframes spin {\n",
              "    0% {\n",
              "      border-color: transparent;\n",
              "      border-bottom-color: var(--fill-color);\n",
              "      border-left-color: var(--fill-color);\n",
              "    }\n",
              "    20% {\n",
              "      border-color: transparent;\n",
              "      border-left-color: var(--fill-color);\n",
              "      border-top-color: var(--fill-color);\n",
              "    }\n",
              "    30% {\n",
              "      border-color: transparent;\n",
              "      border-left-color: var(--fill-color);\n",
              "      border-top-color: var(--fill-color);\n",
              "      border-right-color: var(--fill-color);\n",
              "    }\n",
              "    40% {\n",
              "      border-color: transparent;\n",
              "      border-right-color: var(--fill-color);\n",
              "      border-top-color: var(--fill-color);\n",
              "    }\n",
              "    60% {\n",
              "      border-color: transparent;\n",
              "      border-right-color: var(--fill-color);\n",
              "    }\n",
              "    80% {\n",
              "      border-color: transparent;\n",
              "      border-right-color: var(--fill-color);\n",
              "      border-bottom-color: var(--fill-color);\n",
              "    }\n",
              "    90% {\n",
              "      border-color: transparent;\n",
              "      border-bottom-color: var(--fill-color);\n",
              "    }\n",
              "  }\n",
              "</style>\n",
              "\n",
              "  <script>\n",
              "    async function quickchart(key) {\n",
              "      const quickchartButtonEl =\n",
              "        document.querySelector('#' + key + ' button');\n",
              "      quickchartButtonEl.disabled = true;  // To prevent multiple clicks.\n",
              "      quickchartButtonEl.classList.add('colab-df-spinner');\n",
              "      try {\n",
              "        const charts = await google.colab.kernel.invokeFunction(\n",
              "            'suggestCharts', [key], {});\n",
              "      } catch (error) {\n",
              "        console.error('Error during call to suggestCharts:', error);\n",
              "      }\n",
              "      quickchartButtonEl.classList.remove('colab-df-spinner');\n",
              "      quickchartButtonEl.classList.add('colab-df-quickchart-complete');\n",
              "    }\n",
              "    (() => {\n",
              "      let quickchartButtonEl =\n",
              "        document.querySelector('#df-aec47c0b-83c0-4edd-85ce-ccf35d58d4a9 button');\n",
              "      quickchartButtonEl.style.display =\n",
              "        google.colab.kernel.accessAllowed ? 'block' : 'none';\n",
              "    })();\n",
              "  </script>\n",
              "</div>\n",
              "    </div>\n",
              "  </div>\n"
            ],
            "text/plain": [
              "    Age   Salary Purchased\n",
              "0  44.0  72000.0        No\n",
              "1  27.0  48000.0       Yes\n",
              "2  30.0  54000.0        No\n",
              "3  38.0  61000.0        No\n",
              "4  40.0      NaN       Yes\n",
              "5  35.0  58000.0       Yes\n",
              "6   NaN  52000.0        No\n",
              "7  48.0  79000.0       Yes\n",
              "8  50.0  83000.0        No\n",
              "9  37.0  67000.0       Yes"
            ]
          },
          "execution_count": 10,
          "metadata": {},
          "output_type": "execute_result"
        }
      ],
      "source": [
        "copy_df=df.copy()\n",
        "columns=['Country']\n",
        "copy_df.drop(columns,inplace=True,axis=1)\n",
        "copy_df"
      ]
    },
    {
      "cell_type": "code",
      "execution_count": null,
      "metadata": {
        "execution": {
          "iopub.execute_input": "2023-12-31T10:03:43.468541Z",
          "iopub.status.busy": "2023-12-31T10:03:43.467548Z",
          "iopub.status.idle": "2023-12-31T10:03:43.476247Z",
          "shell.execute_reply": "2023-12-31T10:03:43.475000Z",
          "shell.execute_reply.started": "2023-12-31T10:03:43.468486Z"
        },
        "id": "TNHKNAfH45RP",
        "trusted": true
      },
      "outputs": [],
      "source": [
        "X = df.iloc[:, :-1].values\n",
        "y = df.iloc[:, -1].values"
      ]
    },
    {
      "cell_type": "code",
      "execution_count": null,
      "metadata": {
        "execution": {
          "iopub.execute_input": "2023-12-31T10:03:43.478402Z",
          "iopub.status.busy": "2023-12-31T10:03:43.477948Z",
          "iopub.status.idle": "2023-12-31T10:03:43.501731Z",
          "shell.execute_reply": "2023-12-31T10:03:43.500471Z",
          "shell.execute_reply.started": "2023-12-31T10:03:43.478368Z"
        },
        "id": "G0LdiReM45RQ",
        "outputId": "d5bf5f9e-4f32-42d2-fcc8-3a301efe2c44",
        "trusted": true
      },
      "outputs": [
        {
          "data": {
            "text/html": [
              "<div>\n",
              "<style scoped>\n",
              "    .dataframe tbody tr th:only-of-type {\n",
              "        vertical-align: middle;\n",
              "    }\n",
              "\n",
              "    .dataframe tbody tr th {\n",
              "        vertical-align: top;\n",
              "    }\n",
              "\n",
              "    .dataframe thead th {\n",
              "        text-align: right;\n",
              "    }\n",
              "</style>\n",
              "<table border=\"1\" class=\"dataframe\">\n",
              "  <thead>\n",
              "    <tr style=\"text-align: right;\">\n",
              "      <th></th>\n",
              "      <th>Age</th>\n",
              "      <th>Salary</th>\n",
              "    </tr>\n",
              "  </thead>\n",
              "  <tbody>\n",
              "    <tr>\n",
              "      <th>count</th>\n",
              "      <td>9.000000</td>\n",
              "      <td>9.000000</td>\n",
              "    </tr>\n",
              "    <tr>\n",
              "      <th>mean</th>\n",
              "      <td>38.777778</td>\n",
              "      <td>63777.777778</td>\n",
              "    </tr>\n",
              "    <tr>\n",
              "      <th>std</th>\n",
              "      <td>7.693793</td>\n",
              "      <td>12265.579662</td>\n",
              "    </tr>\n",
              "    <tr>\n",
              "      <th>min</th>\n",
              "      <td>27.000000</td>\n",
              "      <td>48000.000000</td>\n",
              "    </tr>\n",
              "    <tr>\n",
              "      <th>25%</th>\n",
              "      <td>35.000000</td>\n",
              "      <td>54000.000000</td>\n",
              "    </tr>\n",
              "    <tr>\n",
              "      <th>50%</th>\n",
              "      <td>38.000000</td>\n",
              "      <td>61000.000000</td>\n",
              "    </tr>\n",
              "    <tr>\n",
              "      <th>75%</th>\n",
              "      <td>44.000000</td>\n",
              "      <td>72000.000000</td>\n",
              "    </tr>\n",
              "    <tr>\n",
              "      <th>max</th>\n",
              "      <td>50.000000</td>\n",
              "      <td>83000.000000</td>\n",
              "    </tr>\n",
              "  </tbody>\n",
              "</table>\n",
              "</div>"
            ],
            "text/plain": [
              "             Age        Salary\n",
              "count   9.000000      9.000000\n",
              "mean   38.777778  63777.777778\n",
              "std     7.693793  12265.579662\n",
              "min    27.000000  48000.000000\n",
              "25%    35.000000  54000.000000\n",
              "50%    38.000000  61000.000000\n",
              "75%    44.000000  72000.000000\n",
              "max    50.000000  83000.000000"
            ]
          },
          "execution_count": 11,
          "metadata": {},
          "output_type": "execute_result"
        }
      ],
      "source": [
        "df.describe()"
      ]
    },
    {
      "cell_type": "markdown",
      "metadata": {
        "id": "_kOC0OzW45RQ"
      },
      "source": [
        "# <font color='dodgerblue'>4- Identifying and handling the missing values</font>\n",
        "In data preprocessing, it is pivotal to identify and correctly handle the missing values, failing to do this, you might draw inaccurate and faulty conclusions and inferences from the data. Needless to say, this will hamper your ML project.\n",
        "\n",
        "some typical reasons why data is missing:\n",
        "\n",
        "A. User forgot to fill in a field.\n",
        "\n",
        "B. Data was lost while transferring manually from a legacy database.\n",
        "\n",
        "C. There was a programming error.\n",
        "\n",
        "D. Users chose not to fill out a field tied to their beliefs about how the results would be used or interpreted.\n",
        "\n",
        "Basically, there are two ways to handle missing data:\n",
        "    \n",
        "    Deleting a particular row – Calculating the mean"
      ]
    },
    {
      "cell_type": "markdown",
      "metadata": {
        "id": "udHBpg6X45RQ"
      },
      "source": [
        "# <img src=\"https://files.realpython.com/media/Pythons-None-Type-Null-in-Python_Watermarked.9d48d487f417.jpg\" width=\"70%\"/>\n"
      ]
    },
    {
      "cell_type": "code",
      "execution_count": null,
      "metadata": {
        "execution": {
          "iopub.execute_input": "2023-12-31T10:03:43.504925Z",
          "iopub.status.busy": "2023-12-31T10:03:43.504459Z",
          "iopub.status.idle": "2023-12-31T10:03:43.516930Z",
          "shell.execute_reply": "2023-12-31T10:03:43.515586Z",
          "shell.execute_reply.started": "2023-12-31T10:03:43.504889Z"
        },
        "id": "Y_BfAAT_45RR",
        "outputId": "c1ec1f54-da31-47e8-a801-f3aa95ad6223",
        "trusted": true
      },
      "outputs": [
        {
          "name": "stdout",
          "output_type": "stream",
          "text": [
            "   Country    Age  Salary  Purchased\n",
            "0    False  False   False      False\n",
            "1    False  False   False      False\n",
            "2    False  False   False      False\n",
            "3    False  False   False      False\n",
            "4    False  False    True      False\n",
            "5    False  False   False      False\n",
            "6    False   True   False      False\n",
            "7    False  False   False      False\n",
            "8    False  False   False      False\n",
            "9    False  False   False      False\n",
            "Before: (10, 4)\n",
            "After: (8, 4)\n"
          ]
        }
      ],
      "source": [
        "print(df.isnull())\n",
        "df.isnull().sum()\n",
        "\n",
        "df1 = df.copy()\n",
        "\n",
        "# summarize the shape of the raw data\n",
        "print(\"Before:\",df1.shape)\n",
        "\n",
        "# drop rows with missing values\n",
        "df1.dropna(inplace=True)\n",
        "\n",
        "# summarize the shape of the data with missing rows removed\n",
        "print(\"After:\",df1.shape)"
      ]
    },
    {
      "cell_type": "code",
      "execution_count": null,
      "metadata": {
        "execution": {
          "iopub.execute_input": "2023-12-31T10:06:11.057040Z",
          "iopub.status.busy": "2023-12-31T10:06:11.056487Z",
          "iopub.status.idle": "2023-12-31T10:06:11.079565Z",
          "shell.execute_reply": "2023-12-31T10:06:11.078356Z",
          "shell.execute_reply.started": "2023-12-31T10:06:11.057000Z"
        },
        "id": "DweDdbRL45RR",
        "outputId": "59a2b896-59df-400b-d396-b310514ed246",
        "trusted": true
      },
      "outputs": [
        {
          "name": "stdout",
          "output_type": "stream",
          "text": [
            "Country      0\n",
            "Age          0\n",
            "Salary       0\n",
            "Purchased    0\n",
            "dtype: int64\n"
          ]
        },
        {
          "name": "stderr",
          "output_type": "stream",
          "text": [
            "C:\\Users\\DELL\\AppData\\Local\\Temp\\ipykernel_6848\\3703752423.py:8: FutureWarning: DataFrame.interpolate with object dtype is deprecated and will raise in a future version. Call obj.infer_objects(copy=False) before interpolating instead.\n",
            "  df2.interpolate()\n"
          ]
        },
        {
          "data": {
            "text/html": [
              "<div>\n",
              "<style scoped>\n",
              "    .dataframe tbody tr th:only-of-type {\n",
              "        vertical-align: middle;\n",
              "    }\n",
              "\n",
              "    .dataframe tbody tr th {\n",
              "        vertical-align: top;\n",
              "    }\n",
              "\n",
              "    .dataframe thead th {\n",
              "        text-align: right;\n",
              "    }\n",
              "</style>\n",
              "<table border=\"1\" class=\"dataframe\">\n",
              "  <thead>\n",
              "    <tr style=\"text-align: right;\">\n",
              "      <th></th>\n",
              "      <th>Country</th>\n",
              "      <th>Age</th>\n",
              "      <th>Salary</th>\n",
              "      <th>Purchased</th>\n",
              "    </tr>\n",
              "  </thead>\n",
              "  <tbody>\n",
              "    <tr>\n",
              "      <th>0</th>\n",
              "      <td>France</td>\n",
              "      <td>44.000000</td>\n",
              "      <td>72000.000000</td>\n",
              "      <td>No</td>\n",
              "    </tr>\n",
              "    <tr>\n",
              "      <th>1</th>\n",
              "      <td>Spain</td>\n",
              "      <td>27.000000</td>\n",
              "      <td>48000.000000</td>\n",
              "      <td>Yes</td>\n",
              "    </tr>\n",
              "    <tr>\n",
              "      <th>2</th>\n",
              "      <td>Germany</td>\n",
              "      <td>30.000000</td>\n",
              "      <td>54000.000000</td>\n",
              "      <td>No</td>\n",
              "    </tr>\n",
              "    <tr>\n",
              "      <th>3</th>\n",
              "      <td>Spain</td>\n",
              "      <td>38.000000</td>\n",
              "      <td>61000.000000</td>\n",
              "      <td>No</td>\n",
              "    </tr>\n",
              "    <tr>\n",
              "      <th>4</th>\n",
              "      <td>Germany</td>\n",
              "      <td>40.000000</td>\n",
              "      <td>38.777778</td>\n",
              "      <td>Yes</td>\n",
              "    </tr>\n",
              "    <tr>\n",
              "      <th>5</th>\n",
              "      <td>France</td>\n",
              "      <td>35.000000</td>\n",
              "      <td>58000.000000</td>\n",
              "      <td>Yes</td>\n",
              "    </tr>\n",
              "    <tr>\n",
              "      <th>6</th>\n",
              "      <td>Spain</td>\n",
              "      <td>38.777778</td>\n",
              "      <td>52000.000000</td>\n",
              "      <td>No</td>\n",
              "    </tr>\n",
              "    <tr>\n",
              "      <th>7</th>\n",
              "      <td>France</td>\n",
              "      <td>48.000000</td>\n",
              "      <td>79000.000000</td>\n",
              "      <td>Yes</td>\n",
              "    </tr>\n",
              "    <tr>\n",
              "      <th>8</th>\n",
              "      <td>Germany</td>\n",
              "      <td>50.000000</td>\n",
              "      <td>83000.000000</td>\n",
              "      <td>No</td>\n",
              "    </tr>\n",
              "    <tr>\n",
              "      <th>9</th>\n",
              "      <td>France</td>\n",
              "      <td>37.000000</td>\n",
              "      <td>67000.000000</td>\n",
              "      <td>Yes</td>\n",
              "    </tr>\n",
              "  </tbody>\n",
              "</table>\n",
              "</div>"
            ],
            "text/plain": [
              "   Country        Age        Salary Purchased\n",
              "0   France  44.000000  72000.000000        No\n",
              "1    Spain  27.000000  48000.000000       Yes\n",
              "2  Germany  30.000000  54000.000000        No\n",
              "3    Spain  38.000000  61000.000000        No\n",
              "4  Germany  40.000000     38.777778       Yes\n",
              "5   France  35.000000  58000.000000       Yes\n",
              "6    Spain  38.777778  52000.000000        No\n",
              "7   France  48.000000  79000.000000       Yes\n",
              "8  Germany  50.000000  83000.000000        No\n",
              "9   France  37.000000  67000.000000       Yes"
            ]
          },
          "execution_count": 13,
          "metadata": {},
          "output_type": "execute_result"
        }
      ],
      "source": [
        "df2 = df.copy()\n",
        "# fill missing values with mean column values\n",
        "df2.fillna(df2['Age'].mean(), inplace=True)\n",
        "# count the number of NaN values in each column\n",
        "print(df2.isnull().sum())\n",
        "\n",
        "# interpolation: df.interpolation - ex: linear / timebased\n",
        "df2.interpolate()"
      ]
    },
    {
      "cell_type": "markdown",
      "metadata": {
        "id": "_y8hjYeU45RR"
      },
      "source": [
        "Using Scikit Learn:\n"
      ]
    },
    {
      "cell_type": "markdown",
      "metadata": {
        "id": "dXqzp-zF45RS"
      },
      "source": [
        "Filling the missing values:\n"
      ]
    },
    {
      "cell_type": "code",
      "execution_count": null,
      "metadata": {
        "execution": {
          "iopub.execute_input": "2023-12-31T10:03:43.549356Z",
          "iopub.status.busy": "2023-12-31T10:03:43.548873Z",
          "iopub.status.idle": "2023-12-31T10:03:43.573117Z",
          "shell.execute_reply": "2023-12-31T10:03:43.571579Z",
          "shell.execute_reply.started": "2023-12-31T10:03:43.549320Z"
        },
        "id": "eCAufppp45RS",
        "outputId": "10c4f640-bab5-46b0-e883-4a1976292f6a",
        "trusted": true
      },
      "outputs": [
        {
          "name": "stderr",
          "output_type": "stream",
          "text": [
            "C:\\Users\\DELL\\AppData\\Local\\Temp\\ipykernel_6848\\567396442.py:3: FutureWarning: DataFrame.fillna with 'method' is deprecated and will raise in a future version. Use obj.ffill() or obj.bfill() instead.\n",
            "  df1.fillna(method=\"ffill\")\n",
            "C:\\Users\\DELL\\AppData\\Local\\Temp\\ipykernel_6848\\567396442.py:7: FutureWarning: DataFrame.fillna with 'method' is deprecated and will raise in a future version. Use obj.ffill() or obj.bfill() instead.\n",
            "  df1.fillna(method=\"bfill\")\n",
            "C:\\Users\\DELL\\AppData\\Local\\Temp\\ipykernel_6848\\567396442.py:11: FutureWarning: DataFrame.interpolate with object dtype is deprecated and will raise in a future version. Call obj.infer_objects(copy=False) before interpolating instead.\n",
            "  df1.interpolate()\n"
          ]
        },
        {
          "data": {
            "text/html": [
              "<div>\n",
              "<style scoped>\n",
              "    .dataframe tbody tr th:only-of-type {\n",
              "        vertical-align: middle;\n",
              "    }\n",
              "\n",
              "    .dataframe tbody tr th {\n",
              "        vertical-align: top;\n",
              "    }\n",
              "\n",
              "    .dataframe thead th {\n",
              "        text-align: right;\n",
              "    }\n",
              "</style>\n",
              "<table border=\"1\" class=\"dataframe\">\n",
              "  <thead>\n",
              "    <tr style=\"text-align: right;\">\n",
              "      <th></th>\n",
              "      <th>Country</th>\n",
              "      <th>Age</th>\n",
              "      <th>Salary</th>\n",
              "      <th>Purchased</th>\n",
              "    </tr>\n",
              "  </thead>\n",
              "  <tbody>\n",
              "    <tr>\n",
              "      <th>0</th>\n",
              "      <td>France</td>\n",
              "      <td>44.0</td>\n",
              "      <td>72000.0</td>\n",
              "      <td>No</td>\n",
              "    </tr>\n",
              "    <tr>\n",
              "      <th>1</th>\n",
              "      <td>Spain</td>\n",
              "      <td>27.0</td>\n",
              "      <td>48000.0</td>\n",
              "      <td>Yes</td>\n",
              "    </tr>\n",
              "    <tr>\n",
              "      <th>2</th>\n",
              "      <td>Germany</td>\n",
              "      <td>30.0</td>\n",
              "      <td>54000.0</td>\n",
              "      <td>No</td>\n",
              "    </tr>\n",
              "    <tr>\n",
              "      <th>3</th>\n",
              "      <td>Spain</td>\n",
              "      <td>38.0</td>\n",
              "      <td>61000.0</td>\n",
              "      <td>No</td>\n",
              "    </tr>\n",
              "    <tr>\n",
              "      <th>5</th>\n",
              "      <td>France</td>\n",
              "      <td>35.0</td>\n",
              "      <td>58000.0</td>\n",
              "      <td>Yes</td>\n",
              "    </tr>\n",
              "    <tr>\n",
              "      <th>7</th>\n",
              "      <td>France</td>\n",
              "      <td>48.0</td>\n",
              "      <td>79000.0</td>\n",
              "      <td>Yes</td>\n",
              "    </tr>\n",
              "    <tr>\n",
              "      <th>8</th>\n",
              "      <td>Germany</td>\n",
              "      <td>50.0</td>\n",
              "      <td>83000.0</td>\n",
              "      <td>No</td>\n",
              "    </tr>\n",
              "    <tr>\n",
              "      <th>9</th>\n",
              "      <td>France</td>\n",
              "      <td>37.0</td>\n",
              "      <td>67000.0</td>\n",
              "      <td>Yes</td>\n",
              "    </tr>\n",
              "  </tbody>\n",
              "</table>\n",
              "</div>"
            ],
            "text/plain": [
              "   Country   Age   Salary Purchased\n",
              "0   France  44.0  72000.0        No\n",
              "1    Spain  27.0  48000.0       Yes\n",
              "2  Germany  30.0  54000.0        No\n",
              "3    Spain  38.0  61000.0        No\n",
              "5   France  35.0  58000.0       Yes\n",
              "7   France  48.0  79000.0       Yes\n",
              "8  Germany  50.0  83000.0        No\n",
              "9   France  37.0  67000.0       Yes"
            ]
          },
          "execution_count": 14,
          "metadata": {},
          "output_type": "execute_result"
        }
      ],
      "source": [
        "#Forward fill, fills the missing value with the values above it.\n",
        "\n",
        "df1.fillna(method=\"ffill\")\n",
        "\n",
        "#Back fill, fills the missing value with the values below it.\n",
        "\n",
        "df1.fillna(method=\"bfill\")\n",
        "\n",
        "#Interploation finds the average for the above and below value and uses the value to fill the missing value\n",
        "\n",
        "df1.interpolate()"
      ]
    },
    {
      "cell_type": "code",
      "execution_count": null,
      "metadata": {
        "execution": {
          "iopub.execute_input": "2023-12-31T10:03:43.574972Z",
          "iopub.status.busy": "2023-12-31T10:03:43.574595Z",
          "iopub.status.idle": "2023-12-31T10:03:43.585942Z",
          "shell.execute_reply": "2023-12-31T10:03:43.584338Z",
          "shell.execute_reply.started": "2023-12-31T10:03:43.574940Z"
        },
        "id": "DTl0M7nu45RS",
        "trusted": true
      },
      "outputs": [],
      "source": [
        "#to lowercase\n",
        "# df1.columns.str.lower()\n",
        "\n",
        "#to uppercase\n",
        "# df1.columns.str.upper()"
      ]
    },
    {
      "cell_type": "code",
      "execution_count": null,
      "metadata": {
        "execution": {
          "iopub.execute_input": "2023-12-31T10:03:43.588233Z",
          "iopub.status.busy": "2023-12-31T10:03:43.587823Z",
          "iopub.status.idle": "2023-12-31T10:03:43.609403Z",
          "shell.execute_reply": "2023-12-31T10:03:43.608481Z",
          "shell.execute_reply.started": "2023-12-31T10:03:43.588202Z"
        },
        "id": "0QtbvUqv45RS",
        "outputId": "dc41b652-ba0d-4636-e44f-86653a3f5638",
        "trusted": true
      },
      "outputs": [
        {
          "data": {
            "text/html": [
              "<div>\n",
              "<style scoped>\n",
              "    .dataframe tbody tr th:only-of-type {\n",
              "        vertical-align: middle;\n",
              "    }\n",
              "\n",
              "    .dataframe tbody tr th {\n",
              "        vertical-align: top;\n",
              "    }\n",
              "\n",
              "    .dataframe thead th {\n",
              "        text-align: right;\n",
              "    }\n",
              "</style>\n",
              "<table border=\"1\" class=\"dataframe\">\n",
              "  <thead>\n",
              "    <tr style=\"text-align: right;\">\n",
              "      <th></th>\n",
              "      <th>Country</th>\n",
              "      <th>Age</th>\n",
              "      <th>Salary</th>\n",
              "      <th>Bought</th>\n",
              "    </tr>\n",
              "  </thead>\n",
              "  <tbody>\n",
              "    <tr>\n",
              "      <th>0</th>\n",
              "      <td>France</td>\n",
              "      <td>44.0</td>\n",
              "      <td>72000.0</td>\n",
              "      <td>No</td>\n",
              "    </tr>\n",
              "    <tr>\n",
              "      <th>1</th>\n",
              "      <td>Spain</td>\n",
              "      <td>27.0</td>\n",
              "      <td>48000.0</td>\n",
              "      <td>Yes</td>\n",
              "    </tr>\n",
              "    <tr>\n",
              "      <th>2</th>\n",
              "      <td>Germany</td>\n",
              "      <td>30.0</td>\n",
              "      <td>54000.0</td>\n",
              "      <td>No</td>\n",
              "    </tr>\n",
              "    <tr>\n",
              "      <th>3</th>\n",
              "      <td>Spain</td>\n",
              "      <td>38.0</td>\n",
              "      <td>61000.0</td>\n",
              "      <td>No</td>\n",
              "    </tr>\n",
              "    <tr>\n",
              "      <th>5</th>\n",
              "      <td>France</td>\n",
              "      <td>35.0</td>\n",
              "      <td>58000.0</td>\n",
              "      <td>Yes</td>\n",
              "    </tr>\n",
              "    <tr>\n",
              "      <th>7</th>\n",
              "      <td>France</td>\n",
              "      <td>48.0</td>\n",
              "      <td>79000.0</td>\n",
              "      <td>Yes</td>\n",
              "    </tr>\n",
              "    <tr>\n",
              "      <th>8</th>\n",
              "      <td>Germany</td>\n",
              "      <td>50.0</td>\n",
              "      <td>83000.0</td>\n",
              "      <td>No</td>\n",
              "    </tr>\n",
              "    <tr>\n",
              "      <th>9</th>\n",
              "      <td>France</td>\n",
              "      <td>37.0</td>\n",
              "      <td>67000.0</td>\n",
              "      <td>Yes</td>\n",
              "    </tr>\n",
              "  </tbody>\n",
              "</table>\n",
              "</div>"
            ],
            "text/plain": [
              "   Country   Age   Salary Bought\n",
              "0   France  44.0  72000.0     No\n",
              "1    Spain  27.0  48000.0    Yes\n",
              "2  Germany  30.0  54000.0     No\n",
              "3    Spain  38.0  61000.0     No\n",
              "5   France  35.0  58000.0    Yes\n",
              "7   France  48.0  79000.0    Yes\n",
              "8  Germany  50.0  83000.0     No\n",
              "9   France  37.0  67000.0    Yes"
            ]
          },
          "execution_count": 16,
          "metadata": {},
          "output_type": "execute_result"
        }
      ],
      "source": [
        "df1.rename(columns={\"Purchased\": \"Bought\"},inplace=True)\n",
        "df1"
      ]
    },
    {
      "cell_type": "code",
      "execution_count": null,
      "metadata": {
        "execution": {
          "iopub.execute_input": "2023-12-31T10:03:43.611451Z",
          "iopub.status.busy": "2023-12-31T10:03:43.611054Z",
          "iopub.status.idle": "2023-12-31T10:03:43.627611Z",
          "shell.execute_reply": "2023-12-31T10:03:43.626162Z",
          "shell.execute_reply.started": "2023-12-31T10:03:43.611420Z"
        },
        "id": "ttEPh3P845RT",
        "outputId": "3fbfa1ae-b176-4116-dde6-aca47c3898d8",
        "trusted": true
      },
      "outputs": [
        {
          "name": "stdout",
          "output_type": "stream",
          "text": [
            "Shape of the data frame:  (150, 6)\n",
            "Total null values:  Id               0\n",
            "SepalLengthCm    0\n",
            "SepalWidthCm     0\n",
            "PetalLengthCm    0\n",
            "PetalWidthCm     0\n",
            "Species          0\n",
            "dtype: int64\n",
            "Duplicate values:  0\n"
          ]
        }
      ],
      "source": [
        "print(\"Shape of the data frame: \",iris_df.shape)\n",
        "print(\"Total null values: \",iris_df.isna().sum())\n",
        "print(\"Duplicate values: \",iris_df.duplicated().sum())\n"
      ]
    },
    {
      "cell_type": "markdown",
      "metadata": {
        "id": "_XTtT9pS45RT"
      },
      "source": [
        "# Handling Categorical Data"
      ]
    },
    {
      "cell_type": "code",
      "execution_count": null,
      "metadata": {
        "execution": {
          "iopub.execute_input": "2023-12-31T10:03:43.629794Z",
          "iopub.status.busy": "2023-12-31T10:03:43.629261Z",
          "iopub.status.idle": "2023-12-31T10:03:43.716021Z",
          "shell.execute_reply": "2023-12-31T10:03:43.713937Z",
          "shell.execute_reply.started": "2023-12-31T10:03:43.629763Z"
        },
        "id": "AjsHPztr45RT",
        "outputId": "640745fd-039a-46e2-f26b-4760ba1f627f",
        "trusted": true
      },
      "outputs": [
        {
          "name": "stdout",
          "output_type": "stream",
          "text": [
            "Country\n",
            "France     4\n",
            "Spain      3\n",
            "Germany    3\n",
            "Name: count, dtype: int64\n"
          ]
        },
        {
          "data": {
            "application/vnd.plotly.v1+json": {
              "config": {
                "plotlyServerURL": "https://plot.ly"
              },
              "data": [
                {
                  "alignmentgroup": "True",
                  "hovertemplate": "x=%{x}<br>y=%{y}<extra></extra>",
                  "legendgroup": "",
                  "marker": {
                    "color": "#636efa",
                    "pattern": {
                      "shape": ""
                    }
                  },
                  "name": "",
                  "offsetgroup": "",
                  "orientation": "v",
                  "showlegend": false,
                  "textposition": "auto",
                  "type": "bar",
                  "x": [
                    "France",
                    "Spain",
                    "Germany"
                  ],
                  "xaxis": "x",
                  "y": [
                    4,
                    3,
                    3
                  ],
                  "yaxis": "y"
                }
              ],
              "layout": {
                "barmode": "relative",
                "legend": {
                  "tracegroupgap": 0
                },
                "margin": {
                  "t": 60
                },
                "template": {
                  "data": {
                    "bar": [
                      {
                        "error_x": {
                          "color": "#2a3f5f"
                        },
                        "error_y": {
                          "color": "#2a3f5f"
                        },
                        "marker": {
                          "line": {
                            "color": "#E5ECF6",
                            "width": 0.5
                          },
                          "pattern": {
                            "fillmode": "overlay",
                            "size": 10,
                            "solidity": 0.2
                          }
                        },
                        "type": "bar"
                      }
                    ],
                    "barpolar": [
                      {
                        "marker": {
                          "line": {
                            "color": "#E5ECF6",
                            "width": 0.5
                          },
                          "pattern": {
                            "fillmode": "overlay",
                            "size": 10,
                            "solidity": 0.2
                          }
                        },
                        "type": "barpolar"
                      }
                    ],
                    "carpet": [
                      {
                        "aaxis": {
                          "endlinecolor": "#2a3f5f",
                          "gridcolor": "white",
                          "linecolor": "white",
                          "minorgridcolor": "white",
                          "startlinecolor": "#2a3f5f"
                        },
                        "baxis": {
                          "endlinecolor": "#2a3f5f",
                          "gridcolor": "white",
                          "linecolor": "white",
                          "minorgridcolor": "white",
                          "startlinecolor": "#2a3f5f"
                        },
                        "type": "carpet"
                      }
                    ],
                    "choropleth": [
                      {
                        "colorbar": {
                          "outlinewidth": 0,
                          "ticks": ""
                        },
                        "type": "choropleth"
                      }
                    ],
                    "contour": [
                      {
                        "colorbar": {
                          "outlinewidth": 0,
                          "ticks": ""
                        },
                        "colorscale": [
                          [
                            0,
                            "#0d0887"
                          ],
                          [
                            0.1111111111111111,
                            "#46039f"
                          ],
                          [
                            0.2222222222222222,
                            "#7201a8"
                          ],
                          [
                            0.3333333333333333,
                            "#9c179e"
                          ],
                          [
                            0.4444444444444444,
                            "#bd3786"
                          ],
                          [
                            0.5555555555555556,
                            "#d8576b"
                          ],
                          [
                            0.6666666666666666,
                            "#ed7953"
                          ],
                          [
                            0.7777777777777778,
                            "#fb9f3a"
                          ],
                          [
                            0.8888888888888888,
                            "#fdca26"
                          ],
                          [
                            1,
                            "#f0f921"
                          ]
                        ],
                        "type": "contour"
                      }
                    ],
                    "contourcarpet": [
                      {
                        "colorbar": {
                          "outlinewidth": 0,
                          "ticks": ""
                        },
                        "type": "contourcarpet"
                      }
                    ],
                    "heatmap": [
                      {
                        "colorbar": {
                          "outlinewidth": 0,
                          "ticks": ""
                        },
                        "colorscale": [
                          [
                            0,
                            "#0d0887"
                          ],
                          [
                            0.1111111111111111,
                            "#46039f"
                          ],
                          [
                            0.2222222222222222,
                            "#7201a8"
                          ],
                          [
                            0.3333333333333333,
                            "#9c179e"
                          ],
                          [
                            0.4444444444444444,
                            "#bd3786"
                          ],
                          [
                            0.5555555555555556,
                            "#d8576b"
                          ],
                          [
                            0.6666666666666666,
                            "#ed7953"
                          ],
                          [
                            0.7777777777777778,
                            "#fb9f3a"
                          ],
                          [
                            0.8888888888888888,
                            "#fdca26"
                          ],
                          [
                            1,
                            "#f0f921"
                          ]
                        ],
                        "type": "heatmap"
                      }
                    ],
                    "heatmapgl": [
                      {
                        "colorbar": {
                          "outlinewidth": 0,
                          "ticks": ""
                        },
                        "colorscale": [
                          [
                            0,
                            "#0d0887"
                          ],
                          [
                            0.1111111111111111,
                            "#46039f"
                          ],
                          [
                            0.2222222222222222,
                            "#7201a8"
                          ],
                          [
                            0.3333333333333333,
                            "#9c179e"
                          ],
                          [
                            0.4444444444444444,
                            "#bd3786"
                          ],
                          [
                            0.5555555555555556,
                            "#d8576b"
                          ],
                          [
                            0.6666666666666666,
                            "#ed7953"
                          ],
                          [
                            0.7777777777777778,
                            "#fb9f3a"
                          ],
                          [
                            0.8888888888888888,
                            "#fdca26"
                          ],
                          [
                            1,
                            "#f0f921"
                          ]
                        ],
                        "type": "heatmapgl"
                      }
                    ],
                    "histogram": [
                      {
                        "marker": {
                          "pattern": {
                            "fillmode": "overlay",
                            "size": 10,
                            "solidity": 0.2
                          }
                        },
                        "type": "histogram"
                      }
                    ],
                    "histogram2d": [
                      {
                        "colorbar": {
                          "outlinewidth": 0,
                          "ticks": ""
                        },
                        "colorscale": [
                          [
                            0,
                            "#0d0887"
                          ],
                          [
                            0.1111111111111111,
                            "#46039f"
                          ],
                          [
                            0.2222222222222222,
                            "#7201a8"
                          ],
                          [
                            0.3333333333333333,
                            "#9c179e"
                          ],
                          [
                            0.4444444444444444,
                            "#bd3786"
                          ],
                          [
                            0.5555555555555556,
                            "#d8576b"
                          ],
                          [
                            0.6666666666666666,
                            "#ed7953"
                          ],
                          [
                            0.7777777777777778,
                            "#fb9f3a"
                          ],
                          [
                            0.8888888888888888,
                            "#fdca26"
                          ],
                          [
                            1,
                            "#f0f921"
                          ]
                        ],
                        "type": "histogram2d"
                      }
                    ],
                    "histogram2dcontour": [
                      {
                        "colorbar": {
                          "outlinewidth": 0,
                          "ticks": ""
                        },
                        "colorscale": [
                          [
                            0,
                            "#0d0887"
                          ],
                          [
                            0.1111111111111111,
                            "#46039f"
                          ],
                          [
                            0.2222222222222222,
                            "#7201a8"
                          ],
                          [
                            0.3333333333333333,
                            "#9c179e"
                          ],
                          [
                            0.4444444444444444,
                            "#bd3786"
                          ],
                          [
                            0.5555555555555556,
                            "#d8576b"
                          ],
                          [
                            0.6666666666666666,
                            "#ed7953"
                          ],
                          [
                            0.7777777777777778,
                            "#fb9f3a"
                          ],
                          [
                            0.8888888888888888,
                            "#fdca26"
                          ],
                          [
                            1,
                            "#f0f921"
                          ]
                        ],
                        "type": "histogram2dcontour"
                      }
                    ],
                    "mesh3d": [
                      {
                        "colorbar": {
                          "outlinewidth": 0,
                          "ticks": ""
                        },
                        "type": "mesh3d"
                      }
                    ],
                    "parcoords": [
                      {
                        "line": {
                          "colorbar": {
                            "outlinewidth": 0,
                            "ticks": ""
                          }
                        },
                        "type": "parcoords"
                      }
                    ],
                    "pie": [
                      {
                        "automargin": true,
                        "type": "pie"
                      }
                    ],
                    "scatter": [
                      {
                        "fillpattern": {
                          "fillmode": "overlay",
                          "size": 10,
                          "solidity": 0.2
                        },
                        "type": "scatter"
                      }
                    ],
                    "scatter3d": [
                      {
                        "line": {
                          "colorbar": {
                            "outlinewidth": 0,
                            "ticks": ""
                          }
                        },
                        "marker": {
                          "colorbar": {
                            "outlinewidth": 0,
                            "ticks": ""
                          }
                        },
                        "type": "scatter3d"
                      }
                    ],
                    "scattercarpet": [
                      {
                        "marker": {
                          "colorbar": {
                            "outlinewidth": 0,
                            "ticks": ""
                          }
                        },
                        "type": "scattercarpet"
                      }
                    ],
                    "scattergeo": [
                      {
                        "marker": {
                          "colorbar": {
                            "outlinewidth": 0,
                            "ticks": ""
                          }
                        },
                        "type": "scattergeo"
                      }
                    ],
                    "scattergl": [
                      {
                        "marker": {
                          "colorbar": {
                            "outlinewidth": 0,
                            "ticks": ""
                          }
                        },
                        "type": "scattergl"
                      }
                    ],
                    "scattermapbox": [
                      {
                        "marker": {
                          "colorbar": {
                            "outlinewidth": 0,
                            "ticks": ""
                          }
                        },
                        "type": "scattermapbox"
                      }
                    ],
                    "scatterpolar": [
                      {
                        "marker": {
                          "colorbar": {
                            "outlinewidth": 0,
                            "ticks": ""
                          }
                        },
                        "type": "scatterpolar"
                      }
                    ],
                    "scatterpolargl": [
                      {
                        "marker": {
                          "colorbar": {
                            "outlinewidth": 0,
                            "ticks": ""
                          }
                        },
                        "type": "scatterpolargl"
                      }
                    ],
                    "scatterternary": [
                      {
                        "marker": {
                          "colorbar": {
                            "outlinewidth": 0,
                            "ticks": ""
                          }
                        },
                        "type": "scatterternary"
                      }
                    ],
                    "surface": [
                      {
                        "colorbar": {
                          "outlinewidth": 0,
                          "ticks": ""
                        },
                        "colorscale": [
                          [
                            0,
                            "#0d0887"
                          ],
                          [
                            0.1111111111111111,
                            "#46039f"
                          ],
                          [
                            0.2222222222222222,
                            "#7201a8"
                          ],
                          [
                            0.3333333333333333,
                            "#9c179e"
                          ],
                          [
                            0.4444444444444444,
                            "#bd3786"
                          ],
                          [
                            0.5555555555555556,
                            "#d8576b"
                          ],
                          [
                            0.6666666666666666,
                            "#ed7953"
                          ],
                          [
                            0.7777777777777778,
                            "#fb9f3a"
                          ],
                          [
                            0.8888888888888888,
                            "#fdca26"
                          ],
                          [
                            1,
                            "#f0f921"
                          ]
                        ],
                        "type": "surface"
                      }
                    ],
                    "table": [
                      {
                        "cells": {
                          "fill": {
                            "color": "#EBF0F8"
                          },
                          "line": {
                            "color": "white"
                          }
                        },
                        "header": {
                          "fill": {
                            "color": "#C8D4E3"
                          },
                          "line": {
                            "color": "white"
                          }
                        },
                        "type": "table"
                      }
                    ]
                  },
                  "layout": {
                    "annotationdefaults": {
                      "arrowcolor": "#2a3f5f",
                      "arrowhead": 0,
                      "arrowwidth": 1
                    },
                    "autotypenumbers": "strict",
                    "coloraxis": {
                      "colorbar": {
                        "outlinewidth": 0,
                        "ticks": ""
                      }
                    },
                    "colorscale": {
                      "diverging": [
                        [
                          0,
                          "#8e0152"
                        ],
                        [
                          0.1,
                          "#c51b7d"
                        ],
                        [
                          0.2,
                          "#de77ae"
                        ],
                        [
                          0.3,
                          "#f1b6da"
                        ],
                        [
                          0.4,
                          "#fde0ef"
                        ],
                        [
                          0.5,
                          "#f7f7f7"
                        ],
                        [
                          0.6,
                          "#e6f5d0"
                        ],
                        [
                          0.7,
                          "#b8e186"
                        ],
                        [
                          0.8,
                          "#7fbc41"
                        ],
                        [
                          0.9,
                          "#4d9221"
                        ],
                        [
                          1,
                          "#276419"
                        ]
                      ],
                      "sequential": [
                        [
                          0,
                          "#0d0887"
                        ],
                        [
                          0.1111111111111111,
                          "#46039f"
                        ],
                        [
                          0.2222222222222222,
                          "#7201a8"
                        ],
                        [
                          0.3333333333333333,
                          "#9c179e"
                        ],
                        [
                          0.4444444444444444,
                          "#bd3786"
                        ],
                        [
                          0.5555555555555556,
                          "#d8576b"
                        ],
                        [
                          0.6666666666666666,
                          "#ed7953"
                        ],
                        [
                          0.7777777777777778,
                          "#fb9f3a"
                        ],
                        [
                          0.8888888888888888,
                          "#fdca26"
                        ],
                        [
                          1,
                          "#f0f921"
                        ]
                      ],
                      "sequentialminus": [
                        [
                          0,
                          "#0d0887"
                        ],
                        [
                          0.1111111111111111,
                          "#46039f"
                        ],
                        [
                          0.2222222222222222,
                          "#7201a8"
                        ],
                        [
                          0.3333333333333333,
                          "#9c179e"
                        ],
                        [
                          0.4444444444444444,
                          "#bd3786"
                        ],
                        [
                          0.5555555555555556,
                          "#d8576b"
                        ],
                        [
                          0.6666666666666666,
                          "#ed7953"
                        ],
                        [
                          0.7777777777777778,
                          "#fb9f3a"
                        ],
                        [
                          0.8888888888888888,
                          "#fdca26"
                        ],
                        [
                          1,
                          "#f0f921"
                        ]
                      ]
                    },
                    "colorway": [
                      "#636efa",
                      "#EF553B",
                      "#00cc96",
                      "#ab63fa",
                      "#FFA15A",
                      "#19d3f3",
                      "#FF6692",
                      "#B6E880",
                      "#FF97FF",
                      "#FECB52"
                    ],
                    "font": {
                      "color": "#2a3f5f"
                    },
                    "geo": {
                      "bgcolor": "white",
                      "lakecolor": "white",
                      "landcolor": "#E5ECF6",
                      "showlakes": true,
                      "showland": true,
                      "subunitcolor": "white"
                    },
                    "hoverlabel": {
                      "align": "left"
                    },
                    "hovermode": "closest",
                    "mapbox": {
                      "style": "light"
                    },
                    "paper_bgcolor": "white",
                    "plot_bgcolor": "#E5ECF6",
                    "polar": {
                      "angularaxis": {
                        "gridcolor": "white",
                        "linecolor": "white",
                        "ticks": ""
                      },
                      "bgcolor": "#E5ECF6",
                      "radialaxis": {
                        "gridcolor": "white",
                        "linecolor": "white",
                        "ticks": ""
                      }
                    },
                    "scene": {
                      "xaxis": {
                        "backgroundcolor": "#E5ECF6",
                        "gridcolor": "white",
                        "gridwidth": 2,
                        "linecolor": "white",
                        "showbackground": true,
                        "ticks": "",
                        "zerolinecolor": "white"
                      },
                      "yaxis": {
                        "backgroundcolor": "#E5ECF6",
                        "gridcolor": "white",
                        "gridwidth": 2,
                        "linecolor": "white",
                        "showbackground": true,
                        "ticks": "",
                        "zerolinecolor": "white"
                      },
                      "zaxis": {
                        "backgroundcolor": "#E5ECF6",
                        "gridcolor": "white",
                        "gridwidth": 2,
                        "linecolor": "white",
                        "showbackground": true,
                        "ticks": "",
                        "zerolinecolor": "white"
                      }
                    },
                    "shapedefaults": {
                      "line": {
                        "color": "#2a3f5f"
                      }
                    },
                    "ternary": {
                      "aaxis": {
                        "gridcolor": "white",
                        "linecolor": "white",
                        "ticks": ""
                      },
                      "baxis": {
                        "gridcolor": "white",
                        "linecolor": "white",
                        "ticks": ""
                      },
                      "bgcolor": "#E5ECF6",
                      "caxis": {
                        "gridcolor": "white",
                        "linecolor": "white",
                        "ticks": ""
                      }
                    },
                    "title": {
                      "x": 0.05
                    },
                    "xaxis": {
                      "automargin": true,
                      "gridcolor": "white",
                      "linecolor": "white",
                      "ticks": "",
                      "title": {
                        "standoff": 15
                      },
                      "zerolinecolor": "white",
                      "zerolinewidth": 2
                    },
                    "yaxis": {
                      "automargin": true,
                      "gridcolor": "white",
                      "linecolor": "white",
                      "ticks": "",
                      "title": {
                        "standoff": 15
                      },
                      "zerolinecolor": "white",
                      "zerolinewidth": 2
                    }
                  }
                },
                "xaxis": {
                  "anchor": "y",
                  "domain": [
                    0,
                    1
                  ],
                  "title": {
                    "text": "x"
                  }
                },
                "yaxis": {
                  "anchor": "x",
                  "domain": [
                    0,
                    1
                  ],
                  "title": {
                    "text": "y"
                  }
                }
              }
            }
          },
          "metadata": {},
          "output_type": "display_data"
        }
      ],
      "source": [
        "import plotly.express as px\n",
        "# check value counts of Species column\n",
        "df1\n",
        "iris_counts = df['Country'].value_counts()\n",
        "print(iris_counts)\n",
        "fig = px.bar(x=iris_counts.index, y=iris_counts.values)\n",
        "fig.show()\n"
      ]
    },
    {
      "cell_type": "markdown",
      "metadata": {
        "id": "vCOw168s45RU"
      },
      "source": []
    },
    {
      "cell_type": "code",
      "execution_count": null,
      "metadata": {
        "execution": {
          "iopub.execute_input": "2023-12-31T10:03:43.718500Z",
          "iopub.status.busy": "2023-12-31T10:03:43.718081Z",
          "iopub.status.idle": "2023-12-31T10:03:43.739160Z",
          "shell.execute_reply": "2023-12-31T10:03:43.736935Z",
          "shell.execute_reply.started": "2023-12-31T10:03:43.718468Z"
        },
        "id": "QDgOiB2045RU",
        "outputId": "b36d456b-8ad3-44a5-832c-92c2110e1911",
        "trusted": true
      },
      "outputs": [
        {
          "data": {
            "text/html": [
              "<div>\n",
              "<style scoped>\n",
              "    .dataframe tbody tr th:only-of-type {\n",
              "        vertical-align: middle;\n",
              "    }\n",
              "\n",
              "    .dataframe tbody tr th {\n",
              "        vertical-align: top;\n",
              "    }\n",
              "\n",
              "    .dataframe thead th {\n",
              "        text-align: right;\n",
              "    }\n",
              "</style>\n",
              "<table border=\"1\" class=\"dataframe\">\n",
              "  <thead>\n",
              "    <tr style=\"text-align: right;\">\n",
              "      <th></th>\n",
              "      <th>Id</th>\n",
              "      <th>SepalLengthCm</th>\n",
              "      <th>SepalWidthCm</th>\n",
              "      <th>PetalLengthCm</th>\n",
              "      <th>PetalWidthCm</th>\n",
              "    </tr>\n",
              "    <tr>\n",
              "      <th>Species</th>\n",
              "      <th></th>\n",
              "      <th></th>\n",
              "      <th></th>\n",
              "      <th></th>\n",
              "      <th></th>\n",
              "    </tr>\n",
              "  </thead>\n",
              "  <tbody>\n",
              "    <tr>\n",
              "      <th>Iris-setosa</th>\n",
              "      <td>25.5</td>\n",
              "      <td>5.006</td>\n",
              "      <td>3.418</td>\n",
              "      <td>1.464</td>\n",
              "      <td>0.244</td>\n",
              "    </tr>\n",
              "    <tr>\n",
              "      <th>Iris-versicolor</th>\n",
              "      <td>75.5</td>\n",
              "      <td>5.936</td>\n",
              "      <td>2.770</td>\n",
              "      <td>4.260</td>\n",
              "      <td>1.326</td>\n",
              "    </tr>\n",
              "    <tr>\n",
              "      <th>Iris-virginica</th>\n",
              "      <td>125.5</td>\n",
              "      <td>6.588</td>\n",
              "      <td>2.974</td>\n",
              "      <td>5.552</td>\n",
              "      <td>2.026</td>\n",
              "    </tr>\n",
              "  </tbody>\n",
              "</table>\n",
              "</div>"
            ],
            "text/plain": [
              "                    Id  SepalLengthCm  SepalWidthCm  PetalLengthCm  \\\n",
              "Species                                                              \n",
              "Iris-setosa       25.5          5.006         3.418          1.464   \n",
              "Iris-versicolor   75.5          5.936         2.770          4.260   \n",
              "Iris-virginica   125.5          6.588         2.974          5.552   \n",
              "\n",
              "                 PetalWidthCm  \n",
              "Species                        \n",
              "Iris-setosa             0.244  \n",
              "Iris-versicolor         1.326  \n",
              "Iris-virginica          2.026  "
            ]
          },
          "execution_count": 19,
          "metadata": {},
          "output_type": "execute_result"
        }
      ],
      "source": [
        "iris_df.groupby(by = 'Species').mean()"
      ]
    },
    {
      "cell_type": "markdown",
      "metadata": {
        "id": "rggsKHAi45RU"
      },
      "source": [
        "**One-hot encoding**"
      ]
    },
    {
      "cell_type": "markdown",
      "metadata": {
        "id": "K0No2Wo045RU"
      },
      "source": [
        "One hot encoding is a process of representing categorical data as a set of binary values, where each category is mapped to a unique binary value. In this representation, only one bit is set to 1, and the rest are set to 0, hence the name \"one hot.\" This is commonly used in machine learning to convert categorical data into a format that algorithms can process.\n",
        "\n",
        "![](https://miro.medium.com/v2/resize:fit:1200/1*ggtP4a5YaRx6l09KQaYOnw.png)"
      ]
    },
    {
      "cell_type": "code",
      "execution_count": null,
      "metadata": {
        "execution": {
          "iopub.execute_input": "2023-12-31T10:03:43.741964Z",
          "iopub.status.busy": "2023-12-31T10:03:43.741337Z",
          "iopub.status.idle": "2023-12-31T10:03:43.773056Z",
          "shell.execute_reply": "2023-12-31T10:03:43.771685Z",
          "shell.execute_reply.started": "2023-12-31T10:03:43.741917Z"
        },
        "id": "JThScAV245RV",
        "outputId": "58c89d81-4f86-436e-9673-2f15aa4c0c3a",
        "trusted": true
      },
      "outputs": [
        {
          "name": "stdout",
          "output_type": "stream",
          "text": [
            "dummies:\n",
            "   France  Germany  Spain\n",
            "0    True    False  False\n",
            "1   False    False   True\n",
            "2   False     True  False\n",
            "3   False    False   True\n",
            "5    True    False  False\n",
            "7    True    False  False\n",
            "8   False     True  False\n",
            "9    True    False  False\n"
          ]
        },
        {
          "data": {
            "text/html": [
              "<div>\n",
              "<style scoped>\n",
              "    .dataframe tbody tr th:only-of-type {\n",
              "        vertical-align: middle;\n",
              "    }\n",
              "\n",
              "    .dataframe tbody tr th {\n",
              "        vertical-align: top;\n",
              "    }\n",
              "\n",
              "    .dataframe thead th {\n",
              "        text-align: right;\n",
              "    }\n",
              "</style>\n",
              "<table border=\"1\" class=\"dataframe\">\n",
              "  <thead>\n",
              "    <tr style=\"text-align: right;\">\n",
              "      <th></th>\n",
              "      <th>Id</th>\n",
              "      <th>SepalLengthCm</th>\n",
              "      <th>SepalWidthCm</th>\n",
              "      <th>PetalLengthCm</th>\n",
              "      <th>PetalWidthCm</th>\n",
              "      <th>Species</th>\n",
              "      <th>France</th>\n",
              "      <th>Germany</th>\n",
              "      <th>Spain</th>\n",
              "    </tr>\n",
              "  </thead>\n",
              "  <tbody>\n",
              "    <tr>\n",
              "      <th>145</th>\n",
              "      <td>146</td>\n",
              "      <td>6.7</td>\n",
              "      <td>3.0</td>\n",
              "      <td>5.2</td>\n",
              "      <td>2.3</td>\n",
              "      <td>2</td>\n",
              "      <td>NaN</td>\n",
              "      <td>NaN</td>\n",
              "      <td>NaN</td>\n",
              "    </tr>\n",
              "    <tr>\n",
              "      <th>146</th>\n",
              "      <td>147</td>\n",
              "      <td>6.3</td>\n",
              "      <td>2.5</td>\n",
              "      <td>5.0</td>\n",
              "      <td>1.9</td>\n",
              "      <td>2</td>\n",
              "      <td>NaN</td>\n",
              "      <td>NaN</td>\n",
              "      <td>NaN</td>\n",
              "    </tr>\n",
              "    <tr>\n",
              "      <th>147</th>\n",
              "      <td>148</td>\n",
              "      <td>6.5</td>\n",
              "      <td>3.0</td>\n",
              "      <td>5.2</td>\n",
              "      <td>2.0</td>\n",
              "      <td>2</td>\n",
              "      <td>NaN</td>\n",
              "      <td>NaN</td>\n",
              "      <td>NaN</td>\n",
              "    </tr>\n",
              "    <tr>\n",
              "      <th>148</th>\n",
              "      <td>149</td>\n",
              "      <td>6.2</td>\n",
              "      <td>3.4</td>\n",
              "      <td>5.4</td>\n",
              "      <td>2.3</td>\n",
              "      <td>2</td>\n",
              "      <td>NaN</td>\n",
              "      <td>NaN</td>\n",
              "      <td>NaN</td>\n",
              "    </tr>\n",
              "    <tr>\n",
              "      <th>149</th>\n",
              "      <td>150</td>\n",
              "      <td>5.9</td>\n",
              "      <td>3.0</td>\n",
              "      <td>5.1</td>\n",
              "      <td>1.8</td>\n",
              "      <td>2</td>\n",
              "      <td>NaN</td>\n",
              "      <td>NaN</td>\n",
              "      <td>NaN</td>\n",
              "    </tr>\n",
              "  </tbody>\n",
              "</table>\n",
              "</div>"
            ],
            "text/plain": [
              "      Id  SepalLengthCm  SepalWidthCm  PetalLengthCm  PetalWidthCm  Species  \\\n",
              "145  146            6.7           3.0            5.2           2.3        2   \n",
              "146  147            6.3           2.5            5.0           1.9        2   \n",
              "147  148            6.5           3.0            5.2           2.0        2   \n",
              "148  149            6.2           3.4            5.4           2.3        2   \n",
              "149  150            5.9           3.0            5.1           1.8        2   \n",
              "\n",
              "    France Germany Spain  \n",
              "145    NaN     NaN   NaN  \n",
              "146    NaN     NaN   NaN  \n",
              "147    NaN     NaN   NaN  \n",
              "148    NaN     NaN   NaN  \n",
              "149    NaN     NaN   NaN  "
            ]
          },
          "execution_count": 46,
          "metadata": {},
          "output_type": "execute_result"
        }
      ],
      "source": [
        "df_encoded = pd.get_dummies(iris_df[\"Species\"])\n",
        "df_encoded .head()\n",
        "\n",
        "\n",
        "iris_df['Species'].value_counts()\n",
        "\n",
        "dummies = pd.get_dummies(iris_df.Species)\n",
        "dummies = pd.get_dummies(df1['Country'])\n",
        "print(\"dummies:\")\n",
        "print(dummies)\n",
        "\n",
        "#Concate the newly created dummy variables with the loaded data and store in merged_data\n",
        "merged_data = pd.concat([iris_df,dummies], axis=1)\n",
        "#Display merged_data\n",
        "merged_data.tail()"
      ]
    },
    {
      "cell_type": "code",
      "execution_count": null,
      "metadata": {
        "execution": {
          "iopub.execute_input": "2023-12-31T10:03:43.775472Z",
          "iopub.status.busy": "2023-12-31T10:03:43.774701Z",
          "iopub.status.idle": "2023-12-31T10:03:43.791241Z",
          "shell.execute_reply": "2023-12-31T10:03:43.789710Z",
          "shell.execute_reply.started": "2023-12-31T10:03:43.775428Z"
        },
        "id": "AjLjrDA945RV",
        "outputId": "ae1b6d59-4df5-427a-ff9a-226b4f308b05",
        "trusted": true
      },
      "outputs": [
        {
          "data": {
            "text/plain": [
              "array([[1, 0, 0],\n",
              "       [1, 0, 0],\n",
              "       [0, 0, 1],\n",
              "       [1, 0, 0],\n",
              "       [1, 0, 0],\n",
              "       [1, 0, 0],\n",
              "       [0, 0, 1],\n",
              "       [0, 1, 0],\n",
              "       [0, 0, 1],\n",
              "       [0, 1, 0],\n",
              "       [0, 0, 1]])"
            ]
          },
          "execution_count": 21,
          "metadata": {},
          "output_type": "execute_result"
        }
      ],
      "source": [
        "# This LabelBinarizer class is one of the preprcocessing techniques that is defined in the preprocessing module\n",
        "# the main function that is transforming the labeled text data of the target into binary coded numbers so that the knn classifier will be able to deal with it\n",
        "from sklearn.preprocessing import LabelBinarizer\n",
        "from sklearn.neighbors import KNeighborsClassifier\n",
        "\n",
        "label_binarizer = LabelBinarizer()\n",
        "y_train=[\"setosa\",\"setosa\",\"virginica\",\"setosa\",\"setosa\",\"setosa\",\"virginica\",\"versicolor\",\"virginica\",\"versicolor\",\"virginica\"]\n",
        "# fitting means perform the calculation of the algorithm like that label binarizer one and transform means transforming the data after fitting directly and return the final shape of encoded data\n",
        "# encoded_y_train = label_encoding.fit_transform(iris_df.Species)\n",
        "encoded_y_train = label_binarizer.fit_transform(y_train)\n",
        "\n",
        "encoded_y_train"
      ]
    },
    {
      "cell_type": "markdown",
      "metadata": {
        "id": "5wYgJQu045RV"
      },
      "source": [
        "LabelBinarizer is specifically designed for binary classification tasks and outputs a binary array for each sample.\n",
        "\n",
        "One-hot encoding is a more general technique suitable for handling categorical variables with multiple categories, and it outputs a binary matrix."
      ]
    },
    {
      "cell_type": "markdown",
      "metadata": {
        "id": "3gpKyp6K45RW"
      },
      "source": [
        "**label encoding**"
      ]
    },
    {
      "cell_type": "code",
      "execution_count": null,
      "metadata": {
        "execution": {
          "iopub.execute_input": "2023-12-31T10:03:43.793023Z",
          "iopub.status.busy": "2023-12-31T10:03:43.792686Z",
          "iopub.status.idle": "2023-12-31T10:03:43.809612Z",
          "shell.execute_reply": "2023-12-31T10:03:43.808357Z",
          "shell.execute_reply.started": "2023-12-31T10:03:43.792995Z"
        },
        "id": "c34vsNAh45RW",
        "outputId": "10c1c0fc-e89b-40fa-ab6d-6347588dd7cf",
        "trusted": true
      },
      "outputs": [
        {
          "data": {
            "text/plain": [
              "0      0\n",
              "1      0\n",
              "2      0\n",
              "3      0\n",
              "4      0\n",
              "      ..\n",
              "145    2\n",
              "146    2\n",
              "147    2\n",
              "148    2\n",
              "149    2\n",
              "Name: Species, Length: 150, dtype: int32"
            ]
          },
          "execution_count": 22,
          "metadata": {},
          "output_type": "execute_result"
        }
      ],
      "source": [
        "from sklearn import preprocessing\n",
        "\n",
        "# label_encoder object knows\n",
        "# how to understand word labels.\n",
        "label_encoder = preprocessing.LabelEncoder()\n",
        "\n",
        "# Encode labels in column 'species'.\n",
        "iris_df['Species']= label_encoder.fit_transform(iris_df['Species'])\n",
        "\n",
        "iris_df['Species']"
      ]
    },
    {
      "cell_type": "markdown",
      "metadata": {
        "id": "IU2avaW_45RW"
      },
      "source": [
        "# Handling Duplicate Data"
      ]
    },
    {
      "cell_type": "code",
      "execution_count": null,
      "metadata": {
        "execution": {
          "iopub.execute_input": "2023-12-31T10:03:43.813645Z",
          "iopub.status.busy": "2023-12-31T10:03:43.813170Z",
          "iopub.status.idle": "2023-12-31T10:03:45.842212Z",
          "shell.execute_reply": "2023-12-31T10:03:45.840578Z",
          "shell.execute_reply.started": "2023-12-31T10:03:43.813609Z"
        },
        "id": "mcU8khch45RW",
        "outputId": "d3dd4a0f-c2a0-4dae-f8e9-9deea89be636",
        "trusted": true
      },
      "outputs": [
        {
          "name": "stdout",
          "output_type": "stream",
          "text": [
            "Original Dataset:\n",
            "   ID     Name  Amount\n",
            "0   1    Alice   100.0\n",
            "1   2      Bob   200.0\n",
            "2   3  Charlie   150.0\n",
            "3   4    David   200.0\n",
            "4   1    Alice   100.0\n",
            "\n",
            "Duplicate Rows:\n",
            "   ID   Name  Amount\n",
            "4   1  Alice   100.0\n",
            "\n",
            "Dataset after removing duplicates:\n",
            "   ID     Name  Amount\n",
            "0   1    Alice   100.0\n",
            "1   2      Bob   200.0\n",
            "2   3  Charlie   150.0\n",
            "3   4    David   200.0\n"
          ]
        }
      ],
      "source": [
        "\n",
        "# Here, I'm creating a sample DataFrame for demonstration purposes\n",
        "data = {'ID': [1, 2, 3, 4, 1],\n",
        "        'Name': ['Alice', 'Bob', 'Charlie', 'David', 'Alice'],\n",
        "        'Amount': [100.0, 200.0, 150.0, 200.0, 100.0]}\n",
        "creditcard_df = pd.DataFrame(data)\n",
        "\n",
        "# Display the original dataset\n",
        "print(\"Original Dataset:\")\n",
        "print(creditcard_df)\n",
        "\n",
        "# Check for duplicate rows\n",
        "duplicate_rows = creditcard_df[creditcard_df.duplicated()]\n",
        "print(\"\\nDuplicate Rows:\")\n",
        "print(duplicate_rows)\n",
        "\n",
        "# Remove duplicates and keep the first occurrence\n",
        "creditcard_df_no_duplicates = creditcard_df.drop_duplicates()\n",
        "\n",
        "# Display the dataset after removing duplicates\n",
        "print(\"\\nDataset after removing duplicates:\")\n",
        "print(creditcard_df_no_duplicates)\n"
      ]
    },
    {
      "cell_type": "code",
      "execution_count": null,
      "metadata": {
        "colab": {
          "base_uri": "https://localhost:8080/",
          "height": 423
        },
        "execution": {
          "iopub.execute_input": "2023-12-31T10:03:42.587599Z",
          "iopub.status.busy": "2023-12-31T10:03:42.586793Z",
          "iopub.status.idle": "2023-12-31T10:03:42.612843Z",
          "shell.execute_reply": "2023-12-31T10:03:42.611527Z",
          "shell.execute_reply.started": "2023-12-31T10:03:42.587556Z"
        },
        "id": "g5_HdJ5_45RK",
        "outputId": "c16225d8-d851-4b3f-bd61-3773d3269999",
        "trusted": true
      },
      "outputs": [
        {
          "data": {
            "application/vnd.google.colaboratory.intrinsic+json": {
              "summary": "{\n  \"name\": \"iris_df\",\n  \"rows\": 150,\n  \"fields\": [\n    {\n      \"column\": \"Id\",\n      \"properties\": {\n        \"dtype\": \"number\",\n        \"std\": 43,\n        \"min\": 1,\n        \"max\": 150,\n        \"num_unique_values\": 150,\n        \"samples\": [\n          74,\n          19,\n          119\n        ],\n        \"semantic_type\": \"\",\n        \"description\": \"\"\n      }\n    },\n    {\n      \"column\": \"SepalLengthCm\",\n      \"properties\": {\n        \"dtype\": \"number\",\n        \"std\": 0.828066127977863,\n        \"min\": 4.3,\n        \"max\": 7.9,\n        \"num_unique_values\": 35,\n        \"samples\": [\n          6.2,\n          4.5,\n          5.6\n        ],\n        \"semantic_type\": \"\",\n        \"description\": \"\"\n      }\n    },\n    {\n      \"column\": \"SepalWidthCm\",\n      \"properties\": {\n        \"dtype\": \"number\",\n        \"std\": 0.4335943113621737,\n        \"min\": 2.0,\n        \"max\": 4.4,\n        \"num_unique_values\": 23,\n        \"samples\": [\n          2.3,\n          4.0,\n          3.5\n        ],\n        \"semantic_type\": \"\",\n        \"description\": \"\"\n      }\n    },\n    {\n      \"column\": \"PetalLengthCm\",\n      \"properties\": {\n        \"dtype\": \"number\",\n        \"std\": 1.7644204199522626,\n        \"min\": 1.0,\n        \"max\": 6.9,\n        \"num_unique_values\": 43,\n        \"samples\": [\n          6.7,\n          3.8,\n          3.7\n        ],\n        \"semantic_type\": \"\",\n        \"description\": \"\"\n      }\n    },\n    {\n      \"column\": \"PetalWidthCm\",\n      \"properties\": {\n        \"dtype\": \"number\",\n        \"std\": 0.7631607417008411,\n        \"min\": 0.1,\n        \"max\": 2.5,\n        \"num_unique_values\": 22,\n        \"samples\": [\n          0.2,\n          1.2,\n          1.3\n        ],\n        \"semantic_type\": \"\",\n        \"description\": \"\"\n      }\n    },\n    {\n      \"column\": \"Species\",\n      \"properties\": {\n        \"dtype\": \"category\",\n        \"num_unique_values\": 3,\n        \"samples\": [\n          \"Iris-setosa\",\n          \"Iris-versicolor\",\n          \"Iris-virginica\"\n        ],\n        \"semantic_type\": \"\",\n        \"description\": \"\"\n      }\n    }\n  ]\n}",
              "type": "dataframe",
              "variable_name": "iris_df"
            },
            "text/html": [
              "\n",
              "  <div id=\"df-9ffb1067-f619-4b58-aa73-fd6c89c909ab\" class=\"colab-df-container\">\n",
              "    <div>\n",
              "<style scoped>\n",
              "    .dataframe tbody tr th:only-of-type {\n",
              "        vertical-align: middle;\n",
              "    }\n",
              "\n",
              "    .dataframe tbody tr th {\n",
              "        vertical-align: top;\n",
              "    }\n",
              "\n",
              "    .dataframe thead th {\n",
              "        text-align: right;\n",
              "    }\n",
              "</style>\n",
              "<table border=\"1\" class=\"dataframe\">\n",
              "  <thead>\n",
              "    <tr style=\"text-align: right;\">\n",
              "      <th></th>\n",
              "      <th>Id</th>\n",
              "      <th>SepalLengthCm</th>\n",
              "      <th>SepalWidthCm</th>\n",
              "      <th>PetalLengthCm</th>\n",
              "      <th>PetalWidthCm</th>\n",
              "      <th>Species</th>\n",
              "    </tr>\n",
              "  </thead>\n",
              "  <tbody>\n",
              "    <tr>\n",
              "      <th>0</th>\n",
              "      <td>1</td>\n",
              "      <td>5.1</td>\n",
              "      <td>3.5</td>\n",
              "      <td>1.4</td>\n",
              "      <td>0.2</td>\n",
              "      <td>Iris-setosa</td>\n",
              "    </tr>\n",
              "    <tr>\n",
              "      <th>1</th>\n",
              "      <td>2</td>\n",
              "      <td>4.9</td>\n",
              "      <td>3.0</td>\n",
              "      <td>1.4</td>\n",
              "      <td>0.2</td>\n",
              "      <td>Iris-setosa</td>\n",
              "    </tr>\n",
              "    <tr>\n",
              "      <th>2</th>\n",
              "      <td>3</td>\n",
              "      <td>4.7</td>\n",
              "      <td>3.2</td>\n",
              "      <td>1.3</td>\n",
              "      <td>0.2</td>\n",
              "      <td>Iris-setosa</td>\n",
              "    </tr>\n",
              "    <tr>\n",
              "      <th>3</th>\n",
              "      <td>4</td>\n",
              "      <td>4.6</td>\n",
              "      <td>3.1</td>\n",
              "      <td>1.5</td>\n",
              "      <td>0.2</td>\n",
              "      <td>Iris-setosa</td>\n",
              "    </tr>\n",
              "    <tr>\n",
              "      <th>4</th>\n",
              "      <td>5</td>\n",
              "      <td>5.0</td>\n",
              "      <td>3.6</td>\n",
              "      <td>1.4</td>\n",
              "      <td>0.2</td>\n",
              "      <td>Iris-setosa</td>\n",
              "    </tr>\n",
              "    <tr>\n",
              "      <th>...</th>\n",
              "      <td>...</td>\n",
              "      <td>...</td>\n",
              "      <td>...</td>\n",
              "      <td>...</td>\n",
              "      <td>...</td>\n",
              "      <td>...</td>\n",
              "    </tr>\n",
              "    <tr>\n",
              "      <th>145</th>\n",
              "      <td>146</td>\n",
              "      <td>6.7</td>\n",
              "      <td>3.0</td>\n",
              "      <td>5.2</td>\n",
              "      <td>2.3</td>\n",
              "      <td>Iris-virginica</td>\n",
              "    </tr>\n",
              "    <tr>\n",
              "      <th>146</th>\n",
              "      <td>147</td>\n",
              "      <td>6.3</td>\n",
              "      <td>2.5</td>\n",
              "      <td>5.0</td>\n",
              "      <td>1.9</td>\n",
              "      <td>Iris-virginica</td>\n",
              "    </tr>\n",
              "    <tr>\n",
              "      <th>147</th>\n",
              "      <td>148</td>\n",
              "      <td>6.5</td>\n",
              "      <td>3.0</td>\n",
              "      <td>5.2</td>\n",
              "      <td>2.0</td>\n",
              "      <td>Iris-virginica</td>\n",
              "    </tr>\n",
              "    <tr>\n",
              "      <th>148</th>\n",
              "      <td>149</td>\n",
              "      <td>6.2</td>\n",
              "      <td>3.4</td>\n",
              "      <td>5.4</td>\n",
              "      <td>2.3</td>\n",
              "      <td>Iris-virginica</td>\n",
              "    </tr>\n",
              "    <tr>\n",
              "      <th>149</th>\n",
              "      <td>150</td>\n",
              "      <td>5.9</td>\n",
              "      <td>3.0</td>\n",
              "      <td>5.1</td>\n",
              "      <td>1.8</td>\n",
              "      <td>Iris-virginica</td>\n",
              "    </tr>\n",
              "  </tbody>\n",
              "</table>\n",
              "<p>150 rows × 6 columns</p>\n",
              "</div>\n",
              "    <div class=\"colab-df-buttons\">\n",
              "\n",
              "  <div class=\"colab-df-container\">\n",
              "    <button class=\"colab-df-convert\" onclick=\"convertToInteractive('df-9ffb1067-f619-4b58-aa73-fd6c89c909ab')\"\n",
              "            title=\"Convert this dataframe to an interactive table.\"\n",
              "            style=\"display:none;\">\n",
              "\n",
              "  <svg xmlns=\"http://www.w3.org/2000/svg\" height=\"24px\" viewBox=\"0 -960 960 960\">\n",
              "    <path d=\"M120-120v-720h720v720H120Zm60-500h600v-160H180v160Zm220 220h160v-160H400v160Zm0 220h160v-160H400v160ZM180-400h160v-160H180v160Zm440 0h160v-160H620v160ZM180-180h160v-160H180v160Zm440 0h160v-160H620v160Z\"/>\n",
              "  </svg>\n",
              "    </button>\n",
              "\n",
              "  <style>\n",
              "    .colab-df-container {\n",
              "      display:flex;\n",
              "      gap: 12px;\n",
              "    }\n",
              "\n",
              "    .colab-df-convert {\n",
              "      background-color: #E8F0FE;\n",
              "      border: none;\n",
              "      border-radius: 50%;\n",
              "      cursor: pointer;\n",
              "      display: none;\n",
              "      fill: #1967D2;\n",
              "      height: 32px;\n",
              "      padding: 0 0 0 0;\n",
              "      width: 32px;\n",
              "    }\n",
              "\n",
              "    .colab-df-convert:hover {\n",
              "      background-color: #E2EBFA;\n",
              "      box-shadow: 0px 1px 2px rgba(60, 64, 67, 0.3), 0px 1px 3px 1px rgba(60, 64, 67, 0.15);\n",
              "      fill: #174EA6;\n",
              "    }\n",
              "\n",
              "    .colab-df-buttons div {\n",
              "      margin-bottom: 4px;\n",
              "    }\n",
              "\n",
              "    [theme=dark] .colab-df-convert {\n",
              "      background-color: #3B4455;\n",
              "      fill: #D2E3FC;\n",
              "    }\n",
              "\n",
              "    [theme=dark] .colab-df-convert:hover {\n",
              "      background-color: #434B5C;\n",
              "      box-shadow: 0px 1px 3px 1px rgba(0, 0, 0, 0.15);\n",
              "      filter: drop-shadow(0px 1px 2px rgba(0, 0, 0, 0.3));\n",
              "      fill: #FFFFFF;\n",
              "    }\n",
              "  </style>\n",
              "\n",
              "    <script>\n",
              "      const buttonEl =\n",
              "        document.querySelector('#df-9ffb1067-f619-4b58-aa73-fd6c89c909ab button.colab-df-convert');\n",
              "      buttonEl.style.display =\n",
              "        google.colab.kernel.accessAllowed ? 'block' : 'none';\n",
              "\n",
              "      async function convertToInteractive(key) {\n",
              "        const element = document.querySelector('#df-9ffb1067-f619-4b58-aa73-fd6c89c909ab');\n",
              "        const dataTable =\n",
              "          await google.colab.kernel.invokeFunction('convertToInteractive',\n",
              "                                                    [key], {});\n",
              "        if (!dataTable) return;\n",
              "\n",
              "        const docLinkHtml = 'Like what you see? Visit the ' +\n",
              "          '<a target=\"_blank\" href=https://colab.research.google.com/notebooks/data_table.ipynb>data table notebook</a>'\n",
              "          + ' to learn more about interactive tables.';\n",
              "        element.innerHTML = '';\n",
              "        dataTable['output_type'] = 'display_data';\n",
              "        await google.colab.output.renderOutput(dataTable, element);\n",
              "        const docLink = document.createElement('div');\n",
              "        docLink.innerHTML = docLinkHtml;\n",
              "        element.appendChild(docLink);\n",
              "      }\n",
              "    </script>\n",
              "  </div>\n",
              "\n",
              "\n",
              "<div id=\"df-b6abf9ad-86e1-4ef4-bd05-6a521b2be2f8\">\n",
              "  <button class=\"colab-df-quickchart\" onclick=\"quickchart('df-b6abf9ad-86e1-4ef4-bd05-6a521b2be2f8')\"\n",
              "            title=\"Suggest charts\"\n",
              "            style=\"display:none;\">\n",
              "\n",
              "<svg xmlns=\"http://www.w3.org/2000/svg\" height=\"24px\"viewBox=\"0 0 24 24\"\n",
              "     width=\"24px\">\n",
              "    <g>\n",
              "        <path d=\"M19 3H5c-1.1 0-2 .9-2 2v14c0 1.1.9 2 2 2h14c1.1 0 2-.9 2-2V5c0-1.1-.9-2-2-2zM9 17H7v-7h2v7zm4 0h-2V7h2v10zm4 0h-2v-4h2v4z\"/>\n",
              "    </g>\n",
              "</svg>\n",
              "  </button>\n",
              "\n",
              "<style>\n",
              "  .colab-df-quickchart {\n",
              "      --bg-color: #E8F0FE;\n",
              "      --fill-color: #1967D2;\n",
              "      --hover-bg-color: #E2EBFA;\n",
              "      --hover-fill-color: #174EA6;\n",
              "      --disabled-fill-color: #AAA;\n",
              "      --disabled-bg-color: #DDD;\n",
              "  }\n",
              "\n",
              "  [theme=dark] .colab-df-quickchart {\n",
              "      --bg-color: #3B4455;\n",
              "      --fill-color: #D2E3FC;\n",
              "      --hover-bg-color: #434B5C;\n",
              "      --hover-fill-color: #FFFFFF;\n",
              "      --disabled-bg-color: #3B4455;\n",
              "      --disabled-fill-color: #666;\n",
              "  }\n",
              "\n",
              "  .colab-df-quickchart {\n",
              "    background-color: var(--bg-color);\n",
              "    border: none;\n",
              "    border-radius: 50%;\n",
              "    cursor: pointer;\n",
              "    display: none;\n",
              "    fill: var(--fill-color);\n",
              "    height: 32px;\n",
              "    padding: 0;\n",
              "    width: 32px;\n",
              "  }\n",
              "\n",
              "  .colab-df-quickchart:hover {\n",
              "    background-color: var(--hover-bg-color);\n",
              "    box-shadow: 0 1px 2px rgba(60, 64, 67, 0.3), 0 1px 3px 1px rgba(60, 64, 67, 0.15);\n",
              "    fill: var(--button-hover-fill-color);\n",
              "  }\n",
              "\n",
              "  .colab-df-quickchart-complete:disabled,\n",
              "  .colab-df-quickchart-complete:disabled:hover {\n",
              "    background-color: var(--disabled-bg-color);\n",
              "    fill: var(--disabled-fill-color);\n",
              "    box-shadow: none;\n",
              "  }\n",
              "\n",
              "  .colab-df-spinner {\n",
              "    border: 2px solid var(--fill-color);\n",
              "    border-color: transparent;\n",
              "    border-bottom-color: var(--fill-color);\n",
              "    animation:\n",
              "      spin 1s steps(1) infinite;\n",
              "  }\n",
              "\n",
              "  @keyframes spin {\n",
              "    0% {\n",
              "      border-color: transparent;\n",
              "      border-bottom-color: var(--fill-color);\n",
              "      border-left-color: var(--fill-color);\n",
              "    }\n",
              "    20% {\n",
              "      border-color: transparent;\n",
              "      border-left-color: var(--fill-color);\n",
              "      border-top-color: var(--fill-color);\n",
              "    }\n",
              "    30% {\n",
              "      border-color: transparent;\n",
              "      border-left-color: var(--fill-color);\n",
              "      border-top-color: var(--fill-color);\n",
              "      border-right-color: var(--fill-color);\n",
              "    }\n",
              "    40% {\n",
              "      border-color: transparent;\n",
              "      border-right-color: var(--fill-color);\n",
              "      border-top-color: var(--fill-color);\n",
              "    }\n",
              "    60% {\n",
              "      border-color: transparent;\n",
              "      border-right-color: var(--fill-color);\n",
              "    }\n",
              "    80% {\n",
              "      border-color: transparent;\n",
              "      border-right-color: var(--fill-color);\n",
              "      border-bottom-color: var(--fill-color);\n",
              "    }\n",
              "    90% {\n",
              "      border-color: transparent;\n",
              "      border-bottom-color: var(--fill-color);\n",
              "    }\n",
              "  }\n",
              "</style>\n",
              "\n",
              "  <script>\n",
              "    async function quickchart(key) {\n",
              "      const quickchartButtonEl =\n",
              "        document.querySelector('#' + key + ' button');\n",
              "      quickchartButtonEl.disabled = true;  // To prevent multiple clicks.\n",
              "      quickchartButtonEl.classList.add('colab-df-spinner');\n",
              "      try {\n",
              "        const charts = await google.colab.kernel.invokeFunction(\n",
              "            'suggestCharts', [key], {});\n",
              "      } catch (error) {\n",
              "        console.error('Error during call to suggestCharts:', error);\n",
              "      }\n",
              "      quickchartButtonEl.classList.remove('colab-df-spinner');\n",
              "      quickchartButtonEl.classList.add('colab-df-quickchart-complete');\n",
              "    }\n",
              "    (() => {\n",
              "      let quickchartButtonEl =\n",
              "        document.querySelector('#df-b6abf9ad-86e1-4ef4-bd05-6a521b2be2f8 button');\n",
              "      quickchartButtonEl.style.display =\n",
              "        google.colab.kernel.accessAllowed ? 'block' : 'none';\n",
              "    })();\n",
              "  </script>\n",
              "</div>\n",
              "    </div>\n",
              "  </div>\n"
            ],
            "text/plain": [
              "      Id  SepalLengthCm  SepalWidthCm  PetalLengthCm  PetalWidthCm  \\\n",
              "0      1            5.1           3.5            1.4           0.2   \n",
              "1      2            4.9           3.0            1.4           0.2   \n",
              "2      3            4.7           3.2            1.3           0.2   \n",
              "3      4            4.6           3.1            1.5           0.2   \n",
              "4      5            5.0           3.6            1.4           0.2   \n",
              "..   ...            ...           ...            ...           ...   \n",
              "145  146            6.7           3.0            5.2           2.3   \n",
              "146  147            6.3           2.5            5.0           1.9   \n",
              "147  148            6.5           3.0            5.2           2.0   \n",
              "148  149            6.2           3.4            5.4           2.3   \n",
              "149  150            5.9           3.0            5.1           1.8   \n",
              "\n",
              "            Species  \n",
              "0       Iris-setosa  \n",
              "1       Iris-setosa  \n",
              "2       Iris-setosa  \n",
              "3       Iris-setosa  \n",
              "4       Iris-setosa  \n",
              "..              ...  \n",
              "145  Iris-virginica  \n",
              "146  Iris-virginica  \n",
              "147  Iris-virginica  \n",
              "148  Iris-virginica  \n",
              "149  Iris-virginica  \n",
              "\n",
              "[150 rows x 6 columns]"
            ]
          },
          "execution_count": 22,
          "metadata": {},
          "output_type": "execute_result"
        }
      ],
      "source": [
        "#dataset = pd.read_csv(\"./datasets/sampledata/Data.csv\")\n",
        "\n",
        "Iris_dataset = pd.read_csv(\"/content/drive/MyDrive/Iris.csv\")\n",
        "\n",
        "#df = pd.DataFrame(dataset)\n",
        "iris_df = pd.DataFrame(Iris_dataset)\n",
        "\n",
        "iris_df"
      ]
    },
    {
      "cell_type": "markdown",
      "metadata": {
        "id": "sqHjAzZ445Rd"
      },
      "source": [
        "# <font color='dodgerblue'>6- Handling imbalanced datasets</font>\n"
      ]
    },
    {
      "cell_type": "code",
      "execution_count": null,
      "metadata": {
        "colab": {
          "base_uri": "https://localhost:8080/",
          "height": 255
        },
        "execution": {
          "iopub.execute_input": "2023-12-31T10:03:45.844525Z",
          "iopub.status.busy": "2023-12-31T10:03:45.844108Z",
          "iopub.status.idle": "2023-12-31T10:03:50.056239Z",
          "shell.execute_reply": "2023-12-31T10:03:50.054968Z",
          "shell.execute_reply.started": "2023-12-31T10:03:45.844491Z"
        },
        "id": "UHxWVmUi45Rd",
        "outputId": "80adaccb-ef66-4ce4-b41a-8e82046863e1",
        "trusted": true
      },
      "outputs": [
        {
          "data": {
            "application/vnd.google.colaboratory.intrinsic+json": {
              "type": "dataframe",
              "variable_name": "creditcard_df"
            },
            "text/html": [
              "\n",
              "  <div id=\"df-bdc84c92-e18d-4ffa-8f83-354a1e346c5d\" class=\"colab-df-container\">\n",
              "    <div>\n",
              "<style scoped>\n",
              "    .dataframe tbody tr th:only-of-type {\n",
              "        vertical-align: middle;\n",
              "    }\n",
              "\n",
              "    .dataframe tbody tr th {\n",
              "        vertical-align: top;\n",
              "    }\n",
              "\n",
              "    .dataframe thead th {\n",
              "        text-align: right;\n",
              "    }\n",
              "</style>\n",
              "<table border=\"1\" class=\"dataframe\">\n",
              "  <thead>\n",
              "    <tr style=\"text-align: right;\">\n",
              "      <th></th>\n",
              "      <th>Time</th>\n",
              "      <th>V1</th>\n",
              "      <th>V2</th>\n",
              "      <th>V3</th>\n",
              "      <th>V4</th>\n",
              "      <th>V5</th>\n",
              "      <th>V6</th>\n",
              "      <th>V7</th>\n",
              "      <th>V8</th>\n",
              "      <th>V9</th>\n",
              "      <th>...</th>\n",
              "      <th>V21</th>\n",
              "      <th>V22</th>\n",
              "      <th>V23</th>\n",
              "      <th>V24</th>\n",
              "      <th>V25</th>\n",
              "      <th>V26</th>\n",
              "      <th>V27</th>\n",
              "      <th>V28</th>\n",
              "      <th>Amount</th>\n",
              "      <th>Class</th>\n",
              "    </tr>\n",
              "  </thead>\n",
              "  <tbody>\n",
              "    <tr>\n",
              "      <th>0</th>\n",
              "      <td>0.0</td>\n",
              "      <td>-1.359807</td>\n",
              "      <td>-0.072781</td>\n",
              "      <td>2.536347</td>\n",
              "      <td>1.378155</td>\n",
              "      <td>-0.338321</td>\n",
              "      <td>0.462388</td>\n",
              "      <td>0.239599</td>\n",
              "      <td>0.098698</td>\n",
              "      <td>0.363787</td>\n",
              "      <td>...</td>\n",
              "      <td>-0.018307</td>\n",
              "      <td>0.277838</td>\n",
              "      <td>-0.110474</td>\n",
              "      <td>0.066928</td>\n",
              "      <td>0.128539</td>\n",
              "      <td>-0.189115</td>\n",
              "      <td>0.133558</td>\n",
              "      <td>-0.021053</td>\n",
              "      <td>149.62</td>\n",
              "      <td>0</td>\n",
              "    </tr>\n",
              "    <tr>\n",
              "      <th>1</th>\n",
              "      <td>0.0</td>\n",
              "      <td>1.191857</td>\n",
              "      <td>0.266151</td>\n",
              "      <td>0.166480</td>\n",
              "      <td>0.448154</td>\n",
              "      <td>0.060018</td>\n",
              "      <td>-0.082361</td>\n",
              "      <td>-0.078803</td>\n",
              "      <td>0.085102</td>\n",
              "      <td>-0.255425</td>\n",
              "      <td>...</td>\n",
              "      <td>-0.225775</td>\n",
              "      <td>-0.638672</td>\n",
              "      <td>0.101288</td>\n",
              "      <td>-0.339846</td>\n",
              "      <td>0.167170</td>\n",
              "      <td>0.125895</td>\n",
              "      <td>-0.008983</td>\n",
              "      <td>0.014724</td>\n",
              "      <td>2.69</td>\n",
              "      <td>0</td>\n",
              "    </tr>\n",
              "    <tr>\n",
              "      <th>2</th>\n",
              "      <td>1.0</td>\n",
              "      <td>-1.358354</td>\n",
              "      <td>-1.340163</td>\n",
              "      <td>1.773209</td>\n",
              "      <td>0.379780</td>\n",
              "      <td>-0.503198</td>\n",
              "      <td>1.800499</td>\n",
              "      <td>0.791461</td>\n",
              "      <td>0.247676</td>\n",
              "      <td>-1.514654</td>\n",
              "      <td>...</td>\n",
              "      <td>0.247998</td>\n",
              "      <td>0.771679</td>\n",
              "      <td>0.909412</td>\n",
              "      <td>-0.689281</td>\n",
              "      <td>-0.327642</td>\n",
              "      <td>-0.139097</td>\n",
              "      <td>-0.055353</td>\n",
              "      <td>-0.059752</td>\n",
              "      <td>378.66</td>\n",
              "      <td>0</td>\n",
              "    </tr>\n",
              "    <tr>\n",
              "      <th>3</th>\n",
              "      <td>1.0</td>\n",
              "      <td>-0.966272</td>\n",
              "      <td>-0.185226</td>\n",
              "      <td>1.792993</td>\n",
              "      <td>-0.863291</td>\n",
              "      <td>-0.010309</td>\n",
              "      <td>1.247203</td>\n",
              "      <td>0.237609</td>\n",
              "      <td>0.377436</td>\n",
              "      <td>-1.387024</td>\n",
              "      <td>...</td>\n",
              "      <td>-0.108300</td>\n",
              "      <td>0.005274</td>\n",
              "      <td>-0.190321</td>\n",
              "      <td>-1.175575</td>\n",
              "      <td>0.647376</td>\n",
              "      <td>-0.221929</td>\n",
              "      <td>0.062723</td>\n",
              "      <td>0.061458</td>\n",
              "      <td>123.50</td>\n",
              "      <td>0</td>\n",
              "    </tr>\n",
              "    <tr>\n",
              "      <th>4</th>\n",
              "      <td>2.0</td>\n",
              "      <td>-1.158233</td>\n",
              "      <td>0.877737</td>\n",
              "      <td>1.548718</td>\n",
              "      <td>0.403034</td>\n",
              "      <td>-0.407193</td>\n",
              "      <td>0.095921</td>\n",
              "      <td>0.592941</td>\n",
              "      <td>-0.270533</td>\n",
              "      <td>0.817739</td>\n",
              "      <td>...</td>\n",
              "      <td>-0.009431</td>\n",
              "      <td>0.798278</td>\n",
              "      <td>-0.137458</td>\n",
              "      <td>0.141267</td>\n",
              "      <td>-0.206010</td>\n",
              "      <td>0.502292</td>\n",
              "      <td>0.219422</td>\n",
              "      <td>0.215153</td>\n",
              "      <td>69.99</td>\n",
              "      <td>0</td>\n",
              "    </tr>\n",
              "  </tbody>\n",
              "</table>\n",
              "<p>5 rows × 31 columns</p>\n",
              "</div>\n",
              "    <div class=\"colab-df-buttons\">\n",
              "\n",
              "  <div class=\"colab-df-container\">\n",
              "    <button class=\"colab-df-convert\" onclick=\"convertToInteractive('df-bdc84c92-e18d-4ffa-8f83-354a1e346c5d')\"\n",
              "            title=\"Convert this dataframe to an interactive table.\"\n",
              "            style=\"display:none;\">\n",
              "\n",
              "  <svg xmlns=\"http://www.w3.org/2000/svg\" height=\"24px\" viewBox=\"0 -960 960 960\">\n",
              "    <path d=\"M120-120v-720h720v720H120Zm60-500h600v-160H180v160Zm220 220h160v-160H400v160Zm0 220h160v-160H400v160ZM180-400h160v-160H180v160Zm440 0h160v-160H620v160ZM180-180h160v-160H180v160Zm440 0h160v-160H620v160Z\"/>\n",
              "  </svg>\n",
              "    </button>\n",
              "\n",
              "  <style>\n",
              "    .colab-df-container {\n",
              "      display:flex;\n",
              "      gap: 12px;\n",
              "    }\n",
              "\n",
              "    .colab-df-convert {\n",
              "      background-color: #E8F0FE;\n",
              "      border: none;\n",
              "      border-radius: 50%;\n",
              "      cursor: pointer;\n",
              "      display: none;\n",
              "      fill: #1967D2;\n",
              "      height: 32px;\n",
              "      padding: 0 0 0 0;\n",
              "      width: 32px;\n",
              "    }\n",
              "\n",
              "    .colab-df-convert:hover {\n",
              "      background-color: #E2EBFA;\n",
              "      box-shadow: 0px 1px 2px rgba(60, 64, 67, 0.3), 0px 1px 3px 1px rgba(60, 64, 67, 0.15);\n",
              "      fill: #174EA6;\n",
              "    }\n",
              "\n",
              "    .colab-df-buttons div {\n",
              "      margin-bottom: 4px;\n",
              "    }\n",
              "\n",
              "    [theme=dark] .colab-df-convert {\n",
              "      background-color: #3B4455;\n",
              "      fill: #D2E3FC;\n",
              "    }\n",
              "\n",
              "    [theme=dark] .colab-df-convert:hover {\n",
              "      background-color: #434B5C;\n",
              "      box-shadow: 0px 1px 3px 1px rgba(0, 0, 0, 0.15);\n",
              "      filter: drop-shadow(0px 1px 2px rgba(0, 0, 0, 0.3));\n",
              "      fill: #FFFFFF;\n",
              "    }\n",
              "  </style>\n",
              "\n",
              "    <script>\n",
              "      const buttonEl =\n",
              "        document.querySelector('#df-bdc84c92-e18d-4ffa-8f83-354a1e346c5d button.colab-df-convert');\n",
              "      buttonEl.style.display =\n",
              "        google.colab.kernel.accessAllowed ? 'block' : 'none';\n",
              "\n",
              "      async function convertToInteractive(key) {\n",
              "        const element = document.querySelector('#df-bdc84c92-e18d-4ffa-8f83-354a1e346c5d');\n",
              "        const dataTable =\n",
              "          await google.colab.kernel.invokeFunction('convertToInteractive',\n",
              "                                                    [key], {});\n",
              "        if (!dataTable) return;\n",
              "\n",
              "        const docLinkHtml = 'Like what you see? Visit the ' +\n",
              "          '<a target=\"_blank\" href=https://colab.research.google.com/notebooks/data_table.ipynb>data table notebook</a>'\n",
              "          + ' to learn more about interactive tables.';\n",
              "        element.innerHTML = '';\n",
              "        dataTable['output_type'] = 'display_data';\n",
              "        await google.colab.output.renderOutput(dataTable, element);\n",
              "        const docLink = document.createElement('div');\n",
              "        docLink.innerHTML = docLinkHtml;\n",
              "        element.appendChild(docLink);\n",
              "      }\n",
              "    </script>\n",
              "  </div>\n",
              "\n",
              "\n",
              "<div id=\"df-6b9eaf9f-cad2-45ca-90c8-3da2af889875\">\n",
              "  <button class=\"colab-df-quickchart\" onclick=\"quickchart('df-6b9eaf9f-cad2-45ca-90c8-3da2af889875')\"\n",
              "            title=\"Suggest charts\"\n",
              "            style=\"display:none;\">\n",
              "\n",
              "<svg xmlns=\"http://www.w3.org/2000/svg\" height=\"24px\"viewBox=\"0 0 24 24\"\n",
              "     width=\"24px\">\n",
              "    <g>\n",
              "        <path d=\"M19 3H5c-1.1 0-2 .9-2 2v14c0 1.1.9 2 2 2h14c1.1 0 2-.9 2-2V5c0-1.1-.9-2-2-2zM9 17H7v-7h2v7zm4 0h-2V7h2v10zm4 0h-2v-4h2v4z\"/>\n",
              "    </g>\n",
              "</svg>\n",
              "  </button>\n",
              "\n",
              "<style>\n",
              "  .colab-df-quickchart {\n",
              "      --bg-color: #E8F0FE;\n",
              "      --fill-color: #1967D2;\n",
              "      --hover-bg-color: #E2EBFA;\n",
              "      --hover-fill-color: #174EA6;\n",
              "      --disabled-fill-color: #AAA;\n",
              "      --disabled-bg-color: #DDD;\n",
              "  }\n",
              "\n",
              "  [theme=dark] .colab-df-quickchart {\n",
              "      --bg-color: #3B4455;\n",
              "      --fill-color: #D2E3FC;\n",
              "      --hover-bg-color: #434B5C;\n",
              "      --hover-fill-color: #FFFFFF;\n",
              "      --disabled-bg-color: #3B4455;\n",
              "      --disabled-fill-color: #666;\n",
              "  }\n",
              "\n",
              "  .colab-df-quickchart {\n",
              "    background-color: var(--bg-color);\n",
              "    border: none;\n",
              "    border-radius: 50%;\n",
              "    cursor: pointer;\n",
              "    display: none;\n",
              "    fill: var(--fill-color);\n",
              "    height: 32px;\n",
              "    padding: 0;\n",
              "    width: 32px;\n",
              "  }\n",
              "\n",
              "  .colab-df-quickchart:hover {\n",
              "    background-color: var(--hover-bg-color);\n",
              "    box-shadow: 0 1px 2px rgba(60, 64, 67, 0.3), 0 1px 3px 1px rgba(60, 64, 67, 0.15);\n",
              "    fill: var(--button-hover-fill-color);\n",
              "  }\n",
              "\n",
              "  .colab-df-quickchart-complete:disabled,\n",
              "  .colab-df-quickchart-complete:disabled:hover {\n",
              "    background-color: var(--disabled-bg-color);\n",
              "    fill: var(--disabled-fill-color);\n",
              "    box-shadow: none;\n",
              "  }\n",
              "\n",
              "  .colab-df-spinner {\n",
              "    border: 2px solid var(--fill-color);\n",
              "    border-color: transparent;\n",
              "    border-bottom-color: var(--fill-color);\n",
              "    animation:\n",
              "      spin 1s steps(1) infinite;\n",
              "  }\n",
              "\n",
              "  @keyframes spin {\n",
              "    0% {\n",
              "      border-color: transparent;\n",
              "      border-bottom-color: var(--fill-color);\n",
              "      border-left-color: var(--fill-color);\n",
              "    }\n",
              "    20% {\n",
              "      border-color: transparent;\n",
              "      border-left-color: var(--fill-color);\n",
              "      border-top-color: var(--fill-color);\n",
              "    }\n",
              "    30% {\n",
              "      border-color: transparent;\n",
              "      border-left-color: var(--fill-color);\n",
              "      border-top-color: var(--fill-color);\n",
              "      border-right-color: var(--fill-color);\n",
              "    }\n",
              "    40% {\n",
              "      border-color: transparent;\n",
              "      border-right-color: var(--fill-color);\n",
              "      border-top-color: var(--fill-color);\n",
              "    }\n",
              "    60% {\n",
              "      border-color: transparent;\n",
              "      border-right-color: var(--fill-color);\n",
              "    }\n",
              "    80% {\n",
              "      border-color: transparent;\n",
              "      border-right-color: var(--fill-color);\n",
              "      border-bottom-color: var(--fill-color);\n",
              "    }\n",
              "    90% {\n",
              "      border-color: transparent;\n",
              "      border-bottom-color: var(--fill-color);\n",
              "    }\n",
              "  }\n",
              "</style>\n",
              "\n",
              "  <script>\n",
              "    async function quickchart(key) {\n",
              "      const quickchartButtonEl =\n",
              "        document.querySelector('#' + key + ' button');\n",
              "      quickchartButtonEl.disabled = true;  // To prevent multiple clicks.\n",
              "      quickchartButtonEl.classList.add('colab-df-spinner');\n",
              "      try {\n",
              "        const charts = await google.colab.kernel.invokeFunction(\n",
              "            'suggestCharts', [key], {});\n",
              "      } catch (error) {\n",
              "        console.error('Error during call to suggestCharts:', error);\n",
              "      }\n",
              "      quickchartButtonEl.classList.remove('colab-df-spinner');\n",
              "      quickchartButtonEl.classList.add('colab-df-quickchart-complete');\n",
              "    }\n",
              "    (() => {\n",
              "      let quickchartButtonEl =\n",
              "        document.querySelector('#df-6b9eaf9f-cad2-45ca-90c8-3da2af889875 button');\n",
              "      quickchartButtonEl.style.display =\n",
              "        google.colab.kernel.accessAllowed ? 'block' : 'none';\n",
              "    })();\n",
              "  </script>\n",
              "</div>\n",
              "    </div>\n",
              "  </div>\n"
            ],
            "text/plain": [
              "   Time        V1        V2        V3        V4        V5        V6        V7  \\\n",
              "0   0.0 -1.359807 -0.072781  2.536347  1.378155 -0.338321  0.462388  0.239599   \n",
              "1   0.0  1.191857  0.266151  0.166480  0.448154  0.060018 -0.082361 -0.078803   \n",
              "2   1.0 -1.358354 -1.340163  1.773209  0.379780 -0.503198  1.800499  0.791461   \n",
              "3   1.0 -0.966272 -0.185226  1.792993 -0.863291 -0.010309  1.247203  0.237609   \n",
              "4   2.0 -1.158233  0.877737  1.548718  0.403034 -0.407193  0.095921  0.592941   \n",
              "\n",
              "         V8        V9  ...       V21       V22       V23       V24       V25  \\\n",
              "0  0.098698  0.363787  ... -0.018307  0.277838 -0.110474  0.066928  0.128539   \n",
              "1  0.085102 -0.255425  ... -0.225775 -0.638672  0.101288 -0.339846  0.167170   \n",
              "2  0.247676 -1.514654  ...  0.247998  0.771679  0.909412 -0.689281 -0.327642   \n",
              "3  0.377436 -1.387024  ... -0.108300  0.005274 -0.190321 -1.175575  0.647376   \n",
              "4 -0.270533  0.817739  ... -0.009431  0.798278 -0.137458  0.141267 -0.206010   \n",
              "\n",
              "        V26       V27       V28  Amount  Class  \n",
              "0 -0.189115  0.133558 -0.021053  149.62      0  \n",
              "1  0.125895 -0.008983  0.014724    2.69      0  \n",
              "2 -0.139097 -0.055353 -0.059752  378.66      0  \n",
              "3 -0.221929  0.062723  0.061458  123.50      0  \n",
              "4  0.502292  0.219422  0.215153   69.99      0  \n",
              "\n",
              "[5 rows x 31 columns]"
            ]
          },
          "execution_count": 23,
          "metadata": {},
          "output_type": "execute_result"
        }
      ],
      "source": [
        "creditcard_df = pd.read_csv('/content/drive/MyDrive/Data Science/data science/Data Preprocessing/secondLab/datasets/creditcard/creditcard.csv')\n",
        "creditcard_df.head()"
      ]
    },
    {
      "cell_type": "code",
      "execution_count": null,
      "metadata": {
        "colab": {
          "base_uri": "https://localhost:8080/"
        },
        "execution": {
          "iopub.execute_input": "2023-12-31T10:03:50.058541Z",
          "iopub.status.busy": "2023-12-31T10:03:50.058131Z",
          "iopub.status.idle": "2023-12-31T10:03:50.132351Z",
          "shell.execute_reply": "2023-12-31T10:03:50.130934Z",
          "shell.execute_reply.started": "2023-12-31T10:03:50.058506Z"
        },
        "id": "qYU7Rj5e45Rd",
        "outputId": "a6351239-60a7-4e32-a974-ec7252c0a1ce",
        "trusted": true
      },
      "outputs": [
        {
          "name": "stdout",
          "output_type": "stream",
          "text": [
            "<class 'pandas.core.frame.DataFrame'>\n",
            "RangeIndex: 284807 entries, 0 to 284806\n",
            "Data columns (total 30 columns):\n",
            " #   Column  Non-Null Count   Dtype  \n",
            "---  ------  --------------   -----  \n",
            " 0   V1      284807 non-null  float64\n",
            " 1   V2      284807 non-null  float64\n",
            " 2   V3      284807 non-null  float64\n",
            " 3   V4      284807 non-null  float64\n",
            " 4   V5      284807 non-null  float64\n",
            " 5   V6      284807 non-null  float64\n",
            " 6   V7      284807 non-null  float64\n",
            " 7   V8      284807 non-null  float64\n",
            " 8   V9      284807 non-null  float64\n",
            " 9   V10     284807 non-null  float64\n",
            " 10  V11     284807 non-null  float64\n",
            " 11  V12     284807 non-null  float64\n",
            " 12  V13     284807 non-null  float64\n",
            " 13  V14     284807 non-null  float64\n",
            " 14  V15     284807 non-null  float64\n",
            " 15  V16     284807 non-null  float64\n",
            " 16  V17     284807 non-null  float64\n",
            " 17  V18     284807 non-null  float64\n",
            " 18  V19     284807 non-null  float64\n",
            " 19  V20     284807 non-null  float64\n",
            " 20  V21     284807 non-null  float64\n",
            " 21  V22     284807 non-null  float64\n",
            " 22  V23     284807 non-null  float64\n",
            " 23  V24     284807 non-null  float64\n",
            " 24  V25     284807 non-null  float64\n",
            " 25  V26     284807 non-null  float64\n",
            " 26  V27     284807 non-null  float64\n",
            " 27  V28     284807 non-null  float64\n",
            " 28  Amount  284807 non-null  float64\n",
            " 29  Class   284807 non-null  int64  \n",
            "dtypes: float64(29), int64(1)\n",
            "memory usage: 65.2 MB\n"
          ]
        }
      ],
      "source": [
        "creditcard_df = creditcard_df.drop(['Time'],axis=1)\n",
        "creditcard_df.info()"
      ]
    },
    {
      "cell_type": "code",
      "execution_count": null,
      "metadata": {
        "colab": {
          "base_uri": "https://localhost:8080/",
          "height": 551
        },
        "execution": {
          "iopub.execute_input": "2023-12-31T10:03:50.134886Z",
          "iopub.status.busy": "2023-12-31T10:03:50.134243Z",
          "iopub.status.idle": "2023-12-31T10:03:50.373972Z",
          "shell.execute_reply": "2023-12-31T10:03:50.372725Z",
          "shell.execute_reply.started": "2023-12-31T10:03:50.134840Z"
        },
        "id": "mSQzW1_l45Re",
        "outputId": "07b2e961-028f-4134-c41c-4581ed7cec46",
        "trusted": true
      },
      "outputs": [
        {
          "name": "stdout",
          "output_type": "stream",
          "text": [
            "0    284315\n",
            "1       492\n",
            "Name: Class, dtype: int64\n",
            "Class 0 :  284315\n",
            "Class 1 :  492\n"
          ]
        },
        {
          "data": {
            "text/plain": [
              "<Axes: title={'center': 'Label Count'}>"
            ]
          },
          "execution_count": 25,
          "metadata": {},
          "output_type": "execute_result"
        },
        {
          "data": {
            "image/png": "[encoded data removed]",
            "text/plain": [
              "<Figure size 640x480 with 1 Axes>"
            ]
          },
          "metadata": {},
          "output_type": "display_data"
        }
      ],
      "source": [
        "label_count = creditcard_df.Class.value_counts()\n",
        "print(label_count)\n",
        "\n",
        "print('Class 0 : ', label_count[0])\n",
        "print('Class 1 : ', label_count[1])\n",
        "label_count.plot(kind='bar',title='Label Count')"
      ]
    },
    {
      "cell_type": "code",
      "execution_count": null,
      "metadata": {
        "execution": {
          "iopub.execute_input": "2023-12-31T10:03:50.379172Z",
          "iopub.status.busy": "2023-12-31T10:03:50.375715Z",
          "iopub.status.idle": "2023-12-31T10:03:50.427155Z",
          "shell.execute_reply": "2023-12-31T10:03:50.426082Z",
          "shell.execute_reply.started": "2023-12-31T10:03:50.379105Z"
        },
        "id": "5s9ekK6l45Re",
        "trusted": true
      },
      "outputs": [],
      "source": [
        "c_class_0, c_class_1 = creditcard_df.Class.value_counts()\n",
        "\n",
        "data_class_0 = creditcard_df[creditcard_df['Class']==0]\n",
        "data_class_1 = creditcard_df[creditcard_df['Class']==1]"
      ]
    },
    {
      "cell_type": "code",
      "execution_count": null,
      "metadata": {
        "colab": {
          "base_uri": "https://localhost:8080/",
          "height": 464
        },
        "execution": {
          "iopub.execute_input": "2023-12-31T10:03:50.430522Z",
          "iopub.status.busy": "2023-12-31T10:03:50.429027Z",
          "iopub.status.idle": "2023-12-31T10:03:50.678476Z",
          "shell.execute_reply": "2023-12-31T10:03:50.677258Z",
          "shell.execute_reply.started": "2023-12-31T10:03:50.430471Z"
        },
        "id": "byV2G49S45Re",
        "outputId": "13b38187-0afc-4a7d-cff2-a0eed73b878b",
        "trusted": true
      },
      "outputs": [
        {
          "data": {
            "text/plain": [
              "<Axes: title={'center': 'Under Sampling'}>"
            ]
          },
          "execution_count": 27,
          "metadata": {},
          "output_type": "execute_result"
        },
        {
          "data": {
            "image/png": "[encoded data removed]",
            "text/plain": [
              "<Figure size 640x480 with 1 Axes>"
            ]
          },
          "metadata": {},
          "output_type": "display_data"
        }
      ],
      "source": [
        "data_class_0_under = data_class_0.sample(c_class_1)\n",
        "# Here we are reducing the number of records with 0 as label to that of number of records equal to 1\n",
        "# Pandas sample() is used to randomly select passed number of records\n",
        "\n",
        "data_test_under = pd.concat([data_class_0_under, data_class_1], axis=0)\n",
        "#Concatening the data one after the other to create one single dataframe containing all the data\n",
        "\n",
        "data_test_under.Class.value_counts().plot(kind='bar',title='Under Sampling')"
      ]
    },
    {
      "cell_type": "code",
      "execution_count": null,
      "metadata": {
        "execution": {
          "iopub.execute_input": "2023-12-31T10:03:50.685950Z",
          "iopub.status.busy": "2023-12-31T10:03:50.685560Z",
          "iopub.status.idle": "2023-12-31T10:03:51.061573Z",
          "shell.execute_reply": "2023-12-31T10:03:51.060525Z",
          "shell.execute_reply.started": "2023-12-31T10:03:50.685919Z"
        },
        "id": "dUIT9YqH45Rf",
        "outputId": "c26e861c-16dd-43ac-e18a-474df1582261",
        "trusted": true
      },
      "outputs": [
        {
          "name": "stdout",
          "output_type": "stream",
          "text": [
            "After Random Over-sampling\n",
            "Class\n",
            "0    284315\n",
            "1    284315\n",
            "Name: count, dtype: int64\n"
          ]
        },
        {
          "data": {
            "text/plain": [
              "<Axes: title={'center': 'Random Over-Sampling'}, xlabel='Class'>"
            ]
          },
          "execution_count": 29,
          "metadata": {},
          "output_type": "execute_result"
        },
        {
          "data": {
            "image/png": "[encoded data removed]",
            "text/plain": [
              "<Figure size 640x480 with 1 Axes>"
            ]
          },
          "metadata": {},
          "output_type": "display_data"
        }
      ],
      "source": [
        "data_class_1_over = data_class_1.sample(c_class_0, replace=True)\n",
        "# Here we are increasing number of records for label 1 by randomly generating data\n",
        "data_test_over = pd.concat([data_class_0, data_class_1_over])\n",
        "print(\"After Random Over-sampling\")\n",
        "print(data_test_over.Class.value_counts())\n",
        "data_test_over.Class.value_counts().plot(kind='bar',title='Random Over-Sampling')"
      ]
    },
    {
      "cell_type": "markdown",
      "metadata": {
        "id": "pKvQPTUe45Rf"
      },
      "source": [
        "# **SMOTE**\n",
        "**Synthetic Minority Oversampling Technique - what it basically does is for minority class (class with less number of records in dataset), it calculates Nearest Neighbor values of the records selected randomly. It is Over sampling method**"
      ]
    },
    {
      "cell_type": "code",
      "execution_count": null,
      "metadata": {
        "execution": {
          "iopub.execute_input": "2023-12-31T10:03:51.064064Z",
          "iopub.status.busy": "2023-12-31T10:03:51.063606Z",
          "iopub.status.idle": "2023-12-31T10:03:52.245817Z",
          "shell.execute_reply": "2023-12-31T10:03:52.244366Z",
          "shell.execute_reply.started": "2023-12-31T10:03:51.064031Z"
        },
        "id": "rRE0sJzp45Rg",
        "outputId": "094d5df3-a55a-40d3-cab3-342e7ed315c6",
        "trusted": true
      },
      "outputs": [
        {
          "name": "stdout",
          "output_type": "stream",
          "text": [
            "Class distribution before SMOTE: Counter({0: 284315, 1: 492})\n",
            "Class distribution after SMOTE: Counter({0: 227441, 1: 227441})\n"
          ]
        },
        {
          "data": {
            "image/png": "[encoded data removed]",
            "text/plain": [
              "<Figure size 640x480 with 1 Axes>"
            ]
          },
          "metadata": {},
          "output_type": "display_data"
        }
      ],
      "source": [
        "import pandas as pd\n",
        "from imblearn.over_sampling import SMOTE\n",
        "from sklearn.model_selection import train_test_split\n",
        "from collections import Counter\n",
        "\n",
        "# Load the creditcard dataset\n",
        "print(\"Class distribution before SMOTE:\", Counter(creditcard_df['Class']))\n",
        "\n",
        "# Separate features and target variable\n",
        "X = creditcard_df.drop('Class', axis=1)\n",
        "y = creditcard_df['Class']\n",
        "\n",
        "# Split the data into training and testing sets\n",
        "X_train, X_test, y_train, y_test = train_test_split(X, y, test_size=0.2, random_state=20)\n",
        "\n",
        "# Apply SMOTE to the training set only\n",
        "smote = SMOTE(sampling_strategy='auto', random_state=42)\n",
        "X_train_resampled, y_train_resampled = smote.fit_resample(X_train, y_train)\n",
        "\n",
        "# Convert X_train_resampled to a DataFrame\n",
        "X_train_resampled_df = pd.DataFrame(X_train_resampled, columns=X_train.columns)\n",
        "\n",
        "# Display class distribution after applying SMOTE\n",
        "print(\"Class distribution after SMOTE:\", Counter(y_train_resampled))\n",
        "\n",
        "# Now you can use X_train_resampled_df and y_train_resampled for training your model\n",
        "# and X_test, y_test for testing\n",
        "# Optionally, visualize the results\n",
        "plt.scatter(X_train_resampled_df.iloc[:, 0], X_train_resampled_df.iloc[:, 1], c=y_train_resampled, edgecolors='k', marker='o')\n",
        "plt.title(\"SMOTE Sampling\")\n",
        "plt.show()\n",
        "\n"
      ]
    },
    {
      "cell_type": "markdown",
      "metadata": {
        "id": "TSiuZJ8r45Rg"
      },
      "source": [
        "# <font color='dodgerblue'>7- Dimensionality reduction</font>\n",
        "**Dimensionality reduction is a technique used to reduce the number of features in a dataset while retaining as much of the important information as possible. In other words, it is a process of transforming high-dimensional data into a lower-dimensional space that still preserves the essence of the original data.**\n",
        "\n",
        "\n",
        "- The various methods used for dimensionality reduction include:\n",
        "\n",
        "Principal Component Analysis (PCA)\n",
        "Linear Discriminant Analysis (LDA)\n",
        "Generalized Discriminant Analysis (GDA)\n"
      ]
    },
    {
      "cell_type": "code",
      "execution_count": null,
      "metadata": {
        "execution": {
          "iopub.execute_input": "2023-12-31T10:03:52.247946Z",
          "iopub.status.busy": "2023-12-31T10:03:52.247597Z",
          "iopub.status.idle": "2023-12-31T10:03:54.679869Z",
          "shell.execute_reply": "2023-12-31T10:03:54.678135Z",
          "shell.execute_reply.started": "2023-12-31T10:03:52.247917Z"
        },
        "id": "l4jGOBB-45Rg",
        "outputId": "559de64a-006e-4c0b-e001-8778970425f5",
        "trusted": true
      },
      "outputs": [
        {
          "name": "stdout",
          "output_type": "stream",
          "text": [
            "Explained Variance Ratio: 0.3813631872679605\n"
          ]
        }
      ],
      "source": [
        "import pandas as pd\n",
        "from sklearn.decomposition import PCA\n",
        "from sklearn.preprocessing import StandardScaler\n",
        "from sklearn.model_selection import train_test_split\n",
        "\n",
        "# Assuming you already have the dataset loaded into creditcard_df\n",
        "# If not, replace this line with your actual loading code\n",
        "\n",
        "# Separate features and target variable\n",
        "X = creditcard_df.drop('Class', axis=1)\n",
        "y = creditcard_df['Class']\n",
        "\n",
        "# Split the data into training and testing sets\n",
        "X_train, X_test, y_train, y_test = train_test_split(X, y, test_size=0.2, random_state=42)\n",
        "\n",
        "# Standardize the data before applying PCA\n",
        "scaler = StandardScaler()\n",
        "X_train_scaled = scaler.fit_transform(X_train)\n",
        "\n",
        "# Apply PCA to reduce dimensionality\n",
        "n_components = 10  # Set the desired number of components\n",
        "pca = PCA(n_components=n_components, random_state=42)\n",
        "X_train_pca = pca.fit_transform(X_train_scaled)\n",
        "\n",
        "# Display the explained variance ratio\n",
        "print(\"Explained Variance Ratio:\", sum(pca.explained_variance_ratio_))\n",
        "\n",
        "# Apply the same transformation to the test set\n",
        "X_test_scaled = scaler.transform(X_test)\n",
        "X_test_pca = pca.transform(X_test_scaled)\n",
        "\n",
        "# Now you can use X_train_pca and X_test_pca for training and testing your model\n"
      ]
    },
    {
      "cell_type": "markdown",
      "metadata": {
        "id": "ey-XkKtc45Rh"
      },
      "source": [
        "# <font color='dodgerblue'>8- Data normalization and standardization</font>\n",
        "**Data normalization is a vital pre-processing, mapping, and scaling method that helps forecasting and prediction models become more accurate.**\n",
        "\n",
        "**Normalisation, which involves reshaping numerical columns to conform to a standard scale, is essential for datasets with different units or magnitudes across different features.**\n",
        "\n",
        "- Advantages:\n",
        "\n",
        "1- Ensures that features with different scales are brought to a standard scale.\n",
        "\n",
        "2- Prevents any single feature from dominating others during model training.\n",
        "\n",
        "3- Particularly helpful for algorithms sensitive to feature scales, such as gradient descent-based optimization algorithms.\n",
        "\n",
        "**Data standardization rescales the features so that they have the properties of a standard normal distribution with a mean of 0 and a standard deviation of 1.**\n",
        "\n",
        "\n",
        "\n",
        "- Advantages:\n",
        "\n",
        "1- Ensures that features contribute equally to the model's training.\n",
        "\n",
        "2- Important for algorithms relying on distance measures, like k-nearest neighbors or clustering algorithms.\n",
        "\n",
        "3- Helps in situations where the underlying assumption of the model is that the features are normally distributed.\n"
      ]
    },
    {
      "cell_type": "code",
      "execution_count": null,
      "metadata": {
        "execution": {
          "iopub.execute_input": "2023-12-31T10:03:54.683898Z",
          "iopub.status.busy": "2023-12-31T10:03:54.682842Z",
          "iopub.status.idle": "2023-12-31T10:03:55.296132Z",
          "shell.execute_reply": "2023-12-31T10:03:55.294693Z",
          "shell.execute_reply.started": "2023-12-31T10:03:54.683834Z"
        },
        "id": "kZ1_MoRb45Rh",
        "outputId": "c640b59c-f4fd-4fee-9e5c-8efc070f4ac9",
        "trusted": true
      },
      "outputs": [
        {
          "name": "stdout",
          "output_type": "stream",
          "text": [
            "Original Dataset:\n",
            "               V1         V2        V3        V4        V5        V6  \\\n",
            "0       -1.359807  -0.072781  2.536347  1.378155 -0.338321  0.462388   \n",
            "1        1.191857   0.266151  0.166480  0.448154  0.060018 -0.082361   \n",
            "2       -1.358354  -1.340163  1.773209  0.379780 -0.503198  1.800499   \n",
            "3       -0.966272  -0.185226  1.792993 -0.863291 -0.010309  1.247203   \n",
            "4       -1.158233   0.877737  1.548718  0.403034 -0.407193  0.095921   \n",
            "...           ...        ...       ...       ...       ...       ...   \n",
            "284802 -11.881118  10.071785 -9.834783 -2.066656 -5.364473 -2.606837   \n",
            "284803  -0.732789  -0.055080  2.035030 -0.738589  0.868229  1.058415   \n",
            "284804   1.919565  -0.301254 -3.249640 -0.557828  2.630515  3.031260   \n",
            "284805  -0.240440   0.530483  0.702510  0.689799 -0.377961  0.623708   \n",
            "284806  -0.533413  -0.189733  0.703337 -0.506271 -0.012546 -0.649617   \n",
            "\n",
            "              V7        V8        V9       V10  ...       V21       V22  \\\n",
            "0       0.239599  0.098698  0.363787  0.090794  ... -0.018307  0.277838   \n",
            "1      -0.078803  0.085102 -0.255425 -0.166974  ... -0.225775 -0.638672   \n",
            "2       0.791461  0.247676 -1.514654  0.207643  ...  0.247998  0.771679   \n",
            "3       0.237609  0.377436 -1.387024 -0.054952  ... -0.108300  0.005274   \n",
            "4       0.592941 -0.270533  0.817739  0.753074  ... -0.009431  0.798278   \n",
            "...          ...       ...       ...       ...  ...       ...       ...   \n",
            "284802 -4.918215  7.305334  1.914428  4.356170  ...  0.213454  0.111864   \n",
            "284803  0.024330  0.294869  0.584800 -0.975926  ...  0.214205  0.924384   \n",
            "284804 -0.296827  0.708417  0.432454 -0.484782  ...  0.232045  0.578229   \n",
            "284805 -0.686180  0.679145  0.392087 -0.399126  ...  0.265245  0.800049   \n",
            "284806  1.577006 -0.414650  0.486180 -0.915427  ...  0.261057  0.643078   \n",
            "\n",
            "             V23       V24       V25       V26       V27       V28  Amount  \\\n",
            "0      -0.110474  0.066928  0.128539 -0.189115  0.133558 -0.021053  149.62   \n",
            "1       0.101288 -0.339846  0.167170  0.125895 -0.008983  0.014724    2.69   \n",
            "2       0.909412 -0.689281 -0.327642 -0.139097 -0.055353 -0.059752  378.66   \n",
            "3      -0.190321 -1.175575  0.647376 -0.221929  0.062723  0.061458  123.50   \n",
            "4      -0.137458  0.141267 -0.206010  0.502292  0.219422  0.215153   69.99   \n",
            "...          ...       ...       ...       ...       ...       ...     ...   \n",
            "284802  1.014480 -0.509348  1.436807  0.250034  0.943651  0.823731    0.77   \n",
            "284803  0.012463 -1.016226 -0.606624 -0.395255  0.068472 -0.053527   24.79   \n",
            "284804 -0.037501  0.640134  0.265745 -0.087371  0.004455 -0.026561   67.88   \n",
            "284805 -0.163298  0.123205 -0.569159  0.546668  0.108821  0.104533   10.00   \n",
            "284806  0.376777  0.008797 -0.473649 -0.818267 -0.002415  0.013649  217.00   \n",
            "\n",
            "        Class  \n",
            "0           0  \n",
            "1           0  \n",
            "2           0  \n",
            "3           0  \n",
            "4           0  \n",
            "...       ...  \n",
            "284802      0  \n",
            "284803      0  \n",
            "284804      0  \n",
            "284805      0  \n",
            "284806      0  \n",
            "\n",
            "[284807 rows x 30 columns]\n",
            "\n",
            "Standardized Dataset:\n",
            "              V1        V2        V3        V4        V5        V6        V7  \\\n",
            "0      -0.694242 -0.044075  1.672773  0.973366 -0.245117  0.347068  0.193679   \n",
            "1       0.608496  0.161176  0.109797  0.316523  0.043483 -0.061820 -0.063700   \n",
            "2      -0.693500 -0.811578  1.169468  0.268231 -0.364572  1.351454  0.639776   \n",
            "3      -0.493325 -0.112169  1.182516 -0.609727 -0.007469  0.936150  0.192071   \n",
            "4      -0.591330  0.531541  1.021412  0.284655 -0.295015  0.071999  0.479302   \n",
            "...          ...       ...       ...       ...       ...       ...       ...   \n",
            "284802 -6.065842  6.099286 -6.486245 -1.459641 -3.886611 -1.956690 -3.975628   \n",
            "284803 -0.374121 -0.033356  1.342145 -0.521651  0.629040  0.794446  0.019667   \n",
            "284804  0.980024 -0.182434 -2.143205 -0.393984  1.905833  2.275262 -0.239939   \n",
            "284805 -0.122755  0.321250  0.463320  0.487192 -0.273836  0.468155 -0.554672   \n",
            "284806 -0.272331 -0.114899  0.463866 -0.357570 -0.009089 -0.487602  1.274769   \n",
            "\n",
            "              V8        V9       V10  ...       V21       V22       V23  \\\n",
            "0       0.082637  0.331128  0.083386  ... -0.024923  0.382854 -0.176911   \n",
            "1       0.071253 -0.232494 -0.153350  ... -0.307377 -0.880077  0.162201   \n",
            "2       0.207373 -1.378675  0.190700  ...  0.337632  1.063358  1.456320   \n",
            "3       0.316018 -1.262503 -0.050468  ... -0.147443  0.007267 -0.304777   \n",
            "4      -0.226510  0.744326  0.691625  ... -0.012839  1.100011 -0.220123   \n",
            "...          ...       ...       ...  ...       ...       ...       ...   \n",
            "284802  6.116573  1.742559  4.000715  ...  0.290602  0.154146  1.624574   \n",
            "284803  0.246886  0.532299 -0.896292  ...  0.291625  1.273781  0.019958   \n",
            "284804  0.593140  0.393630 -0.445225  ...  0.315913  0.796788 -0.060053   \n",
            "284805  0.568631  0.356887 -0.366558  ...  0.361112  1.102451 -0.261503   \n",
            "284806 -0.347176  0.442532 -0.840730  ...  0.355411  0.886149  0.603365   \n",
            "\n",
            "             V24       V25       V26       V27       V28    Amount     Class  \n",
            "0       0.110507  0.246585 -0.392170  0.330892 -0.063781  0.244964 -0.041599  \n",
            "1      -0.561131  0.320694  0.261069 -0.022256  0.044608 -0.342475 -0.041599  \n",
            "2      -1.138092 -0.628537 -0.288447 -0.137137 -0.181021  1.160686 -0.041599  \n",
            "3      -1.941027  1.241904 -0.460217  0.155396  0.186189  0.140534 -0.041599  \n",
            "4       0.233250 -0.395202  1.041611  0.543620  0.651816 -0.073403 -0.041599  \n",
            "...          ...       ...       ...       ...       ...       ...       ...  \n",
            "284802 -0.841000  2.756320  0.518500  2.337901  2.495529 -0.350151 -0.041599  \n",
            "284803 -1.677920 -1.163726 -0.819647  0.169641 -0.162164 -0.254117 -0.041599  \n",
            "284804  1.056944  0.509797 -0.181182  0.011037 -0.080467 -0.081839 -0.041599  \n",
            "284805  0.203428 -1.091855  1.133635  0.269604  0.316687 -0.313249 -0.041599  \n",
            "284806  0.014526 -0.908631 -1.696853 -0.005984  0.041350  0.514355 -0.041599  \n",
            "\n",
            "[284807 rows x 30 columns]\n",
            "\n",
            "Normalized Dataset:\n",
            "              V1        V2        V3        V4        V5        V6        V7  \\\n",
            "0       0.935192  0.766490  0.881365  0.313023  0.763439  0.267669  0.266815   \n",
            "1       0.978542  0.770067  0.840298  0.271796  0.766120  0.262192  0.264875   \n",
            "2       0.935217  0.753118  0.868141  0.268766  0.762329  0.281122  0.270177   \n",
            "3       0.941878  0.765304  0.868484  0.213661  0.765647  0.275559  0.266803   \n",
            "4       0.938617  0.776520  0.864251  0.269796  0.762975  0.263984  0.268968   \n",
            "...          ...       ...       ...       ...       ...       ...       ...   \n",
            "284802  0.756448  0.873531  0.666991  0.160317  0.729603  0.236810  0.235393   \n",
            "284803  0.945845  0.766677  0.872678  0.219189  0.771561  0.273661  0.265504   \n",
            "284804  0.990905  0.764080  0.781102  0.227202  0.783425  0.293496  0.263547   \n",
            "284805  0.954209  0.772856  0.849587  0.282508  0.763172  0.269291  0.261175   \n",
            "284806  0.949232  0.765256  0.849601  0.229488  0.765632  0.256488  0.274963   \n",
            "\n",
            "              V8        V9       V10  ...       V21       V22       V23  \\\n",
            "0       0.786444  0.475312  0.510600  ...  0.561184  0.522992  0.663793   \n",
            "1       0.786298  0.453981  0.505267  ...  0.557840  0.480237  0.666938   \n",
            "2       0.788042  0.410603  0.513018  ...  0.565477  0.546030  0.678939   \n",
            "3       0.789434  0.414999  0.507585  ...  0.559734  0.510277  0.662607   \n",
            "4       0.782484  0.490950  0.524303  ...  0.561327  0.547271  0.663392   \n",
            "...          ...       ...       ...  ...       ...       ...       ...   \n",
            "284802  0.863749  0.528729  0.598850  ...  0.564920  0.515249  0.680500   \n",
            "284803  0.788548  0.482925  0.488530  ...  0.564933  0.553153  0.665619   \n",
            "284804  0.792985  0.477677  0.498692  ...  0.565220  0.537005  0.664877   \n",
            "284805  0.792671  0.476287  0.500464  ...  0.565755  0.547353  0.663008   \n",
            "284806  0.780938  0.479528  0.489782  ...  0.565688  0.540031  0.671029   \n",
            "\n",
            "             V24       V25       V26       V27       V28    Amount  Class  \n",
            "0       0.391253  0.585122  0.394557  0.418976  0.312697  0.005824    0.0  \n",
            "1       0.336440  0.587290  0.446013  0.416345  0.313423  0.000105    0.0  \n",
            "2       0.289354  0.559515  0.402727  0.415489  0.311911  0.014739    0.0  \n",
            "3       0.223826  0.614245  0.389197  0.417669  0.314371  0.004807    0.0  \n",
            "4       0.401270  0.566343  0.507497  0.420561  0.317490  0.002724    0.0  \n",
            "...          ...       ...       ...       ...       ...       ...    ...  \n",
            "284802  0.313600  0.658558  0.466291  0.433929  0.329840  0.000030    0.0  \n",
            "284803  0.245298  0.543855  0.360884  0.417775  0.312038  0.000965    0.0  \n",
            "284804  0.468492  0.592824  0.411177  0.416593  0.312585  0.002642    0.0  \n",
            "284805  0.398836  0.545958  0.514746  0.418520  0.315245  0.000389    0.0  \n",
            "284806  0.383420  0.551319  0.291786  0.416466  0.313401  0.008446    0.0  \n",
            "\n",
            "[284807 rows x 30 columns]\n"
          ]
        }
      ],
      "source": [
        "import pandas as pd\n",
        "from sklearn.preprocessing import StandardScaler, MinMaxScaler\n",
        "\n",
        "# Here, I'm creating a sample DataFrame for demonstration purposes\n",
        "\n",
        "# Display the original dataset\n",
        "print(\"Original Dataset:\")\n",
        "print(creditcard_df)\n",
        "\n",
        "# Standardization\n",
        "scaler_standard = StandardScaler()\n",
        "creditcard_standardized = pd.DataFrame(scaler_standard.fit_transform(creditcard_df), columns=creditcard_df.columns)\n",
        "\n",
        "# Display the standardized dataset\n",
        "print(\"\\nStandardized Dataset:\")\n",
        "print(creditcard_standardized)\n",
        "\n",
        "# Normalization\n",
        "scaler_minmax = MinMaxScaler()\n",
        "creditcard_normalized = pd.DataFrame(scaler_minmax.fit_transform(creditcard_df), columns=creditcard_df.columns)\n",
        "\n",
        "# Display the normalized dataset\n",
        "print(\"\\nNormalized Dataset:\")\n",
        "print(creditcard_normalized)\n"
      ]
    },
    {
      "cell_type": "markdown",
      "metadata": {
        "id": "zXn0oI2545Rw"
      },
      "source": [
        "# <font color='dodgerblue'>9- Feature Engineering</font>\n",
        "**Feature engineering is the process of using domain knowledge to extract features from raw data via data mining techniques. These features can be used to improve the performance of machine learning algorithms. Feature engineering can be considered as applied machine learning itself**\n",
        "\n",
        "\n",
        "- So, feature engineering is the process of creating useful features in a machine learning model. We can see that the success of any machine-learning model depends on the application of various feature engineering techniques.\n"
      ]
    },
    {
      "cell_type": "code",
      "execution_count": null,
      "metadata": {
        "colab": {
          "base_uri": "https://localhost:8080/",
          "height": 457
        },
        "execution": {
          "iopub.execute_input": "2023-12-31T10:03:55.298390Z",
          "iopub.status.busy": "2023-12-31T10:03:55.298001Z",
          "iopub.status.idle": "2023-12-31T10:03:55.833871Z",
          "shell.execute_reply": "2023-12-31T10:03:55.832367Z",
          "shell.execute_reply.started": "2023-12-31T10:03:55.298358Z"
        },
        "id": "8K9xXdni45Rx",
        "outputId": "c7d679cc-0228-4dbd-913d-2efc9af692c1",
        "trusted": true
      },
      "outputs": [
        {
          "name": "stdout",
          "output_type": "stream",
          "text": [
            "total passengers with values in all variables:  183\n",
            "total passengers in the Titanic:  891\n",
            "(891, 12)\n"
          ]
        },
        {
          "data": {
            "text/plain": [
              "Text(0.5, 0, 'Age')"
            ]
          },
          "execution_count": 28,
          "metadata": {},
          "output_type": "execute_result"
        },
        {
          "data": {
            "image/png": "[encoded data removed]",
            "text/plain": [
              "<Figure size 1200x400 with 1 Axes>"
            ]
          },
          "metadata": {},
          "output_type": "display_data"
        }
      ],
      "source": [
        "# print(df.isna())\n",
        "\n",
        "titanic_dataset = pd.read_csv(\"/content/drive/MyDrive/Data Science/data science/Data Preprocessing/secondLab/datasets/gender/train.csv\")\n",
        "titanic_df = pd.DataFrame(titanic_dataset)\n",
        "# check how many observations we would drop\n",
        "print('total passengers with values in all variables: ', titanic_df.dropna().shape[0])\n",
        "print('total passengers in the Titanic: ', titanic_df.shape[0])\n",
        "print(titanic_df.shape)\n",
        "plt.figure(figsize=(12,4))\n",
        "fig = titanic_df.Age.hist(bins=100)\n",
        "fig.set_ylabel('Number of passengers')\n",
        "fig.set_xlabel('Age')"
      ]
    },
    {
      "cell_type": "code",
      "execution_count": null,
      "metadata": {
        "colab": {
          "base_uri": "https://localhost:8080/",
          "height": 1000
        },
        "execution": {
          "iopub.execute_input": "2023-12-31T10:03:55.837399Z",
          "iopub.status.busy": "2023-12-31T10:03:55.835990Z",
          "iopub.status.idle": "2023-12-31T10:03:56.653189Z",
          "shell.execute_reply": "2023-12-31T10:03:56.651788Z",
          "shell.execute_reply.started": "2023-12-31T10:03:55.837347Z"
        },
        "id": "uII7JhjN45Ry",
        "outputId": "26377352-8920-43ff-d985-3ee6bf119373",
        "trusted": true
      },
      "outputs": [
        {
          "name": "stdout",
          "output_type": "stream",
          "text": [
            "(150, 6)\n",
            "Feature Scores:\n",
            "         Feature        Score\n",
            "0             Id  2614.883721\n",
            "3  PetalLengthCm    92.082199\n",
            "4   PetalWidthCm    52.604868\n",
            "1  SepalLengthCm     8.227146\n",
            "2   SepalWidthCm     3.122062\n",
            "\n",
            "Selected Features (RFE):\n",
            "         Feature  Selected\n",
            "0             Id      True\n",
            "1  SepalLengthCm      True\n",
            "2   SepalWidthCm      True\n",
            "3  PetalLengthCm      True\n",
            "4   PetalWidthCm      True\n"
          ]
        },
        {
          "name": "stderr",
          "output_type": "stream",
          "text": [
            "/usr/local/lib/python3.10/dist-packages/sklearn/linear_model/_logistic.py:458: ConvergenceWarning: lbfgs failed to converge (status=1):\n",
            "STOP: TOTAL NO. of ITERATIONS REACHED LIMIT.\n",
            "\n",
            "Increase the number of iterations (max_iter) or scale the data as shown in:\n",
            "    https://scikit-learn.org/stable/modules/preprocessing.html\n",
            "Please also refer to the documentation for alternative solver options:\n",
            "    https://scikit-learn.org/stable/modules/linear_model.html#logistic-regression\n",
            "  n_iter_i = _check_optimize_result(\n"
          ]
        },
        {
          "name": "stdout",
          "output_type": "stream",
          "text": [
            "\n",
            "Feature Importance:\n",
            "         Feature  Importance\n",
            "0             Id    0.447774\n",
            "4   PetalWidthCm    0.291524\n",
            "3  PetalLengthCm    0.194906\n",
            "1  SepalLengthCm    0.060025\n",
            "2   SepalWidthCm    0.005770\n",
            "\n",
            "Selected Features (Embedded):\n",
            "         Feature  Selected\n",
            "0             Id      True\n",
            "3  PetalLengthCm      True\n",
            "4   PetalWidthCm      True\n"
          ]
        },
        {
          "data": {
            "image/png": "[encoded data removed]",
            "text/plain": [
              "<Figure size 1000x600 with 1 Axes>"
            ]
          },
          "metadata": {},
          "output_type": "display_data"
        }
      ],
      "source": [
        "# Import libraries\n",
        "from sklearn.model_selection import train_test_split\n",
        "from sklearn.ensemble import RandomForestClassifier\n",
        "from sklearn.feature_selection import SelectKBest, chi2, RFE\n",
        "from sklearn.linear_model import LogisticRegression\n",
        "from sklearn.feature_selection import SelectFromModel\n",
        "import matplotlib.pyplot as plt\n",
        "\n",
        "# Load your dataset\n",
        "data = pd.read_csv('/content/drive/MyDrive/Iris.csv')\n",
        "print(data.shape)\n",
        "# Replace 'target_column' with the name of your target variable\n",
        "X = data.drop('Species', axis=1)\n",
        "y = data['Species']\n",
        "\n",
        "# Split the data into training and testing sets\n",
        "X_train, X_test, y_train, y_test = train_test_split(X, y, test_size=0.2, random_state=42)\n",
        "\n",
        "# Method 1: Filter methods - SelectKBest with chi-squared\n",
        "#chi2 for classification of categorical features\n",
        "#f_classif \\\\ \\\\ of Numerical features\n",
        "#mutual _info_classif: for non-linear relationships (classification)\n",
        "#mutual_info_regression: \\\\ \\\\ \\\\ (Regression)\n",
        "best_features = SelectKBest(score_func=chi2, k='all')\n",
        "fit = best_features.fit(X_train, y_train)\n",
        "\n",
        "# Display the scores for each feature\n",
        "feature_scores = pd.DataFrame({'Feature': X_train.columns, 'Score': fit.scores_})\n",
        "print(\"Feature Scores:\")\n",
        "print(feature_scores.sort_values(by='Score', ascending=False))\n",
        "\n",
        "# Method 2: Wrapper methods - Recursive Feature Elimination (RFE) with Logistic Regression\n",
        "#Binar Categorical brimary used for classification\n",
        "#Map any real-valued number between 0 and 1 (probabiltiy) Predicting a quantity rather than classifying data into categories\n",
        "#Consider the interaction between features, don't measure each feature independently to the target variable\n",
        "model = LogisticRegression()\n",
        "rfe = RFE(model, n_features_to_select=5)  # You can adjust the number of features to select\n",
        "fit = rfe.fit(X_train, y_train)\n",
        "\n",
        "# Display the selected features\n",
        "selected_features = pd.DataFrame({'Feature': X_train.columns, 'Selected': fit.support_})\n",
        "print(\"\\nSelected Features (RFE):\")\n",
        "print(selected_features[selected_features['Selected']])\n",
        "\n",
        "# Method 3: Embedded methods - Feature importance using RandomForestClassifier\n",
        "model = RandomForestClassifier()\n",
        "model.fit(X_train, y_train)\n",
        "\n",
        "# Display feature importance scores\n",
        "feature_importance = pd.DataFrame({'Feature': X_train.columns, 'Importance': model.feature_importances_})\n",
        "print(\"\\nFeature Importance:\")\n",
        "print(feature_importance.sort_values(by='Importance', ascending=False))\n",
        "\n",
        "# Select features based on importance score\n",
        "sfm = SelectFromModel(model, threshold=0.1)  # You can adjust the threshold\n",
        "sfm.fit(X_train, y_train)\n",
        "\n",
        "# Display the selected features\n",
        "selected_features_embedded = pd.DataFrame({'Feature': X_train.columns, 'Selected': sfm.get_support()})\n",
        "print(\"\\nSelected Features (Embedded):\")\n",
        "print(selected_features_embedded[selected_features_embedded['Selected']])\n",
        "\n",
        "# Visualize feature importance\n",
        "plt.figure(figsize=(10, 6))\n",
        "plt.barh(feature_importance['Feature'], feature_importance['Importance'])\n",
        "plt.title('Feature Importance')\n",
        "plt.xlabel('Importance Score')\n",
        "plt.show()\n"
      ]
    },
    {
      "cell_type": "code",
      "execution_count": null,
      "metadata": {
        "execution": {
          "iopub.execute_input": "2023-12-31T10:03:56.655844Z",
          "iopub.status.busy": "2023-12-31T10:03:56.655092Z",
          "iopub.status.idle": "2023-12-31T10:03:56.702262Z",
          "shell.execute_reply": "2023-12-31T10:03:56.700661Z",
          "shell.execute_reply.started": "2023-12-31T10:03:56.655799Z"
        },
        "id": "rC5DOV5445Ry",
        "outputId": "85f46aa5-2034-46f6-a2e1-f354ee8a30e3",
        "trusted": true
      },
      "outputs": [
        {
          "data": {
            "text/html": [
              "<div>\n",
              "<style scoped>\n",
              "    .dataframe tbody tr th:only-of-type {\n",
              "        vertical-align: middle;\n",
              "    }\n",
              "\n",
              "    .dataframe tbody tr th {\n",
              "        vertical-align: top;\n",
              "    }\n",
              "\n",
              "    .dataframe thead th {\n",
              "        text-align: right;\n",
              "    }\n",
              "</style>\n",
              "<table border=\"1\" class=\"dataframe\">\n",
              "  <thead>\n",
              "    <tr style=\"text-align: right;\">\n",
              "      <th></th>\n",
              "      <th>mean radius</th>\n",
              "      <th>mean texture</th>\n",
              "      <th>mean perimeter</th>\n",
              "      <th>mean area</th>\n",
              "      <th>mean smoothness</th>\n",
              "      <th>mean compactness</th>\n",
              "      <th>mean concavity</th>\n",
              "      <th>mean concave points</th>\n",
              "      <th>mean symmetry</th>\n",
              "      <th>mean fractal dimension</th>\n",
              "      <th>...</th>\n",
              "      <th>worst texture</th>\n",
              "      <th>worst perimeter</th>\n",
              "      <th>worst area</th>\n",
              "      <th>worst smoothness</th>\n",
              "      <th>worst compactness</th>\n",
              "      <th>worst concavity</th>\n",
              "      <th>worst concave points</th>\n",
              "      <th>worst symmetry</th>\n",
              "      <th>worst fractal dimension</th>\n",
              "      <th>target</th>\n",
              "    </tr>\n",
              "  </thead>\n",
              "  <tbody>\n",
              "    <tr>\n",
              "      <th>0</th>\n",
              "      <td>17.99</td>\n",
              "      <td>10.38</td>\n",
              "      <td>122.80</td>\n",
              "      <td>1001.0</td>\n",
              "      <td>0.11840</td>\n",
              "      <td>0.27760</td>\n",
              "      <td>0.3001</td>\n",
              "      <td>0.14710</td>\n",
              "      <td>0.2419</td>\n",
              "      <td>0.07871</td>\n",
              "      <td>...</td>\n",
              "      <td>17.33</td>\n",
              "      <td>184.60</td>\n",
              "      <td>2019.0</td>\n",
              "      <td>0.1622</td>\n",
              "      <td>0.6656</td>\n",
              "      <td>0.7119</td>\n",
              "      <td>0.2654</td>\n",
              "      <td>0.4601</td>\n",
              "      <td>0.11890</td>\n",
              "      <td>0.0</td>\n",
              "    </tr>\n",
              "    <tr>\n",
              "      <th>1</th>\n",
              "      <td>20.57</td>\n",
              "      <td>17.77</td>\n",
              "      <td>132.90</td>\n",
              "      <td>1326.0</td>\n",
              "      <td>0.08474</td>\n",
              "      <td>0.07864</td>\n",
              "      <td>0.0869</td>\n",
              "      <td>0.07017</td>\n",
              "      <td>0.1812</td>\n",
              "      <td>0.05667</td>\n",
              "      <td>...</td>\n",
              "      <td>23.41</td>\n",
              "      <td>158.80</td>\n",
              "      <td>1956.0</td>\n",
              "      <td>0.1238</td>\n",
              "      <td>0.1866</td>\n",
              "      <td>0.2416</td>\n",
              "      <td>0.1860</td>\n",
              "      <td>0.2750</td>\n",
              "      <td>0.08902</td>\n",
              "      <td>0.0</td>\n",
              "    </tr>\n",
              "    <tr>\n",
              "      <th>2</th>\n",
              "      <td>19.69</td>\n",
              "      <td>21.25</td>\n",
              "      <td>130.00</td>\n",
              "      <td>1203.0</td>\n",
              "      <td>0.10960</td>\n",
              "      <td>0.15990</td>\n",
              "      <td>0.1974</td>\n",
              "      <td>0.12790</td>\n",
              "      <td>0.2069</td>\n",
              "      <td>0.05999</td>\n",
              "      <td>...</td>\n",
              "      <td>25.53</td>\n",
              "      <td>152.50</td>\n",
              "      <td>1709.0</td>\n",
              "      <td>0.1444</td>\n",
              "      <td>0.4245</td>\n",
              "      <td>0.4504</td>\n",
              "      <td>0.2430</td>\n",
              "      <td>0.3613</td>\n",
              "      <td>0.08758</td>\n",
              "      <td>0.0</td>\n",
              "    </tr>\n",
              "    <tr>\n",
              "      <th>3</th>\n",
              "      <td>11.42</td>\n",
              "      <td>20.38</td>\n",
              "      <td>77.58</td>\n",
              "      <td>386.1</td>\n",
              "      <td>0.14250</td>\n",
              "      <td>0.28390</td>\n",
              "      <td>0.2414</td>\n",
              "      <td>0.10520</td>\n",
              "      <td>0.2597</td>\n",
              "      <td>0.09744</td>\n",
              "      <td>...</td>\n",
              "      <td>26.50</td>\n",
              "      <td>98.87</td>\n",
              "      <td>567.7</td>\n",
              "      <td>0.2098</td>\n",
              "      <td>0.8663</td>\n",
              "      <td>0.6869</td>\n",
              "      <td>0.2575</td>\n",
              "      <td>0.6638</td>\n",
              "      <td>0.17300</td>\n",
              "      <td>0.0</td>\n",
              "    </tr>\n",
              "    <tr>\n",
              "      <th>4</th>\n",
              "      <td>20.29</td>\n",
              "      <td>14.34</td>\n",
              "      <td>135.10</td>\n",
              "      <td>1297.0</td>\n",
              "      <td>0.10030</td>\n",
              "      <td>0.13280</td>\n",
              "      <td>0.1980</td>\n",
              "      <td>0.10430</td>\n",
              "      <td>0.1809</td>\n",
              "      <td>0.05883</td>\n",
              "      <td>...</td>\n",
              "      <td>16.67</td>\n",
              "      <td>152.20</td>\n",
              "      <td>1575.0</td>\n",
              "      <td>0.1374</td>\n",
              "      <td>0.2050</td>\n",
              "      <td>0.4000</td>\n",
              "      <td>0.1625</td>\n",
              "      <td>0.2364</td>\n",
              "      <td>0.07678</td>\n",
              "      <td>0.0</td>\n",
              "    </tr>\n",
              "  </tbody>\n",
              "</table>\n",
              "<p>5 rows × 31 columns</p>\n",
              "</div>"
            ],
            "text/plain": [
              "   mean radius  mean texture  mean perimeter  mean area  mean smoothness  \\\n",
              "0        17.99         10.38          122.80     1001.0          0.11840   \n",
              "1        20.57         17.77          132.90     1326.0          0.08474   \n",
              "2        19.69         21.25          130.00     1203.0          0.10960   \n",
              "3        11.42         20.38           77.58      386.1          0.14250   \n",
              "4        20.29         14.34          135.10     1297.0          0.10030   \n",
              "\n",
              "   mean compactness  mean concavity  mean concave points  mean symmetry  \\\n",
              "0           0.27760          0.3001              0.14710         0.2419   \n",
              "1           0.07864          0.0869              0.07017         0.1812   \n",
              "2           0.15990          0.1974              0.12790         0.2069   \n",
              "3           0.28390          0.2414              0.10520         0.2597   \n",
              "4           0.13280          0.1980              0.10430         0.1809   \n",
              "\n",
              "   mean fractal dimension  ...  worst texture  worst perimeter  worst area  \\\n",
              "0                 0.07871  ...          17.33           184.60      2019.0   \n",
              "1                 0.05667  ...          23.41           158.80      1956.0   \n",
              "2                 0.05999  ...          25.53           152.50      1709.0   \n",
              "3                 0.09744  ...          26.50            98.87       567.7   \n",
              "4                 0.05883  ...          16.67           152.20      1575.0   \n",
              "\n",
              "   worst smoothness  worst compactness  worst concavity  worst concave points  \\\n",
              "0            0.1622             0.6656           0.7119                0.2654   \n",
              "1            0.1238             0.1866           0.2416                0.1860   \n",
              "2            0.1444             0.4245           0.4504                0.2430   \n",
              "3            0.2098             0.8663           0.6869                0.2575   \n",
              "4            0.1374             0.2050           0.4000                0.1625   \n",
              "\n",
              "   worst symmetry  worst fractal dimension  target  \n",
              "0          0.4601                  0.11890     0.0  \n",
              "1          0.2750                  0.08902     0.0  \n",
              "2          0.3613                  0.08758     0.0  \n",
              "3          0.6638                  0.17300     0.0  \n",
              "4          0.2364                  0.07678     0.0  \n",
              "\n",
              "[5 rows x 31 columns]"
            ]
          },
          "execution_count": 35,
          "metadata": {},
          "output_type": "execute_result"
        }
      ],
      "source": [
        "from sklearn.datasets import load_breast_cancer\n",
        "data = load_breast_cancer()\n",
        "data = pd.DataFrame(np.c_[data['data'], data['target']],columns= np.append(data['feature_names'], ['target']))\n",
        "data.head(5)"
      ]
    },
    {
      "cell_type": "code",
      "execution_count": null,
      "metadata": {
        "execution": {
          "iopub.execute_input": "2023-12-31T10:03:56.704604Z",
          "iopub.status.busy": "2023-12-31T10:03:56.704063Z",
          "iopub.status.idle": "2023-12-31T10:03:56.719576Z",
          "shell.execute_reply": "2023-12-31T10:03:56.717893Z",
          "shell.execute_reply.started": "2023-12-31T10:03:56.704558Z"
        },
        "id": "XvSByWW845Rz",
        "outputId": "5e7d081e-587d-442b-e37c-bb65a4793b1e",
        "trusted": true
      },
      "outputs": [
        {
          "data": {
            "text/plain": [
              "((455, 30), (114, 30))"
            ]
          },
          "execution_count": 36,
          "metadata": {},
          "output_type": "execute_result"
        }
      ],
      "source": [
        "X_train, X_test, y_train, y_test = train_test_split(data.drop(labels=['target'], axis=1), data.target, test_size=0.2, random_state=0)\n",
        "X_train.shape, X_test.shape"
      ]
    },
    {
      "cell_type": "code",
      "execution_count": null,
      "metadata": {
        "colab": {
          "base_uri": "https://localhost:8080/"
        },
        "id": "mKNMAUUJ45Rz",
        "outputId": "266976d4-05e8-4851-c035-099f860e83a3"
      },
      "outputs": [
        {
          "name": "stdout",
          "output_type": "stream",
          "text": [
            "Shape of the original dataset: (284807, 30)\n",
            "Shape after creating polynomial features: (284807, 496)\n",
            "Shape after standardizing numerical features: (284807, 496)\n",
            "Shape after PCA feature extraction: (284807, 10)\n",
            "Shape after selecting top K features: (284807, 5)\n"
          ]
        }
      ],
      "source": [
        "import pandas as pd\n",
        "from sklearn.model_selection import train_test_split\n",
        "from sklearn.preprocessing import StandardScaler, PolynomialFeatures\n",
        "from sklearn.decomposition import PCA\n",
        "from sklearn.feature_selection import SelectKBest, f_classif\n",
        "\n",
        "# Load the credit card dataset (assuming you have a CSV file)\n",
        "credit_data = pd.read_csv('/content/drive/MyDrive/Data Science/data science/Data Preprocessing/secondLab/datasets/creditcard/creditcard.csv')\n",
        "\n",
        "# Assuming 'Class' is the target variable and 'Amount' and 'Time' are existing features\n",
        "X = credit_data.drop(['Class'], axis=1)\n",
        "y = credit_data['Class']\n",
        "\n",
        "print(\"Shape of the original dataset:\", X.shape)\n",
        "\n",
        "# Feature Creation: Creating polynomial features\n",
        "poly = PolynomialFeatures(degree=2)\n",
        "X_poly = poly.fit_transform(X)\n",
        "# Example:\n",
        "# Suppose you have a dataset with a single feature, [a]. Using PolynomialFeatures(degree=2), it would generate features like [a, a^2]. If the original dataset had multiple features, say [a, b], it would generate polynomial combinations like [a, b, a^2, ab, b^2].\n",
        "\n",
        "print(\"Shape after creating polynomial features:\", X_poly.shape)\n",
        "\n",
        "# Feature Transformation: Standardizing numerical features\n",
        "scaler = StandardScaler()\n",
        "X_scaled = scaler.fit_transform(X_poly)\n",
        "print(\"Shape after standardizing numerical features:\", X_scaled.shape)\n",
        "\n",
        "# Feature Extraction: Applying PCA to reduce dimensionality\n",
        "pca = PCA(n_components=10)  # Choose an appropriate number of components\n",
        "X_pca = pca.fit_transform(X_scaled)\n",
        "print(\"Shape after PCA feature extraction:\", X_pca.shape)\n",
        "\n",
        "# Feature Selection: Selecting top K features using ANOVA F-statistic\n",
        "k_best = SelectKBest(f_classif, k=5)  # Choose an appropriate value of K\n",
        "X_selected = k_best.fit_transform(X_pca, y)\n",
        "print(\"Shape after selecting top K features:\", X_selected.shape)\n",
        "\n",
        "# Split the data into training and testing sets\n",
        "X_train, X_test, y_train, y_test = train_test_split(X_selected, y, test_size=0.2, random_state=42)\n",
        "\n",
        "# Now, you can use X_train and y_train for training your machine learning model.\n",
        "# The features have been created, transformed, extracted, and selected based on the pipeline.\n"
      ]
    },
    {
      "cell_type": "markdown",
      "metadata": {
        "id": "ShJ1j1kJ45Rz"
      },
      "source": [
        "**There are three types of feature selection: Wrapper methods (forward, backward, and stepwise selection), Filter methods (ANOVA, Pearson correlation, variance thresholding), and Embedded methods (Lasso, Ridge, Decision Tree).**\n"
      ]
    },
    {
      "cell_type": "markdown",
      "metadata": {
        "id": "CS1pbTOr45Rz"
      },
      "source": [
        "# **1- Filter methods**"
      ]
    },
    {
      "cell_type": "code",
      "execution_count": null,
      "metadata": {
        "execution": {
          "iopub.execute_input": "2023-12-31T10:03:56.722259Z",
          "iopub.status.busy": "2023-12-31T10:03:56.721833Z",
          "iopub.status.idle": "2023-12-31T10:03:57.659309Z",
          "shell.execute_reply": "2023-12-31T10:03:57.658140Z",
          "shell.execute_reply.started": "2023-12-31T10:03:56.722217Z"
        },
        "id": "Kwy_q__a45R0",
        "outputId": "ff9a9492-0a37-4831-b49f-db24e91ecf28",
        "trusted": true
      },
      "outputs": [
        {
          "data": {
            "image/png": "[encoded data removed]",
            "text/plain": [
              "<Figure size 640x480 with 2 Axes>"
            ]
          },
          "metadata": {},
          "output_type": "display_data"
        },
        {
          "name": "stdout",
          "output_type": "stream",
          "text": [
            "Accuracy without feature selection: 1.0\n",
            "Accuracy after feature selection: 1.0\n"
          ]
        }
      ],
      "source": [
        "import pandas as pd\n",
        "from sklearn.feature_selection import VarianceThreshold, SelectKBest, mutual_info_classif\n",
        "from sklearn.model_selection import train_test_split\n",
        "from sklearn.ensemble import RandomForestClassifier\n",
        "from sklearn.metrics import accuracy_score\n",
        "import seaborn as sns\n",
        "import matplotlib.pyplot as plt\n",
        "\n",
        "# Load your dataset\n",
        "data = pd.read_csv('./datasets/iris/Iris.csv')\n",
        "\n",
        "# Replace 'target_column' with the name of your target variable\n",
        "X = data.drop('Species', axis=1)\n",
        "y = data['Species']\n",
        "\n",
        "# Split the data into training and testing sets\n",
        "X_train, X_test, y_train, y_test = train_test_split(X, y, test_size=0.2, random_state=42)\n",
        "\n",
        "# Filter Method 1: Variance Thresholding\n",
        "# removing features that show the same value for the majority/all of the observations (constant/almost-constant features)\n",
        "\n",
        "var_threshold = VarianceThreshold(threshold=0.1)\n",
        "X_train_var = var_threshold.fit_transform(X_train)\n",
        "\n",
        "# Filter Method 2: SelectKBest with Mutual Information'\n",
        "# Mutual information measures how much information the presence/absence of a feature contributes to making the correct prediction on Y.\n",
        "k_best = SelectKBest(score_func=mutual_info_classif, k=5)  # You can adjust the number of features\n",
        "X_train_kbest = k_best.fit_transform(X_train, y_train)\n",
        "\n",
        "# Filter Method 3: Correlation Analysis\n",
        "# remove features that are highly correlated with each other.. By identifying and removing such features, you can simplify the model\n",
        "correlation_matrix = X_train.corr().abs()\n",
        "sns.heatmap(correlation_matrix, annot=True, cmap='coolwarm', fmt=\".2f\")\n",
        "plt.title('Correlation Matrix')\n",
        "plt.show()\n",
        "\n",
        "# Select highly correlated features (adjust the threshold as needed)\n",
        "highly_correlated_features = set()\n",
        "for i in range(len(correlation_matrix.columns)):\n",
        "    for j in range(i):\n",
        "        if abs(correlation_matrix.iloc[i, j]) > 0.8:\n",
        "            colname = correlation_matrix.columns[i]\n",
        "            highly_correlated_features.add(colname)\n",
        "\n",
        "# Remove highly correlated features\n",
        "X_train_corr = X_train.drop(columns=highly_correlated_features)\n",
        "\n",
        "# Train a model and evaluate\n",
        "model = RandomForestClassifier()\n",
        "model.fit(X_train, y_train)\n",
        "y_pred = model.predict(X_test)\n",
        "accuracy = accuracy_score(y_test, y_pred)\n",
        "print(f\"Accuracy without feature selection: {accuracy}\")\n",
        "\n",
        "# Train a model and evaluate after feature selection\n",
        "model.fit(X_train_corr, y_train)\n",
        "y_pred_corr = model.predict(X_test[X_train_corr.columns])\n",
        "accuracy_corr = accuracy_score(y_test, y_pred_corr)\n",
        "print(f\"Accuracy after feature selection: {accuracy_corr}\")\n"
      ]
    },
    {
      "cell_type": "markdown",
      "metadata": {
        "id": "YlhdPYMa45R0"
      },
      "source": [
        "# **2- Wrapper Metohds**"
      ]
    },
    {
      "cell_type": "code",
      "execution_count": null,
      "metadata": {
        "execution": {
          "iopub.execute_input": "2023-12-31T10:03:57.661754Z",
          "iopub.status.busy": "2023-12-31T10:03:57.660758Z",
          "iopub.status.idle": "2023-12-31T10:04:01.516824Z",
          "shell.execute_reply": "2023-12-31T10:04:01.514577Z",
          "shell.execute_reply.started": "2023-12-31T10:03:57.661709Z"
        },
        "id": "sZp7ysYm45R0",
        "outputId": "51336663-0d66-4f2c-c960-d09fb0e04c68",
        "trusted": true
      },
      "outputs": [
        {
          "name": "stdout",
          "output_type": "stream",
          "text": [
            "Selected Features after RFE:\n",
            "Index(['mean concave points', 'worst radius', 'worst perimeter', 'worst area',\n",
            "       'worst concave points'],\n",
            "      dtype='object')\n",
            "Accuracy after RFE: 0.956140350877193\n"
          ]
        },
        {
          "name": "stderr",
          "output_type": "stream",
          "text": [
            "c:\\Python312\\Lib\\site-packages\\sklearn\\base.py:458: UserWarning:\n",
            "\n",
            "X has feature names, but RandomForestClassifier was fitted without feature names\n",
            "\n"
          ]
        }
      ],
      "source": [
        "import pandas as pd\n",
        "from sklearn.model_selection import train_test_split\n",
        "from sklearn.ensemble import RandomForestClassifier\n",
        "from sklearn.metrics import accuracy_score\n",
        "from sklearn.feature_selection import RFE, SequentialFeatureSelector\n",
        "from sklearn.datasets import load_breast_cancer\n",
        "\n",
        "# Load the Breast Cancer dataset\n",
        "data = load_breast_cancer()\n",
        "X = pd.DataFrame(data.data, columns=data.feature_names)\n",
        "y = pd.Series(data.target, name='target')\n",
        "\n",
        "# Split the data into training and testing sets\n",
        "X_train, X_test, y_train, y_test = train_test_split(X, y, test_size=0.2, random_state=42)\n",
        "\n",
        "# wrapper Method 0: Exhaustive Feature Selection\n",
        "# Wrapper Method 1: Recursive Feature Elimination (RFE)\n",
        "# feature selection method that fits a model and removes the weakest features until the specified number of features is reached.\n",
        "model_rfe = RandomForestClassifier()\n",
        "rfe = RFE(model_rfe, n_features_to_select=5)  # You can adjust the number of features to select\n",
        "X_train_rfe = rfe.fit_transform(X_train, y_train)\n",
        "\n",
        "# Display selected features after RFE\n",
        "print(\"Selected Features after RFE:\")\n",
        "print(X.columns[rfe.support_])\n",
        "\n",
        "# Train a model and evaluate after RFE\n",
        "model_rfe.fit(X_train_rfe, y_train)\n",
        "y_pred_rfe = model_rfe.predict(X_test[X.columns[rfe.support_]])\n",
        "accuracy_rfe = accuracy_score(y_test, y_pred_rfe)\n",
        "print(f\"Accuracy after RFE: {accuracy_rfe}\")\n",
        "\n",
        "# Wrapper Method 2: Sequential Feature Selection (SFS)\n",
        "# select top 5 features based on the optimal RandomForest Classifier\n",
        "# forward: starts with empty set of features and starts to add features\n",
        "# backward: starts with all features then starts to remove features\n",
        "model_sfs = RandomForestClassifier()\n",
        "sfs = SequentialFeatureSelector(model_sfs, n_features_to_select=5, direction='forward')\n"
      ]
    },
    {
      "cell_type": "markdown",
      "metadata": {
        "id": "ROMpye-v45R0"
      },
      "source": [
        "# **3- Embedded methods:**"
      ]
    },
    {
      "cell_type": "code",
      "execution_count": null,
      "metadata": {
        "execution": {
          "iopub.status.busy": "2023-12-31T10:04:01.518107Z",
          "iopub.status.idle": "2023-12-31T10:04:01.518636Z",
          "shell.execute_reply": "2023-12-31T10:04:01.518420Z",
          "shell.execute_reply.started": "2023-12-31T10:04:01.518396Z"
        },
        "id": "IZwVOvO345R0",
        "outputId": "374e77f4-f5a6-416e-cb3c-741f51a4c7a3",
        "trusted": true
      },
      "outputs": [
        {
          "name": "stdout",
          "output_type": "stream",
          "text": [
            "Accuracy after embedded feature selection: 0.9736842105263158\n"
          ]
        }
      ],
      "source": [
        "import pandas as pd\n",
        "from sklearn.model_selection import train_test_split\n",
        "from sklearn.linear_model import LogisticRegression\n",
        "from sklearn.metrics import accuracy_score\n",
        "from sklearn.preprocessing import StandardScaler\n",
        "from sklearn.datasets import load_breast_cancer\n",
        "\n",
        "# Load the Breast Cancer dataset\n",
        "data = load_breast_cancer()\n",
        "X = pd.DataFrame(data.data, columns=data.feature_names)\n",
        "y = pd.Series(data.target, name='target')\n",
        "\n",
        "# Split the data into training and testing sets\n",
        "X_train, X_test, y_train, y_test = train_test_split(X, y, test_size=0.2, random_state=42)\n",
        "\n",
        "# Feature Scaling using StandardScaler\n",
        "scaler = StandardScaler()\n",
        "X_train_scaled = scaler.fit_transform(X_train)\n",
        "X_test_scaled = scaler.transform(X_test)\n",
        "\n",
        "# Embedded Feature Selection using L1 Regularization (LASSO) Least absolute shrinkage and selection operator\n",
        "# The key effect of L1 regularization is that it tends to shrink some of the coefficients of the model to exactly zero.\n",
        "# This leads to feature selection, as the corresponding features with zero coefficients are effectively ignored by the model.\n",
        "model = LogisticRegression(penalty='l1', solver='liblinear', random_state=42)\n",
        "model.fit(X_train_scaled, y_train)\n",
        "\n",
        "# Extract selected features based on non-zero coefficients\n",
        "selected_features = X.columns[model.coef_[0] != 0]\n",
        "\n",
        "# Train a model on the selected features\n",
        "X_train_selected = X_train_scaled[:, model.coef_[0] != 0]\n",
        "X_test_selected = X_test_scaled[:, model.coef_[0] != 0]\n",
        "\n",
        "# Ensure that at least one feature is selected\n",
        "if X_train_selected.shape[1] == 0:\n",
        "    raise ValueError(\"No features selected. Adjust regularization or data.\")\n",
        "\n",
        "# Train a model on the selected features\n",
        "model.fit(X_train_selected, y_train)\n",
        "\n",
        "# Make predictions on the test set\n",
        "y_pred = model.predict(X_test_selected)\n",
        "\n",
        "# Evaluate the model\n",
        "accuracy = accuracy_score(y_test, y_pred)\n",
        "print(f\"Accuracy after embedded feature selection: {accuracy}\")\n"
      ]
    },
    {
      "cell_type": "markdown",
      "metadata": {
        "id": "A1JpW2vs45R1"
      },
      "source": [
        "# <font color='dodgerblue'>10- Text preprocessing</font>\n"
      ]
    },
    {
      "cell_type": "code",
      "execution_count": null,
      "metadata": {
        "colab": {
          "base_uri": "https://localhost:8080/"
        },
        "execution": {
          "iopub.status.busy": "2023-12-31T10:04:01.521215Z",
          "iopub.status.idle": "2023-12-31T10:04:01.521720Z",
          "shell.execute_reply": "2023-12-31T10:04:01.521522Z",
          "shell.execute_reply.started": "2023-12-31T10:04:01.521499Z"
        },
        "id": "G_7AIYLa45R1",
        "outputId": "f21bce56-ec7c-4119-b6ac-17d09ffa0b53",
        "trusted": true
      },
      "outputs": [
        {
          "name": "stderr",
          "output_type": "stream",
          "text": [
            "[nltk_data] Downloading package punkt to /root/nltk_data...\n",
            "[nltk_data]   Unzipping tokenizers/punkt.zip.\n",
            "[nltk_data] Downloading package stopwords to /root/nltk_data...\n",
            "[nltk_data]   Unzipping corpora/stopwords.zip.\n",
            "[nltk_data] Downloading package wordnet to /root/nltk_data...\n"
          ]
        },
        {
          "name": "stdout",
          "output_type": "stream",
          "text": [
            "Original Text:\n",
            "\n",
            "Natural language processing (NLP) is a subfield of artificial intelligence that focuses on the interaction\n",
            "between computers and humans through natural language. The ultimate objective of NLP is to read, decipher,\n",
            "understand, and make sense of human languages in a valuable way.\n",
            "\n",
            "\n",
            "Tokenization using NLTK:\n",
            "['Natural', 'language', 'processing', '(', 'NLP', ')', 'is', 'a', 'subfield', 'of', 'artificial', 'intelligence', 'that', 'focuses', 'on', 'the', 'interaction', 'between', 'computers', 'and', 'humans', 'through', 'natural', 'language', '.', 'The', 'ultimate', 'objective', 'of', 'NLP', 'is', 'to', 'read', ',', 'decipher', ',', 'understand', ',', 'and', 'make', 'sense', 'of', 'human', 'languages', 'in', 'a', 'valuable', 'way', '.']\n",
            "\n",
            "Tokenization using spaCy:\n",
            "['\\n', 'Natural', 'language', 'processing', '(', 'NLP', ')', 'is', 'a', 'subfield', 'of', 'artificial', 'intelligence', 'that', 'focuses', 'on', 'the', 'interaction', '\\n', 'between', 'computers', 'and', 'humans', 'through', 'natural', 'language', '.', 'The', 'ultimate', 'objective', 'of', 'NLP', 'is', 'to', 'read', ',', 'decipher', ',', '\\n', 'understand', ',', 'and', 'make', 'sense', 'of', 'human', 'languages', 'in', 'a', 'valuable', 'way', '.', '\\n']\n",
            "\n",
            "Sentences using NLTK:\n",
            "['\\nNatural language processing (NLP) is a subfield of artificial intelligence that focuses on the interaction\\nbetween computers and humans through natural language.', 'The ultimate objective of NLP is to read, decipher,\\nunderstand, and make sense of human languages in a valuable way.']\n",
            "\n",
            "Sentences using spaCy:\n",
            "['\\nNatural language processing (NLP) is a subfield of artificial intelligence that focuses on the interaction\\nbetween computers and humans through natural language.', 'The ultimate objective of NLP is to read, decipher,\\nunderstand, and make sense of human languages in a valuable way.\\n']\n",
            "\n",
            "Filtered Tokens (NLTK - Stopwords removed):\n",
            "['Natural', 'language', 'processing', '(', 'NLP', ')', 'subfield', 'artificial', 'intelligence', 'focuses', 'interaction', 'computers', 'humans', 'natural', 'language', '.', 'ultimate', 'objective', 'NLP', 'read', ',', 'decipher', ',', 'understand', ',', 'make', 'sense', 'human', 'languages', 'valuable', 'way', '.']\n",
            "\n",
            "Filtered Tokens (spaCy - Stopwords removed):\n",
            "['\\n', 'Natural', 'language', 'processing', '(', 'NLP', ')', 'subfield', 'artificial', 'intelligence', 'focuses', 'interaction', '\\n', 'computers', 'humans', 'natural', 'language', '.', 'ultimate', 'objective', 'NLP', 'read', ',', 'decipher', ',', '\\n', 'understand', ',', 'sense', 'human', 'languages', 'valuable', 'way', '.', '\\n']\n",
            "\n",
            "Stemmed Tokens (NLTK):\n",
            "['natur', 'languag', 'process', '(', 'nlp', ')', 'subfield', 'artifici', 'intellig', 'focus', 'interact', 'comput', 'human', 'natur', 'languag', '.', 'ultim', 'object', 'nlp', 'read', ',', 'deciph', ',', 'understand', ',', 'make', 'sens', 'human', 'languag', 'valuabl', 'way', '.']\n",
            "\n",
            "Lemmatized Tokens (NLTK):\n",
            "['Natural', 'language', 'processing', '(', 'NLP', ')', 'subfield', 'artificial', 'intelligence', 'focus', 'interaction', 'computer', 'human', 'natural', 'language', '.', 'ultimate', 'objective', 'NLP', 'read', ',', 'decipher', ',', 'understand', ',', 'make', 'sense', 'human', 'language', 'valuable', 'way', '.']\n",
            "\n",
            "Lemmatized Tokens (spaCy):\n",
            "['\\n', 'natural', 'language', 'processing', '(', 'NLP', ')', 'subfield', 'artificial', 'intelligence', 'focus', 'interaction', '\\n', 'computer', 'human', 'natural', 'language', '.', 'ultimate', 'objective', 'NLP', 'read', ',', 'decipher', ',', '\\n', 'understand', ',', 'sense', 'human', 'language', 'valuable', 'way', '.', '\\n']\n"
          ]
        }
      ],
      "source": [
        "# Import necessary libraries\n",
        "import nltk\n",
        "from nltk.corpus import stopwords\n",
        "from nltk.tokenize import word_tokenize, sent_tokenize\n",
        "from nltk.stem import PorterStemmer, WordNetLemmatizer\n",
        "\n",
        "import spacy\n",
        "\n",
        "# Download NLTK resources\n",
        "nltk.download('punkt')\n",
        "nltk.download('stopwords')\n",
        "nltk.download('wordnet')\n",
        "\n",
        "# Load spaCy model\n",
        "nlp = spacy.load(\"en_core_web_sm\")\n",
        "\n",
        "# Sample text for demonstration\n",
        "sample_text = \"\"\"\n",
        "Natural language processing (NLP) is a subfield of artificial intelligence that focuses on the interaction\n",
        "between computers and humans through natural language. The ultimate objective of NLP is to read, decipher,\n",
        "understand, and make sense of human languages in a valuable way.\n",
        "\"\"\"\n",
        "# Tokenization using NLTK\n",
        "tokens_nltk = word_tokenize(sample_text)\n",
        "sentences_nltk = sent_tokenize(sample_text)\n",
        "# Tokenization using spaCy\n",
        "doc_spacy = nlp(sample_text)\n",
        "tokens_spacy = [token.text for token in doc_spacy]\n",
        "sentences_spacy = [sent.text for sent in doc_spacy.sents]\n",
        "\n",
        "# Removing stopwords using NLTK\n",
        "stop_words = set(stopwords.words('english'))\n",
        "filtered_tokens_nltk = [word for word in tokens_nltk if word.lower() not in stop_words]\n",
        "\n",
        "# Removing stopwords using spaCy\n",
        "filtered_tokens_spacy = [token.text for token in doc_spacy if not token.is_stop]\n",
        "\n",
        "# Stemming using NLTK - returns the  base of the word\n",
        "# computers => compute Not Computer\n",
        "porter_stemmer = PorterStemmer()\n",
        "stemmed_tokens_nltk = [porter_stemmer.stem(word) for word in filtered_tokens_nltk]\n",
        "\n",
        "# Lemmatization using NLTK - understand context of word and return it to its origin\n",
        "lemmatizer = WordNetLemmatizer()\n",
        "lemmatized_tokens_nltk = [lemmatizer.lemmatize(word) for word in filtered_tokens_nltk]\n",
        "\n",
        "# Lemmatization using spaCy\n",
        "lemmatized_tokens_spacy = [token.lemma_ for token in doc_spacy if not token.is_stop]\n",
        "\n",
        "# Displaying the results\n",
        "print(\"Original Text:\")\n",
        "print(sample_text)\n",
        "\n",
        "print(\"\\nTokenization using NLTK:\")\n",
        "print(tokens_nltk)\n",
        "\n",
        "print(\"\\nTokenization using spaCy:\")\n",
        "print(tokens_spacy)\n",
        "\n",
        "print(\"\\nSentences using NLTK:\")\n",
        "print(sentences_nltk)\n",
        "\n",
        "print(\"\\nSentences using spaCy:\")\n",
        "print(sentences_spacy)\n",
        "\n",
        "print(\"\\nFiltered Tokens (NLTK - Stopwords removed):\")\n",
        "print(filtered_tokens_nltk)\n",
        "\n",
        "print(\"\\nFiltered Tokens (spaCy - Stopwords removed):\")\n",
        "print(filtered_tokens_spacy)\n",
        "\n",
        "print(\"\\nStemmed Tokens (NLTK):\")\n",
        "print(stemmed_tokens_nltk)\n",
        "\n",
        "print(\"\\nLemmatized Tokens (NLTK):\")\n",
        "print(lemmatized_tokens_nltk)\n",
        "\n",
        "print(\"\\nLemmatized Tokens (spaCy):\")\n",
        "print(lemmatized_tokens_spacy)\n"
      ]
    }
  ],
  "metadata": {
    "colab": {
      "provenance": []
    },
    "kaggle": {
      "accelerator": "none",
      "dataSources": [
        {
          "databundleVersionId": 26502,
          "sourceId": 3136,
          "sourceType": "competition"
        },
        {
          "datasetId": 19,
          "sourceId": 420,
          "sourceType": "datasetVersion"
        },
        {
          "datasetId": 310,
          "sourceId": 23498,
          "sourceType": "datasetVersion"
        },
        {
          "datasetId": 4239615,
          "sourceId": 7306969,
          "sourceType": "datasetVersion"
        }
      ],
      "dockerImageVersionId": 30626,
      "isGpuEnabled": false,
      "isInternetEnabled": false,
      "language": "python",
      "sourceType": "notebook"
    },
    "kernelspec": {
      "display_name": "Python 3",
      "language": "python",
      "name": "python3"
    },
    "language_info": {
      "codemirror_mode": {
        "name": "ipython",
        "version": 3
      },
      "file_extension": ".py",
      "mimetype": "text/x-python",
      "name": "python",
      "nbconvert_exporter": "python",
      "pygments_lexer": "ipython3",
      "version": "3.12.1"
    }
  },
  "nbformat": 4,
  "nbformat_minor": 0
}
