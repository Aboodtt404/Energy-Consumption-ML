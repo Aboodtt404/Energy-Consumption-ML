{
  "cells": [
    {
      "cell_type": "markdown",
      "metadata": {
        "id": "9Lpi73S_sUpr"
      },
      "source": [
        "# **[Steel Industry Energy Consumption](https://www.kaggle.com/datasets/csafrit2/steel-industry-energy-consumption)**\n",
        "### *<font color='blue'>Energy Usage prediction</font>\n",
        "\n",
        " in this project we want to train a model to predict the <font color='green'>Energy Usage</font> of Steel Industry Based on its Dataset."
      ]
    },
    {
      "cell_type": "markdown",
      "metadata": {
        "id": "lVQE4si1PYGw"
      },
      "source": [
        "# Data Preparation"
      ]
    },
    {
      "cell_type": "markdown",
      "metadata": {
        "id": "iSVowIZVf_AV"
      },
      "source": [
        "outlier"
      ]
    },
    {
      "cell_type": "code",
      "execution_count": 149,
      "metadata": {
        "colab": {
          "base_uri": "https://localhost:8080/"
        },
        "id": "OuGhcTtndlvs",
        "outputId": "ad2a97d8-20d0-4ee1-dd54-168c5bb14866"
      },
      "outputs": [],
      "source": [
        "import pandas as pd\n",
        "import plotly.express as px\n",
        "from sklearn.preprocessing import LabelEncoder\n",
        "from sklearn.model_selection import train_test_split\n",
        "from sklearn.linear_model import LinearRegression,Ridge,Lasso\n",
        "from sklearn import metrics\n",
        "import scipy\n",
        "from scipy import stats\n",
        "import matplotlib.pyplot as plt\n",
        "import seaborn as sns\n",
        "import numpy as np\n",
        "import math\n",
        "from sklearn.feature_selection import SelectKBest,f_regression\n",
        "from sklearn.svm import SVR\n",
        "from sklearn.model_selection import KFold, GridSearchCV, cross_val_score\n",
        "from sklearn.ensemble import RandomForestRegressor\n",
        "from sklearn.metrics import mean_squared_error, r2_score\n",
        "from sklearn.preprocessing import PolynomialFeatures\n",
        "from sklearn.pipeline import make_pipeline"
      ]
    },
    {
      "cell_type": "code",
      "execution_count": 150,
      "metadata": {
        "colab": {
          "base_uri": "https://localhost:8080/"
        },
        "id": "xUtWMtOodl3q",
        "outputId": "cd2fcd7f-d525-4d2c-dca0-34c1d1fd2f7f"
      },
      "outputs": [
        {
          "name": "stdout",
          "output_type": "stream",
          "text": [
            "<class 'pandas.core.frame.DataFrame'>\n",
            "RangeIndex: 27999 entries, 0 to 27998\n",
            "Data columns (total 12 columns):\n",
            " #   Column                                Non-Null Count  Dtype  \n",
            "---  ------                                --------------  -----  \n",
            " 0   Id                                    27999 non-null  int64  \n",
            " 1   date                                  27999 non-null  object \n",
            " 2   Lagging_Current_Reactive.Power_kVarh  27999 non-null  float64\n",
            " 3   Leading_Current_Reactive_Power_kVarh  27880 non-null  float64\n",
            " 4   CO2(tCO2)                             27999 non-null  float64\n",
            " 5   Lagging_Current_Power_Factor          27999 non-null  float64\n",
            " 6   Leading_Current_Power_Factor          27923 non-null  float64\n",
            " 7   NSM                                   27999 non-null  int64  \n",
            " 8   WeekStatus                            26225 non-null  object \n",
            " 9   Day_of_week                           26225 non-null  object \n",
            " 10  Load_Type                             27999 non-null  object \n",
            " 11  Usage_kWh                             27999 non-null  float64\n",
            "dtypes: float64(6), int64(2), object(4)\n",
            "memory usage: 2.6+ MB\n"
          ]
        }
      ],
      "source": [
        "df = pd.read_csv('data/train.csv')\n",
        "# df = pd.read_csv('Steel_industry_data.csv')\n",
        "df.info()"
      ]
    },
    {
      "cell_type": "code",
      "execution_count": 151,
      "metadata": {
        "colab": {
          "base_uri": "https://localhost:8080/"
        },
        "id": "Iwe3BD0iOjfI",
        "outputId": "f7b8cd64-f795-4739-8fc2-041487f39bd3"
      },
      "outputs": [
        {
          "name": "stdout",
          "output_type": "stream",
          "text": [
            "Id                                         0\n",
            "date                                       0\n",
            "Lagging_Current_Reactive.Power_kVarh       0\n",
            "Leading_Current_Reactive_Power_kVarh     119\n",
            "CO2(tCO2)                                  0\n",
            "Lagging_Current_Power_Factor               0\n",
            "Leading_Current_Power_Factor              76\n",
            "NSM                                        0\n",
            "WeekStatus                              1774\n",
            "Day_of_week                             1774\n",
            "Load_Type                                  0\n",
            "Usage_kWh                                  0\n",
            "dtype: int64\n"
          ]
        }
      ],
      "source": [
        "null_count = df.isnull().sum()\n",
        "print(null_count)"
      ]
    },
    {
      "cell_type": "markdown",
      "metadata": {
        "id": "vm1vJjB2QnoF"
      },
      "source": [
        "## Cleaning Data"
      ]
    },
    {
      "cell_type": "markdown",
      "metadata": {
        "id": "Ym5S6HBdes8S"
      },
      "source": []
    },
    {
      "cell_type": "code",
      "execution_count": 152,
      "metadata": {
        "colab": {
          "base_uri": "https://localhost:8080/"
        },
        "id": "eKsyd3FwQqlS",
        "outputId": "4b74c0f0-b011-4cdf-afff-c0f4b65593f0"
      },
      "outputs": [
        {
          "name": "stdout",
          "output_type": "stream",
          "text": [
            "Id                                      0\n",
            "date                                    0\n",
            "Lagging_Current_Reactive.Power_kVarh    0\n",
            "Leading_Current_Reactive_Power_kVarh    0\n",
            "CO2(tCO2)                               0\n",
            "Lagging_Current_Power_Factor            0\n",
            "Leading_Current_Power_Factor            0\n",
            "NSM                                     0\n",
            "WeekStatus                              0\n",
            "Day_of_week                             0\n",
            "Load_Type                               0\n",
            "Usage_kWh                               0\n",
            "dtype: int64\n"
          ]
        }
      ],
      "source": [
        "df_copy = df.copy()\n",
        "df_copy = df_copy.dropna(subset=['Leading_Current_Reactive_Power_kVarh', 'Leading_Current_Power_Factor','WeekStatus','Day_of_week'])\n",
        "print(df_copy.isnull().sum())"
      ]
    },
    {
      "cell_type": "code",
      "execution_count": 153,
      "metadata": {
        "id": "6SP5NIhlS3ZJ"
      },
      "outputs": [
        {
          "name": "stdout",
          "output_type": "stream",
          "text": [
            "   Id           date  Lagging_Current_Reactive.Power_kVarh  \\\n",
            "0   1  1/1/2018 0:15                                  2.95   \n",
            "1   2  1/1/2018 0:30                                  4.46   \n",
            "2   3  1/1/2018 0:45                                  3.28   \n",
            "3   4  1/1/2018 1:00                                  3.56   \n",
            "4   5  1/1/2018 1:15                                  4.50   \n",
            "\n",
            "   Leading_Current_Reactive_Power_kVarh  CO2(tCO2)  \\\n",
            "0                                   0.0        0.0   \n",
            "1                                   0.0        0.0   \n",
            "2                                   0.0        0.0   \n",
            "3                                   0.0        0.0   \n",
            "4                                   0.0        0.0   \n",
            "\n",
            "   Lagging_Current_Power_Factor  Leading_Current_Power_Factor   NSM  \\\n",
            "0                         73.21                         100.0   900   \n",
            "1                         66.77                         100.0  1800   \n",
            "2                         70.28                         100.0  2700   \n",
            "3                         68.09                         100.0  3600   \n",
            "4                         64.72                         100.0  4500   \n",
            "\n",
            "  WeekStatus Day_of_week   Load_Type  Usage_kWh  \n",
            "0    Weekday      Monday  Light_Load       3.17  \n",
            "1    Weekday      Monday  Light_Load       4.00  \n",
            "2    Weekday      Monday  Light_Load       3.24  \n",
            "3    Weekday      Monday  Light_Load       3.31  \n",
            "4    Weekday      Monday  Light_Load       3.82  \n",
            "<class 'pandas.core.frame.DataFrame'>\n",
            "Index: 26030 entries, 0 to 27998\n",
            "Data columns (total 12 columns):\n",
            " #   Column                                Non-Null Count  Dtype  \n",
            "---  ------                                --------------  -----  \n",
            " 0   Id                                    26030 non-null  int64  \n",
            " 1   date                                  26030 non-null  object \n",
            " 2   Lagging_Current_Reactive.Power_kVarh  26030 non-null  float64\n",
            " 3   Leading_Current_Reactive_Power_kVarh  26030 non-null  float64\n",
            " 4   CO2(tCO2)                             26030 non-null  float64\n",
            " 5   Lagging_Current_Power_Factor          26030 non-null  float64\n",
            " 6   Leading_Current_Power_Factor          26030 non-null  float64\n",
            " 7   NSM                                   26030 non-null  int64  \n",
            " 8   WeekStatus                            26030 non-null  object \n",
            " 9   Day_of_week                           26030 non-null  object \n",
            " 10  Load_Type                             26030 non-null  object \n",
            " 11  Usage_kWh                             26030 non-null  float64\n",
            "dtypes: float64(6), int64(2), object(4)\n",
            "memory usage: 2.6+ MB\n",
            "None\n",
            "                 Id  Lagging_Current_Reactive.Power_kVarh  \\\n",
            "count  26030.000000                          26030.000000   \n",
            "mean   14288.963734                             13.336792   \n",
            "std     8263.543533                             16.445028   \n",
            "min        1.000000                              0.000000   \n",
            "25%     6703.250000                              2.740000   \n",
            "50%    14984.500000                              5.150000   \n",
            "75%    21491.750000                             23.140000   \n",
            "max    27999.000000                             93.200000   \n",
            "\n",
            "       Leading_Current_Reactive_Power_kVarh     CO2(tCO2)  \\\n",
            "count                          26030.000000  26030.000000   \n",
            "mean                               3.828036      0.011867   \n",
            "std                                7.422876      0.016321   \n",
            "min                                0.000000      0.000000   \n",
            "25%                                0.000000      0.000000   \n",
            "50%                                0.000000      0.000000   \n",
            "75%                                2.120000      0.020000   \n",
            "max                               27.760000      0.070000   \n",
            "\n",
            "       Lagging_Current_Power_Factor  Leading_Current_Power_Factor  \\\n",
            "count                  26030.000000                  26030.000000   \n",
            "mean                      79.858526                     84.615124   \n",
            "std                       19.588449                     30.254934   \n",
            "min                       36.940000                     12.870000   \n",
            "25%                       61.232500                     99.812500   \n",
            "50%                       88.055000                    100.000000   \n",
            "75%                       99.077500                    100.000000   \n",
            "max                      100.000000                    100.000000   \n",
            "\n",
            "                NSM     Usage_kWh  \n",
            "count  26030.000000  26030.000000  \n",
            "mean   42801.621206     28.042909  \n",
            "std    24913.044388     33.830968  \n",
            "min        0.000000      2.450000  \n",
            "25%    21600.000000      3.130000  \n",
            "50%    43200.000000      4.640000  \n",
            "75%    64800.000000     51.300000  \n",
            "max    85500.000000    153.140000  \n"
          ]
        }
      ],
      "source": [
        "print(df_copy.head())\n",
        "print(df_copy.info())\n",
        "print(df_copy.describe())\n"
      ]
    },
    {
      "cell_type": "code",
      "execution_count": null,
      "metadata": {
        "id": "snHp0O6BT-9u"
      },
      "outputs": [],
      "source": [
        "# List of columns for which you want to plot a boxplot\n",
        "columns = ['Lagging_Current_Reactive.Power_kVarh', 'Leading_Current_Reactive_Power_kVarh',\n",
        "           'CO2(tCO2)', 'Lagging_Current_Power_Factor', 'Leading_Current_Power_Factor',\n",
        "           'NSM']\n",
        "\n",
        "for column in columns:\n",
        "    plt.figure()  # Create a new figure\n",
        "    df_copy.boxplot([column])  # Create a boxplot for the column\n",
        "    plt.title(column)  # Set the title of the plot as the column name\n",
        "    plt.show()\n"
      ]
    },
    {
      "cell_type": "markdown",
      "metadata": {
        "id": "S7H6kfnuS3Br"
      },
      "source": []
    },
    {
      "cell_type": "code",
      "execution_count": 154,
      "metadata": {
        "colab": {
          "base_uri": "https://localhost:8080/"
        },
        "id": "9uZ8KO4ZdmD8",
        "outputId": "9783e9f9-bb05-4f27-e309-4acad46fb7b1"
      },
      "outputs": [
        {
          "name": "stdout",
          "output_type": "stream",
          "text": [
            "                                              Q1\n",
            "Lagging_Current_Reactive.Power_kVarh      2.7400\n",
            "Leading_Current_Reactive_Power_kVarh      0.0000\n",
            "CO2(tCO2)                                 0.0000\n",
            "Lagging_Current_Power_Factor             61.2325\n",
            "Leading_Current_Power_Factor             99.8125\n",
            "NSM                                   21600.0000\n",
            "                                              Q3\n",
            "Lagging_Current_Reactive.Power_kVarh     23.1400\n",
            "Leading_Current_Reactive_Power_kVarh      2.1200\n",
            "CO2(tCO2)                                 0.0200\n",
            "Lagging_Current_Power_Factor             99.0775\n",
            "Leading_Current_Power_Factor            100.0000\n",
            "NSM                                   64800.0000\n",
            "                                             IQR\n",
            "Lagging_Current_Reactive.Power_kVarh     20.4000\n",
            "Leading_Current_Reactive_Power_kVarh      2.1200\n",
            "CO2(tCO2)                                 0.0200\n",
            "Lagging_Current_Power_Factor             37.8450\n",
            "Leading_Current_Power_Factor              0.1875\n",
            "NSM                                   43200.0000\n",
            "                                      Lower Limit\n",
            "Lagging_Current_Reactive.Power_kVarh    -27.86000\n",
            "Leading_Current_Reactive_Power_kVarh     -3.18000\n",
            "CO2(tCO2)                                -0.03000\n",
            "Lagging_Current_Power_Factor              4.46500\n",
            "Leading_Current_Power_Factor             99.53125\n",
            "NSM                                  -43200.00000\n",
            "                                       Upper Limit\n",
            "Lagging_Current_Reactive.Power_kVarh      53.74000\n",
            "Leading_Current_Reactive_Power_kVarh       5.30000\n",
            "CO2(tCO2)                                  0.05000\n",
            "Lagging_Current_Power_Factor             155.84500\n",
            "Leading_Current_Power_Factor             100.28125\n",
            "NSM                                   129600.00000\n"
          ]
        }
      ],
      "source": [
        "# Initialize empty dictionaries to hold the Q1, Q3, IQR, lower_limit, and upper_limit values for each column\n",
        "Q1 = {}\n",
        "Q3 = {}\n",
        "IQR = {}\n",
        "lower_limit = {}\n",
        "upper_limit = {}\n",
        "\n",
        "# Loop through each column in the DataFrame\n",
        "for column in columns:\n",
        "    # Calculate Q1, Q3, and IQR\n",
        "    Q1[column] = df_copy[column].quantile(0.25)\n",
        "    Q3[column] = df_copy[column].quantile(0.75)\n",
        "    IQR[column] = Q3[column] - Q1[column]\n",
        "\n",
        "    # Calculate the lower and upper limits\n",
        "    lower_limit[column] = Q1[column] - 1.5 * IQR[column]\n",
        "    upper_limit[column] = Q3[column] + 1.5 * IQR[column]\n",
        "\n",
        "# Convert the dictionaries to DataFrames for easier viewing\n",
        "Q1 = pd.DataFrame.from_dict(Q1, orient='index', columns=['Q1'])\n",
        "Q3 = pd.DataFrame.from_dict(Q3, orient='index', columns=['Q3'])\n",
        "IQR = pd.DataFrame.from_dict(IQR, orient='index', columns=['IQR'])\n",
        "lower_limit = pd.DataFrame.from_dict(lower_limit, orient='index', columns=['Lower Limit'])\n",
        "upper_limit = pd.DataFrame.from_dict(upper_limit, orient='index', columns=['Upper Limit'])\n",
        "\n",
        "# Display the results\n",
        "print(Q1)\n",
        "print(Q3)\n",
        "print(IQR)\n",
        "print(lower_limit)\n",
        "print(upper_limit)\n"
      ]
    },
    {
      "cell_type": "code",
      "execution_count": 155,
      "metadata": {
        "id": "4luz3X7nebal"
      },
      "outputs": [
        {
          "name": "stderr",
          "output_type": "stream",
          "text": [
            "C:\\Users\\tbtw0\\AppData\\Local\\Temp\\ipykernel_4556\\1531919895.py:12: FutureWarning: Setting an item of incompatible dtype is deprecated and will raise an error in a future version of pandas. Value '42801.62120630042' has dtype incompatible with int64, please explicitly cast to a compatible dtype first.\n",
            "  df_copy.loc[outlier_condition, column] = mean\n"
          ]
        }
      ],
      "source": [
        "for column in columns:\n",
        "    # Define a condition for values that are not outliers\n",
        "    non_outlier_condition = (df_copy[column] >= lower_limit['Lower Limit'][column]) & (df_copy[column] <= upper_limit['Upper Limit'][column])\n",
        "\n",
        "    # Calculate the mean of the non-outlier values in the column\n",
        "    mean = df_copy.loc[non_outlier_condition, column].mean()\n",
        "\n",
        "    # Define a condition for values that are outliers\n",
        "    outlier_condition = (df_copy[column] < lower_limit['Lower Limit'][column]) | (df_copy[column] > upper_limit['Upper Limit'][column])\n",
        "\n",
        "    # Replace outliers with the mean\n",
        "    df_copy.loc[outlier_condition, column] = mean\n"
      ]
    },
    {
      "cell_type": "code",
      "execution_count": 156,
      "metadata": {
        "colab": {
          "base_uri": "https://localhost:8080/"
        },
        "id": "Q71bDrq2dmLu",
        "outputId": "f2bbdf72-cf73-4c82-c32b-18efe5665a4d"
      },
      "outputs": [
        {
          "name": "stdout",
          "output_type": "stream",
          "text": [
            "                                      Number of Outliers\n",
            "Lagging_Current_Reactive.Power_kVarh                   0\n",
            "Leading_Current_Reactive_Power_kVarh                   0\n",
            "CO2(tCO2)                                              0\n",
            "Lagging_Current_Power_Factor                           0\n",
            "Leading_Current_Power_Factor                           0\n",
            "NSM                                                    0\n"
          ]
        }
      ],
      "source": [
        "# Initialize an empty dictionary to hold the count of outliers for each column\n",
        "outliers = {}\n",
        "\n",
        "for column in columns:\n",
        "    # Define a condition for values that are below the lower limit or above the upper limit\n",
        "    condition = (df_copy[column] < lower_limit['Lower Limit'][column]) | (df_copy[column] > upper_limit['Upper Limit'][column])\n",
        "\n",
        "    # Use numpy's 'where' function to get the indices of the outliers\n",
        "    outlier_indices = np.where(condition)[0]\n",
        "\n",
        "    # Count the number of outliers\n",
        "    outliers[column] = len(outlier_indices)\n",
        "\n",
        "# Convert the dictionary to a DataFrame for easier viewing\n",
        "outliers = pd.DataFrame.from_dict(outliers, orient='index', columns=['Number of Outliers'])\n",
        "\n",
        "# Display the results\n",
        "print(outliers)\n",
        "\n"
      ]
    },
    {
      "cell_type": "markdown",
      "metadata": {
        "id": "cfM5lgBBlJm2"
      },
      "source": []
    },
    {
      "cell_type": "markdown",
      "metadata": {
        "id": "cOH1CjRpfz7l"
      },
      "source": [
        " **Standardizing**"
      ]
    },
    {
      "cell_type": "code",
      "execution_count": 157,
      "metadata": {
        "id": "4lJgEDBMfnCA"
      },
      "outputs": [],
      "source": [
        "from sklearn.preprocessing import StandardScaler\n",
        "# Assume df_copy is your DataFrame\n",
        "numerical_cols = df_copy.select_dtypes(include=[np.number]).columns.tolist()\n",
        "\n",
        "# Remove the Id, date, and target column\n",
        "numerical_cols = [col for col in numerical_cols if col not in ['Id', 'date', 'Usage_kWh']]\n",
        "\n",
        "scaler = StandardScaler()\n",
        "\n",
        "df_copy[numerical_cols] = scaler.fit_transform(df_copy[numerical_cols])\n",
        "\n",
        "df_copy.to_csv('normalized_data.csv', index=False)"
      ]
    },
    {
      "cell_type": "markdown",
      "metadata": {
        "id": "6ka102JSgZfN"
      },
      "source": [
        "Transforming"
      ]
    },
    {
      "cell_type": "code",
      "execution_count": 158,
      "metadata": {
        "id": "1D1VZDS0fnLj"
      },
      "outputs": [
        {
          "data": {
            "text/html": [
              "<div>\n",
              "<style scoped>\n",
              "    .dataframe tbody tr th:only-of-type {\n",
              "        vertical-align: middle;\n",
              "    }\n",
              "\n",
              "    .dataframe tbody tr th {\n",
              "        vertical-align: top;\n",
              "    }\n",
              "\n",
              "    .dataframe thead th {\n",
              "        text-align: right;\n",
              "    }\n",
              "</style>\n",
              "<table border=\"1\" class=\"dataframe\">\n",
              "  <thead>\n",
              "    <tr style=\"text-align: right;\">\n",
              "      <th></th>\n",
              "      <th>Id</th>\n",
              "      <th>date</th>\n",
              "      <th>Lagging_Current_Reactive.Power_kVarh</th>\n",
              "      <th>Leading_Current_Reactive_Power_kVarh</th>\n",
              "      <th>CO2(tCO2)</th>\n",
              "      <th>Lagging_Current_Power_Factor</th>\n",
              "      <th>Leading_Current_Power_Factor</th>\n",
              "      <th>NSM</th>\n",
              "      <th>Load_Type</th>\n",
              "      <th>Usage_kWh</th>\n",
              "    </tr>\n",
              "  </thead>\n",
              "  <tbody>\n",
              "    <tr>\n",
              "      <th>0</th>\n",
              "      <td>1</td>\n",
              "      <td>1/1/2018 0:15</td>\n",
              "      <td>-6.343424e-01</td>\n",
              "      <td>-0.288751</td>\n",
              "      <td>-0.732082</td>\n",
              "      <td>-0.339417</td>\n",
              "      <td>0.188628</td>\n",
              "      <td>-1.681947</td>\n",
              "      <td>Light_Load</td>\n",
              "      <td>3.17</td>\n",
              "    </tr>\n",
              "    <tr>\n",
              "      <th>1</th>\n",
              "      <td>2</td>\n",
              "      <td>1/1/2018 0:30</td>\n",
              "      <td>-5.266013e-01</td>\n",
              "      <td>-0.288751</td>\n",
              "      <td>-0.732082</td>\n",
              "      <td>-0.668189</td>\n",
              "      <td>0.188628</td>\n",
              "      <td>-1.645821</td>\n",
              "      <td>Light_Load</td>\n",
              "      <td>4.00</td>\n",
              "    </tr>\n",
              "    <tr>\n",
              "      <th>2</th>\n",
              "      <td>3</td>\n",
              "      <td>1/1/2018 0:45</td>\n",
              "      <td>-6.107963e-01</td>\n",
              "      <td>-0.288751</td>\n",
              "      <td>-0.732082</td>\n",
              "      <td>-0.488998</td>\n",
              "      <td>0.188628</td>\n",
              "      <td>-1.609695</td>\n",
              "      <td>Light_Load</td>\n",
              "      <td>3.24</td>\n",
              "    </tr>\n",
              "    <tr>\n",
              "      <th>3</th>\n",
              "      <td>4</td>\n",
              "      <td>1/1/2018 1:00</td>\n",
              "      <td>-5.908178e-01</td>\n",
              "      <td>-0.288751</td>\n",
              "      <td>-0.732082</td>\n",
              "      <td>-0.600801</td>\n",
              "      <td>0.188628</td>\n",
              "      <td>-1.573568</td>\n",
              "      <td>Light_Load</td>\n",
              "      <td>3.31</td>\n",
              "    </tr>\n",
              "    <tr>\n",
              "      <th>4</th>\n",
              "      <td>5</td>\n",
              "      <td>1/1/2018 1:15</td>\n",
              "      <td>-5.237473e-01</td>\n",
              "      <td>-0.288751</td>\n",
              "      <td>-0.732082</td>\n",
              "      <td>-0.772844</td>\n",
              "      <td>0.188628</td>\n",
              "      <td>-1.537442</td>\n",
              "      <td>Light_Load</td>\n",
              "      <td>3.82</td>\n",
              "    </tr>\n",
              "    <tr>\n",
              "      <th>...</th>\n",
              "      <td>...</td>\n",
              "      <td>...</td>\n",
              "      <td>...</td>\n",
              "      <td>...</td>\n",
              "      <td>...</td>\n",
              "      <td>...</td>\n",
              "      <td>...</td>\n",
              "      <td>...</td>\n",
              "      <td>...</td>\n",
              "      <td>...</td>\n",
              "    </tr>\n",
              "    <tr>\n",
              "      <th>27994</th>\n",
              "      <td>27995</td>\n",
              "      <td>19/10/2018 14:45</td>\n",
              "      <td>1.482662e+00</td>\n",
              "      <td>-0.288751</td>\n",
              "      <td>0.570850</td>\n",
              "      <td>0.300768</td>\n",
              "      <td>0.188628</td>\n",
              "      <td>0.413381</td>\n",
              "      <td>Maximum_Load</td>\n",
              "      <td>54.36</td>\n",
              "    </tr>\n",
              "    <tr>\n",
              "      <th>27995</th>\n",
              "      <td>27996</td>\n",
              "      <td>19/10/2018 15:00</td>\n",
              "      <td>1.685301e+00</td>\n",
              "      <td>-0.288751</td>\n",
              "      <td>1.222316</td>\n",
              "      <td>0.250227</td>\n",
              "      <td>0.188628</td>\n",
              "      <td>0.449507</td>\n",
              "      <td>Maximum_Load</td>\n",
              "      <td>56.63</td>\n",
              "    </tr>\n",
              "    <tr>\n",
              "      <th>27996</th>\n",
              "      <td>27997</td>\n",
              "      <td>19/10/2018 15:15</td>\n",
              "      <td>1.361364e+00</td>\n",
              "      <td>-0.288751</td>\n",
              "      <td>1.222316</td>\n",
              "      <td>0.498848</td>\n",
              "      <td>0.188628</td>\n",
              "      <td>0.485634</td>\n",
              "      <td>Maximum_Load</td>\n",
              "      <td>62.50</td>\n",
              "    </tr>\n",
              "    <tr>\n",
              "      <th>27997</th>\n",
              "      <td>27998</td>\n",
              "      <td>19/10/2018 15:30</td>\n",
              "      <td>-2.534921e-16</td>\n",
              "      <td>-0.288751</td>\n",
              "      <td>1.873782</td>\n",
              "      <td>0.205813</td>\n",
              "      <td>0.188628</td>\n",
              "      <td>0.521760</td>\n",
              "      <td>Maximum_Load</td>\n",
              "      <td>89.68</td>\n",
              "    </tr>\n",
              "    <tr>\n",
              "      <th>27998</th>\n",
              "      <td>27999</td>\n",
              "      <td>19/10/2018 15:45</td>\n",
              "      <td>2.042059e+00</td>\n",
              "      <td>-0.288751</td>\n",
              "      <td>1.222316</td>\n",
              "      <td>0.186413</td>\n",
              "      <td>0.188628</td>\n",
              "      <td>0.557886</td>\n",
              "      <td>Maximum_Load</td>\n",
              "      <td>61.42</td>\n",
              "    </tr>\n",
              "  </tbody>\n",
              "</table>\n",
              "<p>26030 rows × 10 columns</p>\n",
              "</div>"
            ],
            "text/plain": [
              "          Id              date  Lagging_Current_Reactive.Power_kVarh  \\\n",
              "0          1     1/1/2018 0:15                         -6.343424e-01   \n",
              "1          2     1/1/2018 0:30                         -5.266013e-01   \n",
              "2          3     1/1/2018 0:45                         -6.107963e-01   \n",
              "3          4     1/1/2018 1:00                         -5.908178e-01   \n",
              "4          5     1/1/2018 1:15                         -5.237473e-01   \n",
              "...      ...               ...                                   ...   \n",
              "27994  27995  19/10/2018 14:45                          1.482662e+00   \n",
              "27995  27996  19/10/2018 15:00                          1.685301e+00   \n",
              "27996  27997  19/10/2018 15:15                          1.361364e+00   \n",
              "27997  27998  19/10/2018 15:30                         -2.534921e-16   \n",
              "27998  27999  19/10/2018 15:45                          2.042059e+00   \n",
              "\n",
              "       Leading_Current_Reactive_Power_kVarh  CO2(tCO2)  \\\n",
              "0                                 -0.288751  -0.732082   \n",
              "1                                 -0.288751  -0.732082   \n",
              "2                                 -0.288751  -0.732082   \n",
              "3                                 -0.288751  -0.732082   \n",
              "4                                 -0.288751  -0.732082   \n",
              "...                                     ...        ...   \n",
              "27994                             -0.288751   0.570850   \n",
              "27995                             -0.288751   1.222316   \n",
              "27996                             -0.288751   1.222316   \n",
              "27997                             -0.288751   1.873782   \n",
              "27998                             -0.288751   1.222316   \n",
              "\n",
              "       Lagging_Current_Power_Factor  Leading_Current_Power_Factor       NSM  \\\n",
              "0                         -0.339417                      0.188628 -1.681947   \n",
              "1                         -0.668189                      0.188628 -1.645821   \n",
              "2                         -0.488998                      0.188628 -1.609695   \n",
              "3                         -0.600801                      0.188628 -1.573568   \n",
              "4                         -0.772844                      0.188628 -1.537442   \n",
              "...                             ...                           ...       ...   \n",
              "27994                      0.300768                      0.188628  0.413381   \n",
              "27995                      0.250227                      0.188628  0.449507   \n",
              "27996                      0.498848                      0.188628  0.485634   \n",
              "27997                      0.205813                      0.188628  0.521760   \n",
              "27998                      0.186413                      0.188628  0.557886   \n",
              "\n",
              "          Load_Type  Usage_kWh  \n",
              "0        Light_Load       3.17  \n",
              "1        Light_Load       4.00  \n",
              "2        Light_Load       3.24  \n",
              "3        Light_Load       3.31  \n",
              "4        Light_Load       3.82  \n",
              "...             ...        ...  \n",
              "27994  Maximum_Load      54.36  \n",
              "27995  Maximum_Load      56.63  \n",
              "27996  Maximum_Load      62.50  \n",
              "27997  Maximum_Load      89.68  \n",
              "27998  Maximum_Load      61.42  \n",
              "\n",
              "[26030 rows x 10 columns]"
            ]
          },
          "execution_count": 158,
          "metadata": {},
          "output_type": "execute_result"
        }
      ],
      "source": [
        "# transforming\n",
        "\n",
        "# le=LabelEncoder()\n",
        "# label=le.fit_transform(df_copy['WeekStatus'])\n",
        "# df_copy.drop(\"WeekStatus\",axis=1,inplace=True)\n",
        "# df_copy[\"WeekStatus\"]=label\n",
        "\n",
        "# transform with label encoder\n",
        "# weekday->0  weekend->1\n",
        "\n",
        "df_copy = df_copy.drop(['WeekStatus','Day_of_week'], axis=1)\n",
        "df_copy"
      ]
    },
    {
      "cell_type": "code",
      "execution_count": 159,
      "metadata": {
        "id": "mqa2Gl8YfnVc"
      },
      "outputs": [
        {
          "ename": "KeyError",
          "evalue": "'Day_of_week'",
          "output_type": "error",
          "traceback": [
            "\u001b[1;31m---------------------------------------------------------------------------\u001b[0m",
            "\u001b[1;31mKeyError\u001b[0m                                  Traceback (most recent call last)",
            "File \u001b[1;32mc:\\Users\\tbtw0\\AppData\\Local\\Programs\\Python\\Python311\\Lib\\site-packages\\pandas\\core\\indexes\\base.py:3802\u001b[0m, in \u001b[0;36mIndex.get_loc\u001b[1;34m(self, key)\u001b[0m\n\u001b[0;32m   3801\u001b[0m \u001b[38;5;28;01mtry\u001b[39;00m:\n\u001b[1;32m-> 3802\u001b[0m     \u001b[38;5;28;01mreturn\u001b[39;00m \u001b[38;5;28;43mself\u001b[39;49m\u001b[38;5;241;43m.\u001b[39;49m\u001b[43m_engine\u001b[49m\u001b[38;5;241;43m.\u001b[39;49m\u001b[43mget_loc\u001b[49m\u001b[43m(\u001b[49m\u001b[43mcasted_key\u001b[49m\u001b[43m)\u001b[49m\n\u001b[0;32m   3803\u001b[0m \u001b[38;5;28;01mexcept\u001b[39;00m \u001b[38;5;167;01mKeyError\u001b[39;00m \u001b[38;5;28;01mas\u001b[39;00m err:\n",
            "File \u001b[1;32mindex.pyx:153\u001b[0m, in \u001b[0;36mpandas._libs.index.IndexEngine.get_loc\u001b[1;34m()\u001b[0m\n",
            "File \u001b[1;32mindex.pyx:182\u001b[0m, in \u001b[0;36mpandas._libs.index.IndexEngine.get_loc\u001b[1;34m()\u001b[0m\n",
            "File \u001b[1;32mpandas\\\\_libs\\\\hashtable_class_helper.pxi:7081\u001b[0m, in \u001b[0;36mpandas._libs.hashtable.PyObjectHashTable.get_item\u001b[1;34m()\u001b[0m\n",
            "File \u001b[1;32mpandas\\\\_libs\\\\hashtable_class_helper.pxi:7089\u001b[0m, in \u001b[0;36mpandas._libs.hashtable.PyObjectHashTable.get_item\u001b[1;34m()\u001b[0m\n",
            "\u001b[1;31mKeyError\u001b[0m: 'Day_of_week'",
            "\nThe above exception was the direct cause of the following exception:\n",
            "\u001b[1;31mKeyError\u001b[0m                                  Traceback (most recent call last)",
            "Cell \u001b[1;32mIn[159], line 1\u001b[0m\n\u001b[1;32m----> 1\u001b[0m one_hot \u001b[38;5;241m=\u001b[39m pd\u001b[38;5;241m.\u001b[39mget_dummies(\u001b[43mdf_copy\u001b[49m\u001b[43m[\u001b[49m\u001b[38;5;124;43m'\u001b[39;49m\u001b[38;5;124;43mDay_of_week\u001b[39;49m\u001b[38;5;124;43m'\u001b[39;49m\u001b[43m]\u001b[49m)\n\u001b[0;32m      2\u001b[0m df_copy \u001b[38;5;241m=\u001b[39m df_copy\u001b[38;5;241m.\u001b[39mdrop(\u001b[38;5;124m'\u001b[39m\u001b[38;5;124mDay_of_week\u001b[39m\u001b[38;5;124m'\u001b[39m,axis \u001b[38;5;241m=\u001b[39m \u001b[38;5;241m1\u001b[39m)\n\u001b[0;32m      3\u001b[0m df_copy \u001b[38;5;241m=\u001b[39m df_copy\u001b[38;5;241m.\u001b[39mjoin(one_hot)\n",
            "File \u001b[1;32mc:\\Users\\tbtw0\\AppData\\Local\\Programs\\Python\\Python311\\Lib\\site-packages\\pandas\\core\\frame.py:4090\u001b[0m, in \u001b[0;36mDataFrame.__getitem__\u001b[1;34m(self, key)\u001b[0m\n\u001b[0;32m   4088\u001b[0m \u001b[38;5;28;01mif\u001b[39;00m \u001b[38;5;28mself\u001b[39m\u001b[38;5;241m.\u001b[39mcolumns\u001b[38;5;241m.\u001b[39mnlevels \u001b[38;5;241m>\u001b[39m \u001b[38;5;241m1\u001b[39m:\n\u001b[0;32m   4089\u001b[0m     \u001b[38;5;28;01mreturn\u001b[39;00m \u001b[38;5;28mself\u001b[39m\u001b[38;5;241m.\u001b[39m_getitem_multilevel(key)\n\u001b[1;32m-> 4090\u001b[0m indexer \u001b[38;5;241m=\u001b[39m \u001b[38;5;28;43mself\u001b[39;49m\u001b[38;5;241;43m.\u001b[39;49m\u001b[43mcolumns\u001b[49m\u001b[38;5;241;43m.\u001b[39;49m\u001b[43mget_loc\u001b[49m\u001b[43m(\u001b[49m\u001b[43mkey\u001b[49m\u001b[43m)\u001b[49m\n\u001b[0;32m   4091\u001b[0m \u001b[38;5;28;01mif\u001b[39;00m is_integer(indexer):\n\u001b[0;32m   4092\u001b[0m     indexer \u001b[38;5;241m=\u001b[39m [indexer]\n",
            "File \u001b[1;32mc:\\Users\\tbtw0\\AppData\\Local\\Programs\\Python\\Python311\\Lib\\site-packages\\pandas\\core\\indexes\\base.py:3809\u001b[0m, in \u001b[0;36mIndex.get_loc\u001b[1;34m(self, key)\u001b[0m\n\u001b[0;32m   3804\u001b[0m     \u001b[38;5;28;01mif\u001b[39;00m \u001b[38;5;28misinstance\u001b[39m(casted_key, \u001b[38;5;28mslice\u001b[39m) \u001b[38;5;129;01mor\u001b[39;00m (\n\u001b[0;32m   3805\u001b[0m         \u001b[38;5;28misinstance\u001b[39m(casted_key, abc\u001b[38;5;241m.\u001b[39mIterable)\n\u001b[0;32m   3806\u001b[0m         \u001b[38;5;129;01mand\u001b[39;00m \u001b[38;5;28many\u001b[39m(\u001b[38;5;28misinstance\u001b[39m(x, \u001b[38;5;28mslice\u001b[39m) \u001b[38;5;28;01mfor\u001b[39;00m x \u001b[38;5;129;01min\u001b[39;00m casted_key)\n\u001b[0;32m   3807\u001b[0m     ):\n\u001b[0;32m   3808\u001b[0m         \u001b[38;5;28;01mraise\u001b[39;00m InvalidIndexError(key)\n\u001b[1;32m-> 3809\u001b[0m     \u001b[38;5;28;01mraise\u001b[39;00m \u001b[38;5;167;01mKeyError\u001b[39;00m(key) \u001b[38;5;28;01mfrom\u001b[39;00m \u001b[38;5;21;01merr\u001b[39;00m\n\u001b[0;32m   3810\u001b[0m \u001b[38;5;28;01mexcept\u001b[39;00m \u001b[38;5;167;01mTypeError\u001b[39;00m:\n\u001b[0;32m   3811\u001b[0m     \u001b[38;5;66;03m# If we have a listlike key, _check_indexing_error will raise\u001b[39;00m\n\u001b[0;32m   3812\u001b[0m     \u001b[38;5;66;03m#  InvalidIndexError. Otherwise we fall through and re-raise\u001b[39;00m\n\u001b[0;32m   3813\u001b[0m     \u001b[38;5;66;03m#  the TypeError.\u001b[39;00m\n\u001b[0;32m   3814\u001b[0m     \u001b[38;5;28mself\u001b[39m\u001b[38;5;241m.\u001b[39m_check_indexing_error(key)\n",
            "\u001b[1;31mKeyError\u001b[0m: 'Day_of_week'"
          ]
        }
      ],
      "source": [
        "one_hot = pd.get_dummies(df_copy['Day_of_week'])\n",
        "df_copy = df_copy.drop('Day_of_week',axis = 1)\n",
        "df_copy = df_copy.join(one_hot)\n",
        "\n",
        "#transform with one_hot for day_of_week"
      ]
    },
    {
      "cell_type": "code",
      "execution_count": 160,
      "metadata": {
        "id": "Qbm744_lfnep"
      },
      "outputs": [],
      "source": [
        "one_hot = pd.get_dummies(df_copy['Load_Type'])\n",
        "df_copy = df_copy.drop('Load_Type',axis = 1)\n",
        "df_copy = df_copy.join(one_hot)\n",
        "#transform with one_hot for load_type"
      ]
    },
    {
      "cell_type": "code",
      "execution_count": 161,
      "metadata": {
        "id": "xWVYAUZvQdit"
      },
      "outputs": [],
      "source": [
        "review=pd.DataFrame(df_copy)\n",
        "review\n",
        "review.to_csv('transformed.csv',index=False)\n",
        "\n"
      ]
    },
    {
      "cell_type": "markdown",
      "metadata": {
        "id": "PwQz2C7wP1Im"
      },
      "source": [
        "# Exploratory Data Analysis"
      ]
    },
    {
      "cell_type": "code",
      "execution_count": 162,
      "metadata": {
        "colab": {
          "base_uri": "https://localhost:8080/"
        },
        "id": "kgr7UTZRP4FM",
        "outputId": "40db7598-a61f-4d49-e815-6597ccb0c8e8"
      },
      "outputs": [
        {
          "name": "stdout",
          "output_type": "stream",
          "text": [
            "<class 'pandas.core.frame.DataFrame'>\n",
            "RangeIndex: 26030 entries, 0 to 26029\n",
            "Data columns (total 12 columns):\n",
            " #   Column                                Non-Null Count  Dtype  \n",
            "---  ------                                --------------  -----  \n",
            " 0   Id                                    26030 non-null  int64  \n",
            " 1   date                                  26030 non-null  object \n",
            " 2   Lagging_Current_Reactive.Power_kVarh  26030 non-null  float64\n",
            " 3   Leading_Current_Reactive_Power_kVarh  26030 non-null  float64\n",
            " 4   CO2(tCO2)                             26030 non-null  float64\n",
            " 5   Lagging_Current_Power_Factor          26030 non-null  float64\n",
            " 6   Leading_Current_Power_Factor          26030 non-null  float64\n",
            " 7   NSM                                   26030 non-null  float64\n",
            " 8   Usage_kWh                             26030 non-null  float64\n",
            " 9   Light_Load                            26030 non-null  bool   \n",
            " 10  Maximum_Load                          26030 non-null  bool   \n",
            " 11  Medium_Load                           26030 non-null  bool   \n",
            "dtypes: bool(3), float64(7), int64(1), object(1)\n",
            "memory usage: 1.9+ MB\n"
          ]
        }
      ],
      "source": [
        "df = pd.read_csv('transformed.csv')\n",
        "# df = pd.read_csv('standared.csv')\n",
        "df.info()"
      ]
    },
    {
      "cell_type": "code",
      "execution_count": 85,
      "metadata": {
        "colab": {
          "base_uri": "https://localhost:8080/"
        },
        "id": "Td2FdCrD48ig",
        "outputId": "540eb9ee-b49c-42cc-bf55-27c128b33d2f"
      },
      "outputs": [
        {
          "name": "stdout",
          "output_type": "stream",
          "text": [
            "Selected features: ['Lagging_Current_Reactive.Power_kVarh', 'CO2(tCO2)', 'Light_Load', 'Maximum_Load']\n"
          ]
        }
      ],
      "source": [
        "# Exclude 'Date' from the correlation calculation\n",
        "correlations = df.drop(columns='date').corr()['Usage_kWh'].drop('Usage_kWh')\n",
        "\n",
        "# Set a threshold for minimum correlation\n",
        "threshold = 0.5\n",
        "\n",
        "# Select features that have a correlation above the threshold\n",
        "selected_features = correlations[abs(correlations) > threshold].index.tolist()\n",
        "\n",
        "print(f\"Selected features: {selected_features}\")"
      ]
    },
    {
      "cell_type": "markdown",
      "metadata": {
        "id": "YAKldM_d4659"
      },
      "source": []
    },
    {
      "cell_type": "code",
      "execution_count": 59,
      "metadata": {
        "colab": {
          "base_uri": "https://localhost:8080/",
          "height": 874
        },
        "id": "Npx-_qjgiBtV",
        "outputId": "53e413d5-b575-4c52-9946-4dd198083647"
      },
      "outputs": [
        {
          "ename": "ValueError",
          "evalue": "could not convert string to float: '1/1/2018 0:15'",
          "output_type": "error",
          "traceback": [
            "\u001b[1;31m---------------------------------------------------------------------------\u001b[0m",
            "\u001b[1;31mValueError\u001b[0m                                Traceback (most recent call last)",
            "Cell \u001b[1;32mIn[59], line 2\u001b[0m\n\u001b[0;32m      1\u001b[0m \u001b[38;5;66;03m# Calculate the correlation matrix\u001b[39;00m\n\u001b[1;32m----> 2\u001b[0m correlation_matrix \u001b[38;5;241m=\u001b[39m \u001b[43mdf\u001b[49m\u001b[38;5;241;43m.\u001b[39;49m\u001b[43mcorr\u001b[49m\u001b[43m(\u001b[49m\u001b[43m)\u001b[49m\n\u001b[0;32m      5\u001b[0m plt\u001b[38;5;241m.\u001b[39mfigure(figsize \u001b[38;5;241m=\u001b[39m (\u001b[38;5;241m14\u001b[39m,\u001b[38;5;241m12\u001b[39m))\n\u001b[0;32m      6\u001b[0m \u001b[38;5;66;03m# Create a heatmap of the correlation matrix\u001b[39;00m\n",
            "File \u001b[1;32mc:\\Users\\tbtw0\\AppData\\Local\\Programs\\Python\\Python311\\Lib\\site-packages\\pandas\\core\\frame.py:11022\u001b[0m, in \u001b[0;36mDataFrame.corr\u001b[1;34m(self, method, min_periods, numeric_only)\u001b[0m\n\u001b[0;32m  11020\u001b[0m cols \u001b[38;5;241m=\u001b[39m data\u001b[38;5;241m.\u001b[39mcolumns\n\u001b[0;32m  11021\u001b[0m idx \u001b[38;5;241m=\u001b[39m cols\u001b[38;5;241m.\u001b[39mcopy()\n\u001b[1;32m> 11022\u001b[0m mat \u001b[38;5;241m=\u001b[39m \u001b[43mdata\u001b[49m\u001b[38;5;241;43m.\u001b[39;49m\u001b[43mto_numpy\u001b[49m\u001b[43m(\u001b[49m\u001b[43mdtype\u001b[49m\u001b[38;5;241;43m=\u001b[39;49m\u001b[38;5;28;43mfloat\u001b[39;49m\u001b[43m,\u001b[49m\u001b[43m \u001b[49m\u001b[43mna_value\u001b[49m\u001b[38;5;241;43m=\u001b[39;49m\u001b[43mnp\u001b[49m\u001b[38;5;241;43m.\u001b[39;49m\u001b[43mnan\u001b[49m\u001b[43m,\u001b[49m\u001b[43m \u001b[49m\u001b[43mcopy\u001b[49m\u001b[38;5;241;43m=\u001b[39;49m\u001b[38;5;28;43;01mFalse\u001b[39;49;00m\u001b[43m)\u001b[49m\n\u001b[0;32m  11024\u001b[0m \u001b[38;5;28;01mif\u001b[39;00m method \u001b[38;5;241m==\u001b[39m \u001b[38;5;124m\"\u001b[39m\u001b[38;5;124mpearson\u001b[39m\u001b[38;5;124m\"\u001b[39m:\n\u001b[0;32m  11025\u001b[0m     correl \u001b[38;5;241m=\u001b[39m libalgos\u001b[38;5;241m.\u001b[39mnancorr(mat, minp\u001b[38;5;241m=\u001b[39mmin_periods)\n",
            "File \u001b[1;32mc:\\Users\\tbtw0\\AppData\\Local\\Programs\\Python\\Python311\\Lib\\site-packages\\pandas\\core\\frame.py:1981\u001b[0m, in \u001b[0;36mDataFrame.to_numpy\u001b[1;34m(self, dtype, copy, na_value)\u001b[0m\n\u001b[0;32m   1979\u001b[0m \u001b[38;5;28;01mif\u001b[39;00m dtype \u001b[38;5;129;01mis\u001b[39;00m \u001b[38;5;129;01mnot\u001b[39;00m \u001b[38;5;28;01mNone\u001b[39;00m:\n\u001b[0;32m   1980\u001b[0m     dtype \u001b[38;5;241m=\u001b[39m np\u001b[38;5;241m.\u001b[39mdtype(dtype)\n\u001b[1;32m-> 1981\u001b[0m result \u001b[38;5;241m=\u001b[39m \u001b[38;5;28;43mself\u001b[39;49m\u001b[38;5;241;43m.\u001b[39;49m\u001b[43m_mgr\u001b[49m\u001b[38;5;241;43m.\u001b[39;49m\u001b[43mas_array\u001b[49m\u001b[43m(\u001b[49m\u001b[43mdtype\u001b[49m\u001b[38;5;241;43m=\u001b[39;49m\u001b[43mdtype\u001b[49m\u001b[43m,\u001b[49m\u001b[43m \u001b[49m\u001b[43mcopy\u001b[49m\u001b[38;5;241;43m=\u001b[39;49m\u001b[43mcopy\u001b[49m\u001b[43m,\u001b[49m\u001b[43m \u001b[49m\u001b[43mna_value\u001b[49m\u001b[38;5;241;43m=\u001b[39;49m\u001b[43mna_value\u001b[49m\u001b[43m)\u001b[49m\n\u001b[0;32m   1982\u001b[0m \u001b[38;5;28;01mif\u001b[39;00m result\u001b[38;5;241m.\u001b[39mdtype \u001b[38;5;129;01mis\u001b[39;00m \u001b[38;5;129;01mnot\u001b[39;00m dtype:\n\u001b[0;32m   1983\u001b[0m     result \u001b[38;5;241m=\u001b[39m np\u001b[38;5;241m.\u001b[39marray(result, dtype\u001b[38;5;241m=\u001b[39mdtype, copy\u001b[38;5;241m=\u001b[39m\u001b[38;5;28;01mFalse\u001b[39;00m)\n",
            "File \u001b[1;32mc:\\Users\\tbtw0\\AppData\\Local\\Programs\\Python\\Python311\\Lib\\site-packages\\pandas\\core\\internals\\managers.py:1693\u001b[0m, in \u001b[0;36mBlockManager.as_array\u001b[1;34m(self, dtype, copy, na_value)\u001b[0m\n\u001b[0;32m   1691\u001b[0m         arr\u001b[38;5;241m.\u001b[39mflags\u001b[38;5;241m.\u001b[39mwriteable \u001b[38;5;241m=\u001b[39m \u001b[38;5;28;01mFalse\u001b[39;00m\n\u001b[0;32m   1692\u001b[0m \u001b[38;5;28;01melse\u001b[39;00m:\n\u001b[1;32m-> 1693\u001b[0m     arr \u001b[38;5;241m=\u001b[39m \u001b[38;5;28;43mself\u001b[39;49m\u001b[38;5;241;43m.\u001b[39;49m\u001b[43m_interleave\u001b[49m\u001b[43m(\u001b[49m\u001b[43mdtype\u001b[49m\u001b[38;5;241;43m=\u001b[39;49m\u001b[43mdtype\u001b[49m\u001b[43m,\u001b[49m\u001b[43m \u001b[49m\u001b[43mna_value\u001b[49m\u001b[38;5;241;43m=\u001b[39;49m\u001b[43mna_value\u001b[49m\u001b[43m)\u001b[49m\n\u001b[0;32m   1694\u001b[0m     \u001b[38;5;66;03m# The underlying data was copied within _interleave, so no need\u001b[39;00m\n\u001b[0;32m   1695\u001b[0m     \u001b[38;5;66;03m# to further copy if copy=True or setting na_value\u001b[39;00m\n\u001b[0;32m   1697\u001b[0m \u001b[38;5;28;01mif\u001b[39;00m na_value \u001b[38;5;129;01mis\u001b[39;00m lib\u001b[38;5;241m.\u001b[39mno_default:\n",
            "File \u001b[1;32mc:\\Users\\tbtw0\\AppData\\Local\\Programs\\Python\\Python311\\Lib\\site-packages\\pandas\\core\\internals\\managers.py:1752\u001b[0m, in \u001b[0;36mBlockManager._interleave\u001b[1;34m(self, dtype, na_value)\u001b[0m\n\u001b[0;32m   1750\u001b[0m     \u001b[38;5;28;01melse\u001b[39;00m:\n\u001b[0;32m   1751\u001b[0m         arr \u001b[38;5;241m=\u001b[39m blk\u001b[38;5;241m.\u001b[39mget_values(dtype)\n\u001b[1;32m-> 1752\u001b[0m     \u001b[43mresult\u001b[49m\u001b[43m[\u001b[49m\u001b[43mrl\u001b[49m\u001b[38;5;241;43m.\u001b[39;49m\u001b[43mindexer\u001b[49m\u001b[43m]\u001b[49m \u001b[38;5;241m=\u001b[39m arr\n\u001b[0;32m   1753\u001b[0m     itemmask[rl\u001b[38;5;241m.\u001b[39mindexer] \u001b[38;5;241m=\u001b[39m \u001b[38;5;241m1\u001b[39m\n\u001b[0;32m   1755\u001b[0m \u001b[38;5;28;01mif\u001b[39;00m \u001b[38;5;129;01mnot\u001b[39;00m itemmask\u001b[38;5;241m.\u001b[39mall():\n",
            "\u001b[1;31mValueError\u001b[0m: could not convert string to float: '1/1/2018 0:15'"
          ]
        }
      ],
      "source": [
        "# Calculate the correlation matrix\n",
        "correlation_matrix = df.corr()\n",
        "\n",
        "\n",
        "plt.figure(figsize = (14,12))\n",
        "# Create a heatmap of the correlation matrix\n",
        "sns.heatmap(correlation_matrix, annot=True, cmap='coolwarm')\n",
        "\n",
        "plt.show()"
      ]
    },
    {
      "cell_type": "markdown",
      "metadata": {
        "id": "4pJmXpwqP4cj"
      },
      "source": [
        "# Pre-Model"
      ]
    },
    {
      "cell_type": "code",
      "execution_count": 163,
      "metadata": {
        "colab": {
          "base_uri": "https://localhost:8080/",
          "height": 313
        },
        "id": "P9hKkb8DQGiF",
        "outputId": "49d1506e-9605-408d-84b0-47d32f5b950e"
      },
      "outputs": [
        {
          "data": {
            "text/html": [
              "<div>\n",
              "<style scoped>\n",
              "    .dataframe tbody tr th:only-of-type {\n",
              "        vertical-align: middle;\n",
              "    }\n",
              "\n",
              "    .dataframe tbody tr th {\n",
              "        vertical-align: top;\n",
              "    }\n",
              "\n",
              "    .dataframe thead th {\n",
              "        text-align: right;\n",
              "    }\n",
              "</style>\n",
              "<table border=\"1\" class=\"dataframe\">\n",
              "  <thead>\n",
              "    <tr style=\"text-align: right;\">\n",
              "      <th></th>\n",
              "      <th>Id</th>\n",
              "      <th>date</th>\n",
              "      <th>Lagging_Current_Reactive.Power_kVarh</th>\n",
              "      <th>Leading_Current_Reactive_Power_kVarh</th>\n",
              "      <th>CO2(tCO2)</th>\n",
              "      <th>Lagging_Current_Power_Factor</th>\n",
              "      <th>Leading_Current_Power_Factor</th>\n",
              "      <th>NSM</th>\n",
              "      <th>Usage_kWh</th>\n",
              "      <th>Light_Load</th>\n",
              "      <th>Maximum_Load</th>\n",
              "      <th>Medium_Load</th>\n",
              "    </tr>\n",
              "  </thead>\n",
              "  <tbody>\n",
              "    <tr>\n",
              "      <th>0</th>\n",
              "      <td>1</td>\n",
              "      <td>1/1/2018 0:15</td>\n",
              "      <td>-0.634342</td>\n",
              "      <td>-0.288751</td>\n",
              "      <td>-0.732082</td>\n",
              "      <td>-0.339417</td>\n",
              "      <td>0.188628</td>\n",
              "      <td>-1.681947</td>\n",
              "      <td>3.17</td>\n",
              "      <td>True</td>\n",
              "      <td>False</td>\n",
              "      <td>False</td>\n",
              "    </tr>\n",
              "    <tr>\n",
              "      <th>1</th>\n",
              "      <td>2</td>\n",
              "      <td>1/1/2018 0:30</td>\n",
              "      <td>-0.526601</td>\n",
              "      <td>-0.288751</td>\n",
              "      <td>-0.732082</td>\n",
              "      <td>-0.668189</td>\n",
              "      <td>0.188628</td>\n",
              "      <td>-1.645821</td>\n",
              "      <td>4.00</td>\n",
              "      <td>True</td>\n",
              "      <td>False</td>\n",
              "      <td>False</td>\n",
              "    </tr>\n",
              "    <tr>\n",
              "      <th>2</th>\n",
              "      <td>3</td>\n",
              "      <td>1/1/2018 0:45</td>\n",
              "      <td>-0.610796</td>\n",
              "      <td>-0.288751</td>\n",
              "      <td>-0.732082</td>\n",
              "      <td>-0.488998</td>\n",
              "      <td>0.188628</td>\n",
              "      <td>-1.609695</td>\n",
              "      <td>3.24</td>\n",
              "      <td>True</td>\n",
              "      <td>False</td>\n",
              "      <td>False</td>\n",
              "    </tr>\n",
              "    <tr>\n",
              "      <th>3</th>\n",
              "      <td>4</td>\n",
              "      <td>1/1/2018 1:00</td>\n",
              "      <td>-0.590818</td>\n",
              "      <td>-0.288751</td>\n",
              "      <td>-0.732082</td>\n",
              "      <td>-0.600801</td>\n",
              "      <td>0.188628</td>\n",
              "      <td>-1.573568</td>\n",
              "      <td>3.31</td>\n",
              "      <td>True</td>\n",
              "      <td>False</td>\n",
              "      <td>False</td>\n",
              "    </tr>\n",
              "    <tr>\n",
              "      <th>4</th>\n",
              "      <td>5</td>\n",
              "      <td>1/1/2018 1:15</td>\n",
              "      <td>-0.523747</td>\n",
              "      <td>-0.288751</td>\n",
              "      <td>-0.732082</td>\n",
              "      <td>-0.772844</td>\n",
              "      <td>0.188628</td>\n",
              "      <td>-1.537442</td>\n",
              "      <td>3.82</td>\n",
              "      <td>True</td>\n",
              "      <td>False</td>\n",
              "      <td>False</td>\n",
              "    </tr>\n",
              "  </tbody>\n",
              "</table>\n",
              "</div>"
            ],
            "text/plain": [
              "   Id           date  Lagging_Current_Reactive.Power_kVarh  \\\n",
              "0   1  1/1/2018 0:15                             -0.634342   \n",
              "1   2  1/1/2018 0:30                             -0.526601   \n",
              "2   3  1/1/2018 0:45                             -0.610796   \n",
              "3   4  1/1/2018 1:00                             -0.590818   \n",
              "4   5  1/1/2018 1:15                             -0.523747   \n",
              "\n",
              "   Leading_Current_Reactive_Power_kVarh  CO2(tCO2)  \\\n",
              "0                             -0.288751  -0.732082   \n",
              "1                             -0.288751  -0.732082   \n",
              "2                             -0.288751  -0.732082   \n",
              "3                             -0.288751  -0.732082   \n",
              "4                             -0.288751  -0.732082   \n",
              "\n",
              "   Lagging_Current_Power_Factor  Leading_Current_Power_Factor       NSM  \\\n",
              "0                     -0.339417                      0.188628 -1.681947   \n",
              "1                     -0.668189                      0.188628 -1.645821   \n",
              "2                     -0.488998                      0.188628 -1.609695   \n",
              "3                     -0.600801                      0.188628 -1.573568   \n",
              "4                     -0.772844                      0.188628 -1.537442   \n",
              "\n",
              "   Usage_kWh  Light_Load  Maximum_Load  Medium_Load  \n",
              "0       3.17        True         False        False  \n",
              "1       4.00        True         False        False  \n",
              "2       3.24        True         False        False  \n",
              "3       3.31        True         False        False  \n",
              "4       3.82        True         False        False  "
            ]
          },
          "execution_count": 163,
          "metadata": {},
          "output_type": "execute_result"
        }
      ],
      "source": [
        "df = pd.read_csv('transformed.csv')\n",
        "# df = pd.read_csv('transformed.csv')\n",
        "df.head(5)"
      ]
    },
    {
      "cell_type": "code",
      "execution_count": 164,
      "metadata": {
        "id": "JSjX4Ynnmzz4"
      },
      "outputs": [],
      "source": [
        "# indexing data\n",
        "df = df.set_index('date')"
      ]
    },
    {
      "cell_type": "code",
      "execution_count": 165,
      "metadata": {
        "colab": {
          "base_uri": "https://localhost:8080/"
        },
        "id": "Hntjknihm1r5",
        "outputId": "11f2de77-bdb0-47ff-9d7a-be372e422c1e"
      },
      "outputs": [
        {
          "name": "stdout",
          "output_type": "stream",
          "text": [
            "(18221, 5)\n",
            "(18221,)\n",
            "(3904, 5)\n",
            "(3904,)\n"
          ]
        },
        {
          "data": {
            "text/html": [
              "<div>\n",
              "<style scoped>\n",
              "    .dataframe tbody tr th:only-of-type {\n",
              "        vertical-align: middle;\n",
              "    }\n",
              "\n",
              "    .dataframe tbody tr th {\n",
              "        vertical-align: top;\n",
              "    }\n",
              "\n",
              "    .dataframe thead th {\n",
              "        text-align: right;\n",
              "    }\n",
              "</style>\n",
              "<table border=\"1\" class=\"dataframe\">\n",
              "  <thead>\n",
              "    <tr style=\"text-align: right;\">\n",
              "      <th></th>\n",
              "      <th>Lagging_Current_Reactive.Power_kVarh</th>\n",
              "      <th>CO2(tCO2)</th>\n",
              "      <th>Lagging_Current_Power_Factor</th>\n",
              "      <th>Light_Load</th>\n",
              "      <th>Maximum_Load</th>\n",
              "    </tr>\n",
              "    <tr>\n",
              "      <th>date</th>\n",
              "      <th></th>\n",
              "      <th></th>\n",
              "      <th></th>\n",
              "      <th></th>\n",
              "      <th></th>\n",
              "    </tr>\n",
              "  </thead>\n",
              "  <tbody>\n",
              "    <tr>\n",
              "      <th>1/1/2018 0:15</th>\n",
              "      <td>-6.343424e-01</td>\n",
              "      <td>-0.732082</td>\n",
              "      <td>-0.339417</td>\n",
              "      <td>True</td>\n",
              "      <td>False</td>\n",
              "    </tr>\n",
              "    <tr>\n",
              "      <th>1/1/2018 0:30</th>\n",
              "      <td>-5.266013e-01</td>\n",
              "      <td>-0.732082</td>\n",
              "      <td>-0.668189</td>\n",
              "      <td>True</td>\n",
              "      <td>False</td>\n",
              "    </tr>\n",
              "    <tr>\n",
              "      <th>1/1/2018 0:45</th>\n",
              "      <td>-6.107963e-01</td>\n",
              "      <td>-0.732082</td>\n",
              "      <td>-0.488998</td>\n",
              "      <td>True</td>\n",
              "      <td>False</td>\n",
              "    </tr>\n",
              "    <tr>\n",
              "      <th>1/1/2018 1:00</th>\n",
              "      <td>-5.908178e-01</td>\n",
              "      <td>-0.732082</td>\n",
              "      <td>-0.600801</td>\n",
              "      <td>True</td>\n",
              "      <td>False</td>\n",
              "    </tr>\n",
              "    <tr>\n",
              "      <th>1/1/2018 1:15</th>\n",
              "      <td>-5.237473e-01</td>\n",
              "      <td>-0.732082</td>\n",
              "      <td>-0.772844</td>\n",
              "      <td>True</td>\n",
              "      <td>False</td>\n",
              "    </tr>\n",
              "    <tr>\n",
              "      <th>...</th>\n",
              "      <td>...</td>\n",
              "      <td>...</td>\n",
              "      <td>...</td>\n",
              "      <td>...</td>\n",
              "      <td>...</td>\n",
              "    </tr>\n",
              "    <tr>\n",
              "      <th>19/10/2018 14:45</th>\n",
              "      <td>1.482662e+00</td>\n",
              "      <td>0.570850</td>\n",
              "      <td>0.300768</td>\n",
              "      <td>False</td>\n",
              "      <td>True</td>\n",
              "    </tr>\n",
              "    <tr>\n",
              "      <th>19/10/2018 15:00</th>\n",
              "      <td>1.685301e+00</td>\n",
              "      <td>1.222316</td>\n",
              "      <td>0.250227</td>\n",
              "      <td>False</td>\n",
              "      <td>True</td>\n",
              "    </tr>\n",
              "    <tr>\n",
              "      <th>19/10/2018 15:15</th>\n",
              "      <td>1.361364e+00</td>\n",
              "      <td>1.222316</td>\n",
              "      <td>0.498848</td>\n",
              "      <td>False</td>\n",
              "      <td>True</td>\n",
              "    </tr>\n",
              "    <tr>\n",
              "      <th>19/10/2018 15:30</th>\n",
              "      <td>-2.534921e-16</td>\n",
              "      <td>1.873782</td>\n",
              "      <td>0.205813</td>\n",
              "      <td>False</td>\n",
              "      <td>True</td>\n",
              "    </tr>\n",
              "    <tr>\n",
              "      <th>19/10/2018 15:45</th>\n",
              "      <td>2.042059e+00</td>\n",
              "      <td>1.222316</td>\n",
              "      <td>0.186413</td>\n",
              "      <td>False</td>\n",
              "      <td>True</td>\n",
              "    </tr>\n",
              "  </tbody>\n",
              "</table>\n",
              "<p>26030 rows × 5 columns</p>\n",
              "</div>"
            ],
            "text/plain": [
              "                  Lagging_Current_Reactive.Power_kVarh  CO2(tCO2)  \\\n",
              "date                                                                \n",
              "1/1/2018 0:15                            -6.343424e-01  -0.732082   \n",
              "1/1/2018 0:30                            -5.266013e-01  -0.732082   \n",
              "1/1/2018 0:45                            -6.107963e-01  -0.732082   \n",
              "1/1/2018 1:00                            -5.908178e-01  -0.732082   \n",
              "1/1/2018 1:15                            -5.237473e-01  -0.732082   \n",
              "...                                                ...        ...   \n",
              "19/10/2018 14:45                          1.482662e+00   0.570850   \n",
              "19/10/2018 15:00                          1.685301e+00   1.222316   \n",
              "19/10/2018 15:15                          1.361364e+00   1.222316   \n",
              "19/10/2018 15:30                         -2.534921e-16   1.873782   \n",
              "19/10/2018 15:45                          2.042059e+00   1.222316   \n",
              "\n",
              "                  Lagging_Current_Power_Factor  Light_Load  Maximum_Load  \n",
              "date                                                                      \n",
              "1/1/2018 0:15                        -0.339417        True         False  \n",
              "1/1/2018 0:30                        -0.668189        True         False  \n",
              "1/1/2018 0:45                        -0.488998        True         False  \n",
              "1/1/2018 1:00                        -0.600801        True         False  \n",
              "1/1/2018 1:15                        -0.772844        True         False  \n",
              "...                                        ...         ...           ...  \n",
              "19/10/2018 14:45                      0.300768       False          True  \n",
              "19/10/2018 15:00                      0.250227       False          True  \n",
              "19/10/2018 15:15                      0.498848       False          True  \n",
              "19/10/2018 15:30                      0.205813       False          True  \n",
              "19/10/2018 15:45                      0.186413       False          True  \n",
              "\n",
              "[26030 rows x 5 columns]"
            ]
          },
          "execution_count": 165,
          "metadata": {},
          "output_type": "execute_result"
        }
      ],
      "source": [
        "#split data\n",
        "X = df.drop(columns=['Id', 'Usage_kWh'],axis=1)\n",
        "X = X.drop(columns=['Leading_Current_Reactive_Power_kVarh','Leading_Current_Power_Factor', 'NSM', 'Medium_Load'])\n",
        "y = df['Usage_kWh']\n",
        "X_train_temp, X_temp, y_train_temp, y_temp = train_test_split(X, y, test_size=0.3, random_state=42)\n",
        "X_test, X_val, y_test, y_val = train_test_split(X_temp, y_temp, test_size=0.5, random_state=42)\n",
        "print(X_train_temp.shape)\n",
        "print(y_train_temp.shape)\n",
        "print(X_test.shape)\n",
        "print(y_test.shape)\n",
        "\n",
        "X"
      ]
    },
    {
      "cell_type": "code",
      "execution_count": 166,
      "metadata": {},
      "outputs": [],
      "source": [
        "y = y.astype('int')\n",
        "select_reg =  SelectKBest(k=5, score_func=f_regression).fit(X, y)"
      ]
    },
    {
      "cell_type": "code",
      "execution_count": 167,
      "metadata": {},
      "outputs": [
        {
          "data": {
            "text/plain": [
              "(26030, 5)"
            ]
          },
          "execution_count": 167,
          "metadata": {},
          "output_type": "execute_result"
        }
      ],
      "source": [
        "X_Select = select_reg.transform(X)\n",
        "X_Select.shape"
      ]
    },
    {
      "cell_type": "code",
      "execution_count": 168,
      "metadata": {},
      "outputs": [
        {
          "data": {
            "text/html": [
              "<div>\n",
              "<style scoped>\n",
              "    .dataframe tbody tr th:only-of-type {\n",
              "        vertical-align: middle;\n",
              "    }\n",
              "\n",
              "    .dataframe tbody tr th {\n",
              "        vertical-align: top;\n",
              "    }\n",
              "\n",
              "    .dataframe thead th {\n",
              "        text-align: right;\n",
              "    }\n",
              "</style>\n",
              "<table border=\"1\" class=\"dataframe\">\n",
              "  <thead>\n",
              "    <tr style=\"text-align: right;\">\n",
              "      <th></th>\n",
              "      <th>columns</th>\n",
              "      <th>Kept</th>\n",
              "    </tr>\n",
              "  </thead>\n",
              "  <tbody>\n",
              "    <tr>\n",
              "      <th>0</th>\n",
              "      <td>Lagging_Current_Reactive.Power_kVarh</td>\n",
              "      <td>True</td>\n",
              "    </tr>\n",
              "    <tr>\n",
              "      <th>1</th>\n",
              "      <td>CO2(tCO2)</td>\n",
              "      <td>True</td>\n",
              "    </tr>\n",
              "    <tr>\n",
              "      <th>2</th>\n",
              "      <td>Lagging_Current_Power_Factor</td>\n",
              "      <td>True</td>\n",
              "    </tr>\n",
              "    <tr>\n",
              "      <th>3</th>\n",
              "      <td>Light_Load</td>\n",
              "      <td>True</td>\n",
              "    </tr>\n",
              "    <tr>\n",
              "      <th>4</th>\n",
              "      <td>Maximum_Load</td>\n",
              "      <td>True</td>\n",
              "    </tr>\n",
              "  </tbody>\n",
              "</table>\n",
              "</div>"
            ],
            "text/plain": [
              "                                columns  Kept\n",
              "0  Lagging_Current_Reactive.Power_kVarh  True\n",
              "1                             CO2(tCO2)  True\n",
              "2          Lagging_Current_Power_Factor  True\n",
              "3                            Light_Load  True\n",
              "4                          Maximum_Load  True"
            ]
          },
          "execution_count": 168,
          "metadata": {},
          "output_type": "execute_result"
        }
      ],
      "source": [
        "Selected_features = pd.DataFrame({'columns': X.columns,'Kept': select_reg.get_support()})\n",
        "Selected_features\n",
        "#Leading_Current_Reactive_Power_kVarh - Leading_Current_Power_Factor potentially removed\n"
      ]
    },
    {
      "cell_type": "markdown",
      "metadata": {
        "id": "J5eQNOw0QG7x"
      },
      "source": [
        "# Modeling (Linear Regression)"
      ]
    },
    {
      "cell_type": "code",
      "execution_count": 169,
      "metadata": {
        "colab": {
          "base_uri": "https://localhost:8080/"
        },
        "id": "bISgPb0Um0ys",
        "outputId": "805d4061-91cb-42b4-d490-4898b9e85064"
      },
      "outputs": [
        {
          "name": "stdout",
          "output_type": "stream",
          "text": [
            "CPU times: total: 0 ns\n",
            "Wall time: 5.02 ms\n"
          ]
        },
        {
          "data": {
            "text/plain": [
              "0.873162562139873"
            ]
          },
          "execution_count": 169,
          "metadata": {},
          "output_type": "execute_result"
        }
      ],
      "source": [
        "#Linear Regression Model\n",
        "lr = LinearRegression()\n",
        "%time lr.fit(X_train_temp, y_train_temp)\n",
        "lr.score(X_test, y_test)"
      ]
    },
    {
      "cell_type": "code",
      "execution_count": 170,
      "metadata": {
        "colab": {
          "base_uri": "https://localhost:8080/"
        },
        "id": "nNK_gYdCEZSP",
        "outputId": "beb7a10c-28f5-48a5-c0b4-60312a20027b"
      },
      "outputs": [
        {
          "name": "stdout",
          "output_type": "stream",
          "text": [
            "Test Error (MSE): 143.56866690130278\n"
          ]
        }
      ],
      "source": [
        "from sklearn.metrics import mean_squared_error\n",
        "\n",
        "# Predict on the test set\n",
        "y_test_pred = lr.predict(X_test)\n",
        "\n",
        "# Calculate the test error\n",
        "test_error = mean_squared_error(y_test, y_test_pred)\n",
        "\n",
        "print(f'Test Error (MSE): {test_error}')\n"
      ]
    },
    {
      "cell_type": "code",
      "execution_count": 112,
      "metadata": {
        "colab": {
          "base_uri": "https://localhost:8080/"
        },
        "id": "zeREXo0EmxAl",
        "outputId": "c824e84b-0ed3-49a1-bb3b-84d16cd27452"
      },
      "outputs": [
        {
          "name": "stdout",
          "output_type": "stream",
          "text": [
            "CPU times: total: 0 ns\n",
            "Wall time: 2.99 ms\n"
          ]
        },
        {
          "data": {
            "text/plain": [
              "0.9800121449388466"
            ]
          },
          "execution_count": 112,
          "metadata": {},
          "output_type": "execute_result"
        }
      ],
      "source": [
        "#Ridge Regression Model\n",
        "ridge = Ridge(alpha = 1)\n",
        "%time ridge.fit(X_train_temp, y_train_temp)\n",
        "ridge.score(X_test, y_test)"
      ]
    },
    {
      "cell_type": "code",
      "execution_count": 39,
      "metadata": {
        "colab": {
          "base_uri": "https://localhost:8080/"
        },
        "id": "NknQ-wJQE6ot",
        "outputId": "bdce3103-8e31-46d9-c9e1-a0bc8a4c33ff"
      },
      "outputs": [
        {
          "name": "stdout",
          "output_type": "stream",
          "text": [
            "Test Error for Ridge (MSE): 184.55551050302574\n"
          ]
        }
      ],
      "source": [
        "from sklearn.metrics import mean_squared_error\n",
        "\n",
        "# Predict on the test set\n",
        "y_test_pred = ridge.predict(X_test)\n",
        "\n",
        "# Calculate the test error\n",
        "test_error = mean_squared_error(y_test, y_test_pred)\n",
        "\n",
        "print(f'Test Error for Ridge (MSE): {test_error}')"
      ]
    },
    {
      "cell_type": "code",
      "execution_count": 113,
      "metadata": {
        "colab": {
          "base_uri": "https://localhost:8080/"
        },
        "id": "0dLLN9DhxKl6",
        "outputId": "19c11688-1542-4aa3-d0d4-2f78b2a77e7d"
      },
      "outputs": [
        {
          "name": "stdout",
          "output_type": "stream",
          "text": [
            "CPU times: total: 31.2 ms\n",
            "Wall time: 24.9 ms\n"
          ]
        },
        {
          "data": {
            "text/plain": [
              "0.9800384619012246"
            ]
          },
          "execution_count": 113,
          "metadata": {},
          "output_type": "execute_result"
        }
      ],
      "source": [
        "#Lasso Regression Model\n",
        "lasso = Lasso(alpha = 0.1)\n",
        "%time lasso.fit(X_train_temp , y_train_temp)\n",
        "lasso.score(X_test, y_test)"
      ]
    },
    {
      "cell_type": "code",
      "execution_count": 41,
      "metadata": {
        "colab": {
          "base_uri": "https://localhost:8080/"
        },
        "id": "bT8dW7J2FPy6",
        "outputId": "03132e2d-fbc3-4586-dea3-7f6fcc73d47b"
      },
      "outputs": [
        {
          "name": "stdout",
          "output_type": "stream",
          "text": [
            "Test Error for Ridge (MSE): 184.59557828175832\n"
          ]
        }
      ],
      "source": [
        "from sklearn.metrics import mean_squared_error\n",
        "\n",
        "# Predict on the test set\n",
        "y_test_pred = lasso.predict(X_test)\n",
        "\n",
        "# Calculate the test error\n",
        "test_error = mean_squared_error(y_test, y_test_pred)\n",
        "\n",
        "print(f'Test Error for Ridge (MSE): {test_error}')"
      ]
    },
    {
      "cell_type": "code",
      "execution_count": 42,
      "metadata": {},
      "outputs": [
        {
          "data": {
            "text/html": [
              "<style>#sk-container-id-1 {\n",
              "  /* Definition of color scheme common for light and dark mode */\n",
              "  --sklearn-color-text: black;\n",
              "  --sklearn-color-line: gray;\n",
              "  /* Definition of color scheme for unfitted estimators */\n",
              "  --sklearn-color-unfitted-level-0: #fff5e6;\n",
              "  --sklearn-color-unfitted-level-1: #f6e4d2;\n",
              "  --sklearn-color-unfitted-level-2: #ffe0b3;\n",
              "  --sklearn-color-unfitted-level-3: chocolate;\n",
              "  /* Definition of color scheme for fitted estimators */\n",
              "  --sklearn-color-fitted-level-0: #f0f8ff;\n",
              "  --sklearn-color-fitted-level-1: #d4ebff;\n",
              "  --sklearn-color-fitted-level-2: #b3dbfd;\n",
              "  --sklearn-color-fitted-level-3: cornflowerblue;\n",
              "\n",
              "  /* Specific color for light theme */\n",
              "  --sklearn-color-text-on-default-background: var(--sg-text-color, var(--theme-code-foreground, var(--jp-content-font-color1, black)));\n",
              "  --sklearn-color-background: var(--sg-background-color, var(--theme-background, var(--jp-layout-color0, white)));\n",
              "  --sklearn-color-border-box: var(--sg-text-color, var(--theme-code-foreground, var(--jp-content-font-color1, black)));\n",
              "  --sklearn-color-icon: #696969;\n",
              "\n",
              "  @media (prefers-color-scheme: dark) {\n",
              "    /* Redefinition of color scheme for dark theme */\n",
              "    --sklearn-color-text-on-default-background: var(--sg-text-color, var(--theme-code-foreground, var(--jp-content-font-color1, white)));\n",
              "    --sklearn-color-background: var(--sg-background-color, var(--theme-background, var(--jp-layout-color0, #111)));\n",
              "    --sklearn-color-border-box: var(--sg-text-color, var(--theme-code-foreground, var(--jp-content-font-color1, white)));\n",
              "    --sklearn-color-icon: #878787;\n",
              "  }\n",
              "}\n",
              "\n",
              "#sk-container-id-1 {\n",
              "  color: var(--sklearn-color-text);\n",
              "}\n",
              "\n",
              "#sk-container-id-1 pre {\n",
              "  padding: 0;\n",
              "}\n",
              "\n",
              "#sk-container-id-1 input.sk-hidden--visually {\n",
              "  border: 0;\n",
              "  clip: rect(1px 1px 1px 1px);\n",
              "  clip: rect(1px, 1px, 1px, 1px);\n",
              "  height: 1px;\n",
              "  margin: -1px;\n",
              "  overflow: hidden;\n",
              "  padding: 0;\n",
              "  position: absolute;\n",
              "  width: 1px;\n",
              "}\n",
              "\n",
              "#sk-container-id-1 div.sk-dashed-wrapped {\n",
              "  border: 1px dashed var(--sklearn-color-line);\n",
              "  margin: 0 0.4em 0.5em 0.4em;\n",
              "  box-sizing: border-box;\n",
              "  padding-bottom: 0.4em;\n",
              "  background-color: var(--sklearn-color-background);\n",
              "}\n",
              "\n",
              "#sk-container-id-1 div.sk-container {\n",
              "  /* jupyter's `normalize.less` sets `[hidden] { display: none; }`\n",
              "     but bootstrap.min.css set `[hidden] { display: none !important; }`\n",
              "     so we also need the `!important` here to be able to override the\n",
              "     default hidden behavior on the sphinx rendered scikit-learn.org.\n",
              "     See: https://github.com/scikit-learn/scikit-learn/issues/21755 */\n",
              "  display: inline-block !important;\n",
              "  position: relative;\n",
              "}\n",
              "\n",
              "#sk-container-id-1 div.sk-text-repr-fallback {\n",
              "  display: none;\n",
              "}\n",
              "\n",
              "div.sk-parallel-item,\n",
              "div.sk-serial,\n",
              "div.sk-item {\n",
              "  /* draw centered vertical line to link estimators */\n",
              "  background-image: linear-gradient(var(--sklearn-color-text-on-default-background), var(--sklearn-color-text-on-default-background));\n",
              "  background-size: 2px 100%;\n",
              "  background-repeat: no-repeat;\n",
              "  background-position: center center;\n",
              "}\n",
              "\n",
              "/* Parallel-specific style estimator block */\n",
              "\n",
              "#sk-container-id-1 div.sk-parallel-item::after {\n",
              "  content: \"\";\n",
              "  width: 100%;\n",
              "  border-bottom: 2px solid var(--sklearn-color-text-on-default-background);\n",
              "  flex-grow: 1;\n",
              "}\n",
              "\n",
              "#sk-container-id-1 div.sk-parallel {\n",
              "  display: flex;\n",
              "  align-items: stretch;\n",
              "  justify-content: center;\n",
              "  background-color: var(--sklearn-color-background);\n",
              "  position: relative;\n",
              "}\n",
              "\n",
              "#sk-container-id-1 div.sk-parallel-item {\n",
              "  display: flex;\n",
              "  flex-direction: column;\n",
              "}\n",
              "\n",
              "#sk-container-id-1 div.sk-parallel-item:first-child::after {\n",
              "  align-self: flex-end;\n",
              "  width: 50%;\n",
              "}\n",
              "\n",
              "#sk-container-id-1 div.sk-parallel-item:last-child::after {\n",
              "  align-self: flex-start;\n",
              "  width: 50%;\n",
              "}\n",
              "\n",
              "#sk-container-id-1 div.sk-parallel-item:only-child::after {\n",
              "  width: 0;\n",
              "}\n",
              "\n",
              "/* Serial-specific style estimator block */\n",
              "\n",
              "#sk-container-id-1 div.sk-serial {\n",
              "  display: flex;\n",
              "  flex-direction: column;\n",
              "  align-items: center;\n",
              "  background-color: var(--sklearn-color-background);\n",
              "  padding-right: 1em;\n",
              "  padding-left: 1em;\n",
              "}\n",
              "\n",
              "\n",
              "/* Toggleable style: style used for estimator/Pipeline/ColumnTransformer box that is\n",
              "clickable and can be expanded/collapsed.\n",
              "- Pipeline and ColumnTransformer use this feature and define the default style\n",
              "- Estimators will overwrite some part of the style using the `sk-estimator` class\n",
              "*/\n",
              "\n",
              "/* Pipeline and ColumnTransformer style (default) */\n",
              "\n",
              "#sk-container-id-1 div.sk-toggleable {\n",
              "  /* Default theme specific background. It is overwritten whether we have a\n",
              "  specific estimator or a Pipeline/ColumnTransformer */\n",
              "  background-color: var(--sklearn-color-background);\n",
              "}\n",
              "\n",
              "/* Toggleable label */\n",
              "#sk-container-id-1 label.sk-toggleable__label {\n",
              "  cursor: pointer;\n",
              "  display: block;\n",
              "  width: 100%;\n",
              "  margin-bottom: 0;\n",
              "  padding: 0.5em;\n",
              "  box-sizing: border-box;\n",
              "  text-align: center;\n",
              "}\n",
              "\n",
              "#sk-container-id-1 label.sk-toggleable__label-arrow:before {\n",
              "  /* Arrow on the left of the label */\n",
              "  content: \"▸\";\n",
              "  float: left;\n",
              "  margin-right: 0.25em;\n",
              "  color: var(--sklearn-color-icon);\n",
              "}\n",
              "\n",
              "#sk-container-id-1 label.sk-toggleable__label-arrow:hover:before {\n",
              "  color: var(--sklearn-color-text);\n",
              "}\n",
              "\n",
              "/* Toggleable content - dropdown */\n",
              "\n",
              "#sk-container-id-1 div.sk-toggleable__content {\n",
              "  max-height: 0;\n",
              "  max-width: 0;\n",
              "  overflow: hidden;\n",
              "  text-align: left;\n",
              "  /* unfitted */\n",
              "  background-color: var(--sklearn-color-unfitted-level-0);\n",
              "}\n",
              "\n",
              "#sk-container-id-1 div.sk-toggleable__content.fitted {\n",
              "  /* fitted */\n",
              "  background-color: var(--sklearn-color-fitted-level-0);\n",
              "}\n",
              "\n",
              "#sk-container-id-1 div.sk-toggleable__content pre {\n",
              "  margin: 0.2em;\n",
              "  border-radius: 0.25em;\n",
              "  color: var(--sklearn-color-text);\n",
              "  /* unfitted */\n",
              "  background-color: var(--sklearn-color-unfitted-level-0);\n",
              "}\n",
              "\n",
              "#sk-container-id-1 div.sk-toggleable__content.fitted pre {\n",
              "  /* unfitted */\n",
              "  background-color: var(--sklearn-color-fitted-level-0);\n",
              "}\n",
              "\n",
              "#sk-container-id-1 input.sk-toggleable__control:checked~div.sk-toggleable__content {\n",
              "  /* Expand drop-down */\n",
              "  max-height: 200px;\n",
              "  max-width: 100%;\n",
              "  overflow: auto;\n",
              "}\n",
              "\n",
              "#sk-container-id-1 input.sk-toggleable__control:checked~label.sk-toggleable__label-arrow:before {\n",
              "  content: \"▾\";\n",
              "}\n",
              "\n",
              "/* Pipeline/ColumnTransformer-specific style */\n",
              "\n",
              "#sk-container-id-1 div.sk-label input.sk-toggleable__control:checked~label.sk-toggleable__label {\n",
              "  color: var(--sklearn-color-text);\n",
              "  background-color: var(--sklearn-color-unfitted-level-2);\n",
              "}\n",
              "\n",
              "#sk-container-id-1 div.sk-label.fitted input.sk-toggleable__control:checked~label.sk-toggleable__label {\n",
              "  background-color: var(--sklearn-color-fitted-level-2);\n",
              "}\n",
              "\n",
              "/* Estimator-specific style */\n",
              "\n",
              "/* Colorize estimator box */\n",
              "#sk-container-id-1 div.sk-estimator input.sk-toggleable__control:checked~label.sk-toggleable__label {\n",
              "  /* unfitted */\n",
              "  background-color: var(--sklearn-color-unfitted-level-2);\n",
              "}\n",
              "\n",
              "#sk-container-id-1 div.sk-estimator.fitted input.sk-toggleable__control:checked~label.sk-toggleable__label {\n",
              "  /* fitted */\n",
              "  background-color: var(--sklearn-color-fitted-level-2);\n",
              "}\n",
              "\n",
              "#sk-container-id-1 div.sk-label label.sk-toggleable__label,\n",
              "#sk-container-id-1 div.sk-label label {\n",
              "  /* The background is the default theme color */\n",
              "  color: var(--sklearn-color-text-on-default-background);\n",
              "}\n",
              "\n",
              "/* On hover, darken the color of the background */\n",
              "#sk-container-id-1 div.sk-label:hover label.sk-toggleable__label {\n",
              "  color: var(--sklearn-color-text);\n",
              "  background-color: var(--sklearn-color-unfitted-level-2);\n",
              "}\n",
              "\n",
              "/* Label box, darken color on hover, fitted */\n",
              "#sk-container-id-1 div.sk-label.fitted:hover label.sk-toggleable__label.fitted {\n",
              "  color: var(--sklearn-color-text);\n",
              "  background-color: var(--sklearn-color-fitted-level-2);\n",
              "}\n",
              "\n",
              "/* Estimator label */\n",
              "\n",
              "#sk-container-id-1 div.sk-label label {\n",
              "  font-family: monospace;\n",
              "  font-weight: bold;\n",
              "  display: inline-block;\n",
              "  line-height: 1.2em;\n",
              "}\n",
              "\n",
              "#sk-container-id-1 div.sk-label-container {\n",
              "  text-align: center;\n",
              "}\n",
              "\n",
              "/* Estimator-specific */\n",
              "#sk-container-id-1 div.sk-estimator {\n",
              "  font-family: monospace;\n",
              "  border: 1px dotted var(--sklearn-color-border-box);\n",
              "  border-radius: 0.25em;\n",
              "  box-sizing: border-box;\n",
              "  margin-bottom: 0.5em;\n",
              "  /* unfitted */\n",
              "  background-color: var(--sklearn-color-unfitted-level-0);\n",
              "}\n",
              "\n",
              "#sk-container-id-1 div.sk-estimator.fitted {\n",
              "  /* fitted */\n",
              "  background-color: var(--sklearn-color-fitted-level-0);\n",
              "}\n",
              "\n",
              "/* on hover */\n",
              "#sk-container-id-1 div.sk-estimator:hover {\n",
              "  /* unfitted */\n",
              "  background-color: var(--sklearn-color-unfitted-level-2);\n",
              "}\n",
              "\n",
              "#sk-container-id-1 div.sk-estimator.fitted:hover {\n",
              "  /* fitted */\n",
              "  background-color: var(--sklearn-color-fitted-level-2);\n",
              "}\n",
              "\n",
              "/* Specification for estimator info (e.g. \"i\" and \"?\") */\n",
              "\n",
              "/* Common style for \"i\" and \"?\" */\n",
              "\n",
              ".sk-estimator-doc-link,\n",
              "a:link.sk-estimator-doc-link,\n",
              "a:visited.sk-estimator-doc-link {\n",
              "  float: right;\n",
              "  font-size: smaller;\n",
              "  line-height: 1em;\n",
              "  font-family: monospace;\n",
              "  background-color: var(--sklearn-color-background);\n",
              "  border-radius: 1em;\n",
              "  height: 1em;\n",
              "  width: 1em;\n",
              "  text-decoration: none !important;\n",
              "  margin-left: 1ex;\n",
              "  /* unfitted */\n",
              "  border: var(--sklearn-color-unfitted-level-1) 1pt solid;\n",
              "  color: var(--sklearn-color-unfitted-level-1);\n",
              "}\n",
              "\n",
              ".sk-estimator-doc-link.fitted,\n",
              "a:link.sk-estimator-doc-link.fitted,\n",
              "a:visited.sk-estimator-doc-link.fitted {\n",
              "  /* fitted */\n",
              "  border: var(--sklearn-color-fitted-level-1) 1pt solid;\n",
              "  color: var(--sklearn-color-fitted-level-1);\n",
              "}\n",
              "\n",
              "/* On hover */\n",
              "div.sk-estimator:hover .sk-estimator-doc-link:hover,\n",
              ".sk-estimator-doc-link:hover,\n",
              "div.sk-label-container:hover .sk-estimator-doc-link:hover,\n",
              ".sk-estimator-doc-link:hover {\n",
              "  /* unfitted */\n",
              "  background-color: var(--sklearn-color-unfitted-level-3);\n",
              "  color: var(--sklearn-color-background);\n",
              "  text-decoration: none;\n",
              "}\n",
              "\n",
              "div.sk-estimator.fitted:hover .sk-estimator-doc-link.fitted:hover,\n",
              ".sk-estimator-doc-link.fitted:hover,\n",
              "div.sk-label-container:hover .sk-estimator-doc-link.fitted:hover,\n",
              ".sk-estimator-doc-link.fitted:hover {\n",
              "  /* fitted */\n",
              "  background-color: var(--sklearn-color-fitted-level-3);\n",
              "  color: var(--sklearn-color-background);\n",
              "  text-decoration: none;\n",
              "}\n",
              "\n",
              "/* Span, style for the box shown on hovering the info icon */\n",
              ".sk-estimator-doc-link span {\n",
              "  display: none;\n",
              "  z-index: 9999;\n",
              "  position: relative;\n",
              "  font-weight: normal;\n",
              "  right: .2ex;\n",
              "  padding: .5ex;\n",
              "  margin: .5ex;\n",
              "  width: min-content;\n",
              "  min-width: 20ex;\n",
              "  max-width: 50ex;\n",
              "  color: var(--sklearn-color-text);\n",
              "  box-shadow: 2pt 2pt 4pt #999;\n",
              "  /* unfitted */\n",
              "  background: var(--sklearn-color-unfitted-level-0);\n",
              "  border: .5pt solid var(--sklearn-color-unfitted-level-3);\n",
              "}\n",
              "\n",
              ".sk-estimator-doc-link.fitted span {\n",
              "  /* fitted */\n",
              "  background: var(--sklearn-color-fitted-level-0);\n",
              "  border: var(--sklearn-color-fitted-level-3);\n",
              "}\n",
              "\n",
              ".sk-estimator-doc-link:hover span {\n",
              "  display: block;\n",
              "}\n",
              "\n",
              "/* \"?\"-specific style due to the `<a>` HTML tag */\n",
              "\n",
              "#sk-container-id-1 a.estimator_doc_link {\n",
              "  float: right;\n",
              "  font-size: 1rem;\n",
              "  line-height: 1em;\n",
              "  font-family: monospace;\n",
              "  background-color: var(--sklearn-color-background);\n",
              "  border-radius: 1rem;\n",
              "  height: 1rem;\n",
              "  width: 1rem;\n",
              "  text-decoration: none;\n",
              "  /* unfitted */\n",
              "  color: var(--sklearn-color-unfitted-level-1);\n",
              "  border: var(--sklearn-color-unfitted-level-1) 1pt solid;\n",
              "}\n",
              "\n",
              "#sk-container-id-1 a.estimator_doc_link.fitted {\n",
              "  /* fitted */\n",
              "  border: var(--sklearn-color-fitted-level-1) 1pt solid;\n",
              "  color: var(--sklearn-color-fitted-level-1);\n",
              "}\n",
              "\n",
              "/* On hover */\n",
              "#sk-container-id-1 a.estimator_doc_link:hover {\n",
              "  /* unfitted */\n",
              "  background-color: var(--sklearn-color-unfitted-level-3);\n",
              "  color: var(--sklearn-color-background);\n",
              "  text-decoration: none;\n",
              "}\n",
              "\n",
              "#sk-container-id-1 a.estimator_doc_link.fitted:hover {\n",
              "  /* fitted */\n",
              "  background-color: var(--sklearn-color-fitted-level-3);\n",
              "}\n",
              "</style><div id=\"sk-container-id-1\" class=\"sk-top-container\"><div class=\"sk-text-repr-fallback\"><pre>SVR()</pre><b>In a Jupyter environment, please rerun this cell to show the HTML representation or trust the notebook. <br />On GitHub, the HTML representation is unable to render, please try loading this page with nbviewer.org.</b></div><div class=\"sk-container\" hidden><div class=\"sk-item\"><div class=\"sk-estimator fitted sk-toggleable\"><input class=\"sk-toggleable__control sk-hidden--visually\" id=\"sk-estimator-id-1\" type=\"checkbox\" checked><label for=\"sk-estimator-id-1\" class=\"sk-toggleable__label fitted sk-toggleable__label-arrow fitted\">&nbsp;&nbsp;SVR<a class=\"sk-estimator-doc-link fitted\" rel=\"noreferrer\" target=\"_blank\" href=\"https://scikit-learn.org/1.4/modules/generated/sklearn.svm.SVR.html\">?<span>Documentation for SVR</span></a><span class=\"sk-estimator-doc-link fitted\">i<span>Fitted</span></span></label><div class=\"sk-toggleable__content fitted\"><pre>SVR()</pre></div> </div></div></div></div>"
            ],
            "text/plain": [
              "SVR()"
            ]
          },
          "execution_count": 42,
          "metadata": {},
          "output_type": "execute_result"
        }
      ],
      "source": [
        "regressor = SVR(kernel = 'rbf')\n",
        "regressor.fit(X_train_temp, y_train_temp)"
      ]
    },
    {
      "cell_type": "code",
      "execution_count": 43,
      "metadata": {},
      "outputs": [
        {
          "data": {
            "text/html": [
              "<div>\n",
              "<style scoped>\n",
              "    .dataframe tbody tr th:only-of-type {\n",
              "        vertical-align: middle;\n",
              "    }\n",
              "\n",
              "    .dataframe tbody tr th {\n",
              "        vertical-align: top;\n",
              "    }\n",
              "\n",
              "    .dataframe thead th {\n",
              "        text-align: right;\n",
              "    }\n",
              "</style>\n",
              "<table border=\"1\" class=\"dataframe\">\n",
              "  <thead>\n",
              "    <tr style=\"text-align: right;\">\n",
              "      <th></th>\n",
              "      <th>Actual Value</th>\n",
              "      <th>Predicted Value</th>\n",
              "      <th>Difference</th>\n",
              "    </tr>\n",
              "    <tr>\n",
              "      <th>date</th>\n",
              "      <th></th>\n",
              "      <th></th>\n",
              "      <th></th>\n",
              "    </tr>\n",
              "  </thead>\n",
              "  <tbody>\n",
              "    <tr>\n",
              "      <th>7/7/2018 14:15</th>\n",
              "      <td>72.07</td>\n",
              "      <td>64.534488</td>\n",
              "      <td>7.535512</td>\n",
              "    </tr>\n",
              "    <tr>\n",
              "      <th>11/6/2018 23:00</th>\n",
              "      <td>3.71</td>\n",
              "      <td>3.632302</td>\n",
              "      <td>0.077698</td>\n",
              "    </tr>\n",
              "    <tr>\n",
              "      <th>14/07/2018 16:30</th>\n",
              "      <td>84.49</td>\n",
              "      <td>83.693265</td>\n",
              "      <td>0.796735</td>\n",
              "    </tr>\n",
              "    <tr>\n",
              "      <th>24/01/2018 17:15</th>\n",
              "      <td>74.59</td>\n",
              "      <td>66.605721</td>\n",
              "      <td>7.984279</td>\n",
              "    </tr>\n",
              "    <tr>\n",
              "      <th>11/2/2018 13:00</th>\n",
              "      <td>4.14</td>\n",
              "      <td>3.284270</td>\n",
              "      <td>0.855730</td>\n",
              "    </tr>\n",
              "  </tbody>\n",
              "</table>\n",
              "</div>"
            ],
            "text/plain": [
              "                  Actual Value  Predicted Value  Difference\n",
              "date                                                       \n",
              "7/7/2018 14:15           72.07        64.534488    7.535512\n",
              "11/6/2018 23:00           3.71         3.632302    0.077698\n",
              "14/07/2018 16:30         84.49        83.693265    0.796735\n",
              "24/01/2018 17:15         74.59        66.605721    7.984279\n",
              "11/2/2018 13:00           4.14         3.284270    0.855730"
            ]
          },
          "execution_count": 43,
          "metadata": {},
          "output_type": "execute_result"
        }
      ],
      "source": [
        "yregressor_pred = regressor.predict(X_test)\n",
        "regressor_model=pd.DataFrame({'Actual Value':y_test,'Predicted Value':yregressor_pred,'Difference':y_test-yregressor_pred})\n",
        "regressor_model[0:5]"
      ]
    },
    {
      "cell_type": "code",
      "execution_count": 44,
      "metadata": {},
      "outputs": [
        {
          "name": "stdout",
          "output_type": "stream",
          "text": [
            "Support Vector Regression Model\n",
            "Sqaured mean error 9.82\n",
            "R squared training 0.9125\n",
            "R sqaured testing 0.9148\n"
          ]
        }
      ],
      "source": [
        "print('Support Vector Regression Model')\n",
        "mean_squared_error=metrics.mean_squared_error(y_test,yregressor_pred)\n",
        "print('Sqaured mean error', round(np.sqrt(mean_squared_error),2))\n",
        "print('R squared training',round(regressor.score(X_train_temp,y_train_temp),4))\n",
        "print('R sqaured testing',round(regressor.score(X_test,y_test),4) )"
      ]
    },
    {
      "cell_type": "code",
      "execution_count": 154,
      "metadata": {},
      "outputs": [
        {
          "name": "stdout",
          "output_type": "stream",
          "text": [
            "Stacked Model R^2 Score: 0.9990515735686649\n",
            "                  Actual Value  Predicted Value  Difference\n",
            "date                                                       \n",
            "7/7/2018 14:15           72.07        72.185800   -0.115800\n",
            "11/6/2018 23:00           3.71         3.716000   -0.006000\n",
            "14/07/2018 16:30         84.49        84.250600    0.239400\n",
            "24/01/2018 17:15         74.59        74.679300   -0.089300\n",
            "11/2/2018 13:00           4.14         3.336934    0.803066\n",
            "Random Forest Regression Model\n",
            "Squared mean error: 1.04\n",
            "R squared testing: 0.9991\n"
          ]
        }
      ],
      "source": [
        "from sklearn.model_selection import cross_val_score\n",
        "\n",
        "rf_regressor = RandomForestRegressor(random_state=42)\n",
        "\n",
        "param_grid = {\n",
        "    'n_estimators': [50, 100, 200],\n",
        "    'max_depth': [None, 10, 20, 30],\n",
        "    'min_samples_split': [2, 5, 10]\n",
        "}\n",
        "\n",
        "grid_search = GridSearchCV(estimator=rf_regressor, param_grid=param_grid, cv=5, scoring='neg_mean_squared_error')\n",
        "\n",
        "grid_search.fit(X_train_temp, y_train_temp)\n",
        "\n",
        "best_rf_model = grid_search.best_estimator_\n",
        "\n",
        "k_fold = KFold(n_splits=5, shuffle=True, random_state=42)\n",
        "cv_scores = cross_val_score(best_rf_model, X_train_temp, y_train_temp, cv=k_fold, scoring='r2')\n",
        "\n",
        "y_rf_pred = best_rf_model.predict(X_test)\n",
        "rf_model = pd.DataFrame({'Actual Value': y_test, 'Predicted Value': y_rf_pred, 'Difference': y_test - y_rf_pred})\n",
        "print(rf_model.head(5))\n",
        "\n",
        "print('Random Forest Regression Model')\n",
        "print('Squared mean error:', round(np.sqrt(mean_squared_error(y_test, y_rf_pred)), 2))\n",
        "print('R squared training:', round(grid_search.best_score_, 4))\n",
        "print('R squared testing:', round(r2_score(y_test, y_rf_pred), 4))"
      ]
    },
    {
      "cell_type": "code",
      "execution_count": 173,
      "metadata": {},
      "outputs": [
        {
          "name": "stdout",
          "output_type": "stream",
          "text": [
            "                  Actual Value  Predicted Value  Difference\n",
            "date                                                       \n",
            "7/7/2018 14:15           72.07        72.524676   -0.454676\n",
            "11/6/2018 23:00           3.71         3.667505    0.042495\n",
            "14/07/2018 16:30         84.49        84.389525    0.100475\n",
            "24/01/2018 17:15         74.59        74.415897    0.174103\n",
            "11/2/2018 13:00           4.14         3.384925    0.755075\n",
            "Polynomial Regression Model Evaluation:\n",
            "Mean Squared Error (MSE): 4.447426540582452\n",
            "R-squared (R2) Score: 0.9960708683889473\n"
          ]
        }
      ],
      "source": [
        "degree = 6\n",
        "poly = PolynomialFeatures(degree=degree)\n",
        "X_train_poly = poly.fit_transform(X_train_temp)\n",
        "X_test_poly = poly.transform(X_test)\n",
        "\n",
        "polynom_model = LinearRegression()\n",
        "polynom_model.fit(X_train_poly, y_train_temp)\n",
        "\n",
        "y_pred = polynom_model.predict(X_test_poly)\n",
        "mse = mean_squared_error(y_test, y_pred)\n",
        "r2 = r2_score(y_test, y_pred)\n",
        "\n",
        "rf_model = pd.DataFrame({'Actual Value': y_test, 'Predicted Value': y_pred, 'Difference': y_test - y_pred})\n",
        "print(rf_model.head(5))\n",
        "\n",
        "print(\"Polynomial Regression Model Evaluation:\")\n",
        "print(\"Mean Squared Error (MSE):\", mse)\n",
        "print(\"R-squared (R2) Score:\", r2)"
      ]
    },
    {
      "cell_type": "code",
      "execution_count": 174,
      "metadata": {
        "id": "fUT2wSPTGmdr"
      },
      "outputs": [],
      "source": [
        "testing_data = pd.read_csv('data/test.csv')\n",
        "testing_data = testing_data.set_index('date')"
      ]
    },
    {
      "cell_type": "code",
      "execution_count": 175,
      "metadata": {
        "colab": {
          "base_uri": "https://localhost:8080/",
          "height": 648
        },
        "id": "ObS5PqoVNfiB",
        "outputId": "c206bd66-a5ae-49fe-c6ec-fe12a544e028"
      },
      "outputs": [
        {
          "data": {
            "text/html": [
              "<div>\n",
              "<style scoped>\n",
              "    .dataframe tbody tr th:only-of-type {\n",
              "        vertical-align: middle;\n",
              "    }\n",
              "\n",
              "    .dataframe tbody tr th {\n",
              "        vertical-align: top;\n",
              "    }\n",
              "\n",
              "    .dataframe thead th {\n",
              "        text-align: right;\n",
              "    }\n",
              "</style>\n",
              "<table border=\"1\" class=\"dataframe\">\n",
              "  <thead>\n",
              "    <tr style=\"text-align: right;\">\n",
              "      <th></th>\n",
              "      <th>Lagging_Current_Reactive.Power_kVarh</th>\n",
              "      <th>CO2(tCO2)</th>\n",
              "      <th>Lagging_Current_Power_Factor</th>\n",
              "      <th>Load_Type</th>\n",
              "    </tr>\n",
              "    <tr>\n",
              "      <th>date</th>\n",
              "      <th></th>\n",
              "      <th></th>\n",
              "      <th></th>\n",
              "      <th></th>\n",
              "    </tr>\n",
              "  </thead>\n",
              "  <tbody>\n",
              "    <tr>\n",
              "      <th>19/10/2018 16:00</th>\n",
              "      <td>63.68</td>\n",
              "      <td>0.05</td>\n",
              "      <td>84.19</td>\n",
              "      <td>Maximum_Load</td>\n",
              "    </tr>\n",
              "    <tr>\n",
              "      <th>19/10/2018 16:15</th>\n",
              "      <td>54.18</td>\n",
              "      <td>0.04</td>\n",
              "      <td>85.28</td>\n",
              "      <td>Maximum_Load</td>\n",
              "    </tr>\n",
              "    <tr>\n",
              "      <th>19/10/2018 16:30</th>\n",
              "      <td>55.04</td>\n",
              "      <td>0.04</td>\n",
              "      <td>85.28</td>\n",
              "      <td>Maximum_Load</td>\n",
              "    </tr>\n",
              "    <tr>\n",
              "      <th>19/10/2018 16:45</th>\n",
              "      <td>36.40</td>\n",
              "      <td>0.03</td>\n",
              "      <td>84.13</td>\n",
              "      <td>Maximum_Load</td>\n",
              "    </tr>\n",
              "    <tr>\n",
              "      <th>19/10/2018 17:00</th>\n",
              "      <td>35.17</td>\n",
              "      <td>0.03</td>\n",
              "      <td>85.08</td>\n",
              "      <td>Maximum_Load</td>\n",
              "    </tr>\n",
              "    <tr>\n",
              "      <th>...</th>\n",
              "      <td>...</td>\n",
              "      <td>...</td>\n",
              "      <td>...</td>\n",
              "      <td>...</td>\n",
              "    </tr>\n",
              "    <tr>\n",
              "      <th>31/12/2018 23:00</th>\n",
              "      <td>4.86</td>\n",
              "      <td>0.00</td>\n",
              "      <td>62.10</td>\n",
              "      <td>Light_Load</td>\n",
              "    </tr>\n",
              "    <tr>\n",
              "      <th>31/12/2018 23:15</th>\n",
              "      <td>3.74</td>\n",
              "      <td>0.00</td>\n",
              "      <td>70.71</td>\n",
              "      <td>Light_Load</td>\n",
              "    </tr>\n",
              "    <tr>\n",
              "      <th>31/12/2018 23:30</th>\n",
              "      <td>3.17</td>\n",
              "      <td>0.00</td>\n",
              "      <td>76.62</td>\n",
              "      <td>Light_Load</td>\n",
              "    </tr>\n",
              "    <tr>\n",
              "      <th>31/12/2018 23:45</th>\n",
              "      <td>3.06</td>\n",
              "      <td>0.00</td>\n",
              "      <td>77.72</td>\n",
              "      <td>Light_Load</td>\n",
              "    </tr>\n",
              "    <tr>\n",
              "      <th>31/12/2018 00:00</th>\n",
              "      <td>3.02</td>\n",
              "      <td>0.00</td>\n",
              "      <td>77.22</td>\n",
              "      <td>Light_Load</td>\n",
              "    </tr>\n",
              "  </tbody>\n",
              "</table>\n",
              "<p>7041 rows × 4 columns</p>\n",
              "</div>"
            ],
            "text/plain": [
              "                  Lagging_Current_Reactive.Power_kVarh  CO2(tCO2)  \\\n",
              "date                                                                \n",
              "19/10/2018 16:00                                 63.68       0.05   \n",
              "19/10/2018 16:15                                 54.18       0.04   \n",
              "19/10/2018 16:30                                 55.04       0.04   \n",
              "19/10/2018 16:45                                 36.40       0.03   \n",
              "19/10/2018 17:00                                 35.17       0.03   \n",
              "...                                                ...        ...   \n",
              "31/12/2018 23:00                                  4.86       0.00   \n",
              "31/12/2018 23:15                                  3.74       0.00   \n",
              "31/12/2018 23:30                                  3.17       0.00   \n",
              "31/12/2018 23:45                                  3.06       0.00   \n",
              "31/12/2018 00:00                                  3.02       0.00   \n",
              "\n",
              "                  Lagging_Current_Power_Factor     Load_Type  \n",
              "date                                                          \n",
              "19/10/2018 16:00                         84.19  Maximum_Load  \n",
              "19/10/2018 16:15                         85.28  Maximum_Load  \n",
              "19/10/2018 16:30                         85.28  Maximum_Load  \n",
              "19/10/2018 16:45                         84.13  Maximum_Load  \n",
              "19/10/2018 17:00                         85.08  Maximum_Load  \n",
              "...                                        ...           ...  \n",
              "31/12/2018 23:00                         62.10    Light_Load  \n",
              "31/12/2018 23:15                         70.71    Light_Load  \n",
              "31/12/2018 23:30                         76.62    Light_Load  \n",
              "31/12/2018 23:45                         77.72    Light_Load  \n",
              "31/12/2018 00:00                         77.22    Light_Load  \n",
              "\n",
              "[7041 rows x 4 columns]"
            ]
          },
          "execution_count": 175,
          "metadata": {},
          "output_type": "execute_result"
        }
      ],
      "source": [
        "testing_data = testing_data.drop(columns=['Id','Leading_Current_Reactive_Power_kVarh','Leading_Current_Power_Factor', 'NSM','WeekStatus', 'Day_of_week'], axis=1)\n",
        "testing_data"
      ]
    },
    {
      "cell_type": "code",
      "execution_count": 176,
      "metadata": {
        "id": "67f7bK_FHeKU"
      },
      "outputs": [],
      "source": [
        "numerical_cols_test = testing_data.select_dtypes(include=[np.number]).columns.tolist()\n",
        "\n",
        "# Remove the Id, date, and target column\n",
        "numerical_cols_test = [col for col in numerical_cols_test if col not in ['date']]\n",
        "\n",
        "scaler_test = StandardScaler()\n",
        "\n",
        "testing_data[numerical_cols_test] = scaler_test.fit_transform(testing_data[numerical_cols_test])\n"
      ]
    },
    {
      "cell_type": "code",
      "execution_count": 177,
      "metadata": {
        "id": "ucFBYg4VOcFw"
      },
      "outputs": [
        {
          "data": {
            "text/plain": [
              "['Lagging_Current_Reactive.Power_kVarh',\n",
              " 'CO2(tCO2)',\n",
              " 'Lagging_Current_Power_Factor']"
            ]
          },
          "execution_count": 177,
          "metadata": {},
          "output_type": "execute_result"
        }
      ],
      "source": [
        "numerical_cols_test"
      ]
    },
    {
      "cell_type": "code",
      "execution_count": 136,
      "metadata": {
        "id": "qJMCDl7AH8w5"
      },
      "outputs": [
        {
          "ename": "KeyError",
          "evalue": "'WeekStatus'",
          "output_type": "error",
          "traceback": [
            "\u001b[1;31m---------------------------------------------------------------------------\u001b[0m",
            "\u001b[1;31mKeyError\u001b[0m                                  Traceback (most recent call last)",
            "File \u001b[1;32mc:\\Users\\tbtw0\\AppData\\Local\\Programs\\Python\\Python311\\Lib\\site-packages\\pandas\\core\\indexes\\base.py:3802\u001b[0m, in \u001b[0;36mIndex.get_loc\u001b[1;34m(self, key)\u001b[0m\n\u001b[0;32m   3801\u001b[0m \u001b[38;5;28;01mtry\u001b[39;00m:\n\u001b[1;32m-> 3802\u001b[0m     \u001b[38;5;28;01mreturn\u001b[39;00m \u001b[38;5;28;43mself\u001b[39;49m\u001b[38;5;241;43m.\u001b[39;49m\u001b[43m_engine\u001b[49m\u001b[38;5;241;43m.\u001b[39;49m\u001b[43mget_loc\u001b[49m\u001b[43m(\u001b[49m\u001b[43mcasted_key\u001b[49m\u001b[43m)\u001b[49m\n\u001b[0;32m   3803\u001b[0m \u001b[38;5;28;01mexcept\u001b[39;00m \u001b[38;5;167;01mKeyError\u001b[39;00m \u001b[38;5;28;01mas\u001b[39;00m err:\n",
            "File \u001b[1;32mindex.pyx:153\u001b[0m, in \u001b[0;36mpandas._libs.index.IndexEngine.get_loc\u001b[1;34m()\u001b[0m\n",
            "File \u001b[1;32mindex.pyx:182\u001b[0m, in \u001b[0;36mpandas._libs.index.IndexEngine.get_loc\u001b[1;34m()\u001b[0m\n",
            "File \u001b[1;32mpandas\\\\_libs\\\\hashtable_class_helper.pxi:7081\u001b[0m, in \u001b[0;36mpandas._libs.hashtable.PyObjectHashTable.get_item\u001b[1;34m()\u001b[0m\n",
            "File \u001b[1;32mpandas\\\\_libs\\\\hashtable_class_helper.pxi:7089\u001b[0m, in \u001b[0;36mpandas._libs.hashtable.PyObjectHashTable.get_item\u001b[1;34m()\u001b[0m\n",
            "\u001b[1;31mKeyError\u001b[0m: 'WeekStatus'",
            "\nThe above exception was the direct cause of the following exception:\n",
            "\u001b[1;31mKeyError\u001b[0m                                  Traceback (most recent call last)",
            "Cell \u001b[1;32mIn[136], line 2\u001b[0m\n\u001b[0;32m      1\u001b[0m le_test\u001b[38;5;241m=\u001b[39mLabelEncoder()\n\u001b[1;32m----> 2\u001b[0m label_test\u001b[38;5;241m=\u001b[39mle_test\u001b[38;5;241m.\u001b[39mfit_transform(\u001b[43mtesting_data\u001b[49m\u001b[43m[\u001b[49m\u001b[38;5;124;43m'\u001b[39;49m\u001b[38;5;124;43mWeekStatus\u001b[39;49m\u001b[38;5;124;43m'\u001b[39;49m\u001b[43m]\u001b[49m)\n\u001b[0;32m      3\u001b[0m testing_data\u001b[38;5;241m.\u001b[39mdrop(\u001b[38;5;124m\"\u001b[39m\u001b[38;5;124mWeekStatus\u001b[39m\u001b[38;5;124m\"\u001b[39m,axis\u001b[38;5;241m=\u001b[39m\u001b[38;5;241m1\u001b[39m,inplace\u001b[38;5;241m=\u001b[39m\u001b[38;5;28;01mTrue\u001b[39;00m)\n\u001b[0;32m      4\u001b[0m testing_data[\u001b[38;5;124m\"\u001b[39m\u001b[38;5;124mWeekStatus\u001b[39m\u001b[38;5;124m\"\u001b[39m]\u001b[38;5;241m=\u001b[39mlabel_test\n",
            "File \u001b[1;32mc:\\Users\\tbtw0\\AppData\\Local\\Programs\\Python\\Python311\\Lib\\site-packages\\pandas\\core\\frame.py:4090\u001b[0m, in \u001b[0;36mDataFrame.__getitem__\u001b[1;34m(self, key)\u001b[0m\n\u001b[0;32m   4088\u001b[0m \u001b[38;5;28;01mif\u001b[39;00m \u001b[38;5;28mself\u001b[39m\u001b[38;5;241m.\u001b[39mcolumns\u001b[38;5;241m.\u001b[39mnlevels \u001b[38;5;241m>\u001b[39m \u001b[38;5;241m1\u001b[39m:\n\u001b[0;32m   4089\u001b[0m     \u001b[38;5;28;01mreturn\u001b[39;00m \u001b[38;5;28mself\u001b[39m\u001b[38;5;241m.\u001b[39m_getitem_multilevel(key)\n\u001b[1;32m-> 4090\u001b[0m indexer \u001b[38;5;241m=\u001b[39m \u001b[38;5;28;43mself\u001b[39;49m\u001b[38;5;241;43m.\u001b[39;49m\u001b[43mcolumns\u001b[49m\u001b[38;5;241;43m.\u001b[39;49m\u001b[43mget_loc\u001b[49m\u001b[43m(\u001b[49m\u001b[43mkey\u001b[49m\u001b[43m)\u001b[49m\n\u001b[0;32m   4091\u001b[0m \u001b[38;5;28;01mif\u001b[39;00m is_integer(indexer):\n\u001b[0;32m   4092\u001b[0m     indexer \u001b[38;5;241m=\u001b[39m [indexer]\n",
            "File \u001b[1;32mc:\\Users\\tbtw0\\AppData\\Local\\Programs\\Python\\Python311\\Lib\\site-packages\\pandas\\core\\indexes\\base.py:3809\u001b[0m, in \u001b[0;36mIndex.get_loc\u001b[1;34m(self, key)\u001b[0m\n\u001b[0;32m   3804\u001b[0m     \u001b[38;5;28;01mif\u001b[39;00m \u001b[38;5;28misinstance\u001b[39m(casted_key, \u001b[38;5;28mslice\u001b[39m) \u001b[38;5;129;01mor\u001b[39;00m (\n\u001b[0;32m   3805\u001b[0m         \u001b[38;5;28misinstance\u001b[39m(casted_key, abc\u001b[38;5;241m.\u001b[39mIterable)\n\u001b[0;32m   3806\u001b[0m         \u001b[38;5;129;01mand\u001b[39;00m \u001b[38;5;28many\u001b[39m(\u001b[38;5;28misinstance\u001b[39m(x, \u001b[38;5;28mslice\u001b[39m) \u001b[38;5;28;01mfor\u001b[39;00m x \u001b[38;5;129;01min\u001b[39;00m casted_key)\n\u001b[0;32m   3807\u001b[0m     ):\n\u001b[0;32m   3808\u001b[0m         \u001b[38;5;28;01mraise\u001b[39;00m InvalidIndexError(key)\n\u001b[1;32m-> 3809\u001b[0m     \u001b[38;5;28;01mraise\u001b[39;00m \u001b[38;5;167;01mKeyError\u001b[39;00m(key) \u001b[38;5;28;01mfrom\u001b[39;00m \u001b[38;5;21;01merr\u001b[39;00m\n\u001b[0;32m   3810\u001b[0m \u001b[38;5;28;01mexcept\u001b[39;00m \u001b[38;5;167;01mTypeError\u001b[39;00m:\n\u001b[0;32m   3811\u001b[0m     \u001b[38;5;66;03m# If we have a listlike key, _check_indexing_error will raise\u001b[39;00m\n\u001b[0;32m   3812\u001b[0m     \u001b[38;5;66;03m#  InvalidIndexError. Otherwise we fall through and re-raise\u001b[39;00m\n\u001b[0;32m   3813\u001b[0m     \u001b[38;5;66;03m#  the TypeError.\u001b[39;00m\n\u001b[0;32m   3814\u001b[0m     \u001b[38;5;28mself\u001b[39m\u001b[38;5;241m.\u001b[39m_check_indexing_error(key)\n",
            "\u001b[1;31mKeyError\u001b[0m: 'WeekStatus'"
          ]
        }
      ],
      "source": [
        "le_test=LabelEncoder()\n",
        "label_test=le_test.fit_transform(testing_data['WeekStatus'])\n",
        "testing_data.drop(\"WeekStatus\",axis=1,inplace=True)\n",
        "testing_data[\"WeekStatus\"]=label_test"
      ]
    },
    {
      "cell_type": "code",
      "execution_count": 179,
      "metadata": {
        "id": "hgb-9LbRIEN8"
      },
      "outputs": [],
      "source": [
        "one_hot_test = pd.get_dummies(testing_data['Day_of_week'])\n",
        "testing_data = testing_data.drop('Day_of_week',axis = 1)\n",
        "testing_data = testing_data.join(one_hot_test)\n"
      ]
    },
    {
      "cell_type": "code",
      "execution_count": 178,
      "metadata": {
        "id": "SPSO6EI5IjPe"
      },
      "outputs": [],
      "source": [
        "one_hot_test = pd.get_dummies(testing_data['Load_Type'])\n",
        "testing_data = testing_data.drop('Load_Type',axis = 1)\n",
        "testing_data = testing_data.join(one_hot_test)\n",
        "#transform with one_hot for load_type\n"
      ]
    },
    {
      "cell_type": "code",
      "execution_count": 179,
      "metadata": {
        "colab": {
          "base_uri": "https://localhost:8080/",
          "height": 648
        },
        "id": "CTBAnoGpIv_y",
        "outputId": "66fdc254-bb28-4e45-dc61-fdd581d87776"
      },
      "outputs": [
        {
          "data": {
            "text/html": [
              "<div>\n",
              "<style scoped>\n",
              "    .dataframe tbody tr th:only-of-type {\n",
              "        vertical-align: middle;\n",
              "    }\n",
              "\n",
              "    .dataframe tbody tr th {\n",
              "        vertical-align: top;\n",
              "    }\n",
              "\n",
              "    .dataframe thead th {\n",
              "        text-align: right;\n",
              "    }\n",
              "</style>\n",
              "<table border=\"1\" class=\"dataframe\">\n",
              "  <thead>\n",
              "    <tr style=\"text-align: right;\">\n",
              "      <th></th>\n",
              "      <th>Lagging_Current_Reactive.Power_kVarh</th>\n",
              "      <th>CO2(tCO2)</th>\n",
              "      <th>Lagging_Current_Power_Factor</th>\n",
              "      <th>Light_Load</th>\n",
              "      <th>Maximum_Load</th>\n",
              "    </tr>\n",
              "    <tr>\n",
              "      <th>date</th>\n",
              "      <th></th>\n",
              "      <th></th>\n",
              "      <th></th>\n",
              "      <th></th>\n",
              "      <th></th>\n",
              "    </tr>\n",
              "  </thead>\n",
              "  <tbody>\n",
              "    <tr>\n",
              "      <th>19/10/2018 16:00</th>\n",
              "      <td>3.293564</td>\n",
              "      <td>2.588771</td>\n",
              "      <td>0.064562</td>\n",
              "      <td>False</td>\n",
              "      <td>True</td>\n",
              "    </tr>\n",
              "    <tr>\n",
              "      <th>19/10/2018 16:15</th>\n",
              "      <td>2.685094</td>\n",
              "      <td>1.933952</td>\n",
              "      <td>0.130005</td>\n",
              "      <td>False</td>\n",
              "      <td>True</td>\n",
              "    </tr>\n",
              "    <tr>\n",
              "      <th>19/10/2018 16:30</th>\n",
              "      <td>2.740176</td>\n",
              "      <td>1.933952</td>\n",
              "      <td>0.130005</td>\n",
              "      <td>False</td>\n",
              "      <td>True</td>\n",
              "    </tr>\n",
              "    <tr>\n",
              "      <th>19/10/2018 16:45</th>\n",
              "      <td>1.546293</td>\n",
              "      <td>1.279133</td>\n",
              "      <td>0.060959</td>\n",
              "      <td>False</td>\n",
              "      <td>True</td>\n",
              "    </tr>\n",
              "    <tr>\n",
              "      <th>19/10/2018 17:00</th>\n",
              "      <td>1.467512</td>\n",
              "      <td>1.279133</td>\n",
              "      <td>0.117997</td>\n",
              "      <td>False</td>\n",
              "      <td>True</td>\n",
              "    </tr>\n",
              "    <tr>\n",
              "      <th>...</th>\n",
              "      <td>...</td>\n",
              "      <td>...</td>\n",
              "      <td>...</td>\n",
              "      <td>...</td>\n",
              "      <td>...</td>\n",
              "    </tr>\n",
              "    <tr>\n",
              "      <th>31/12/2018 23:00</th>\n",
              "      <td>-0.473829</td>\n",
              "      <td>-0.685323</td>\n",
              "      <td>-1.261712</td>\n",
              "      <td>True</td>\n",
              "      <td>False</td>\n",
              "    </tr>\n",
              "    <tr>\n",
              "      <th>31/12/2018 23:15</th>\n",
              "      <td>-0.545564</td>\n",
              "      <td>-0.685323</td>\n",
              "      <td>-0.744772</td>\n",
              "      <td>True</td>\n",
              "      <td>False</td>\n",
              "    </tr>\n",
              "    <tr>\n",
              "      <th>31/12/2018 23:30</th>\n",
              "      <td>-0.582073</td>\n",
              "      <td>-0.685323</td>\n",
              "      <td>-0.389938</td>\n",
              "      <td>True</td>\n",
              "      <td>False</td>\n",
              "    </tr>\n",
              "    <tr>\n",
              "      <th>31/12/2018 23:45</th>\n",
              "      <td>-0.589118</td>\n",
              "      <td>-0.685323</td>\n",
              "      <td>-0.323894</td>\n",
              "      <td>True</td>\n",
              "      <td>False</td>\n",
              "    </tr>\n",
              "    <tr>\n",
              "      <th>31/12/2018 00:00</th>\n",
              "      <td>-0.591680</td>\n",
              "      <td>-0.685323</td>\n",
              "      <td>-0.353914</td>\n",
              "      <td>True</td>\n",
              "      <td>False</td>\n",
              "    </tr>\n",
              "  </tbody>\n",
              "</table>\n",
              "<p>7041 rows × 5 columns</p>\n",
              "</div>"
            ],
            "text/plain": [
              "                  Lagging_Current_Reactive.Power_kVarh  CO2(tCO2)  \\\n",
              "date                                                                \n",
              "19/10/2018 16:00                              3.293564   2.588771   \n",
              "19/10/2018 16:15                              2.685094   1.933952   \n",
              "19/10/2018 16:30                              2.740176   1.933952   \n",
              "19/10/2018 16:45                              1.546293   1.279133   \n",
              "19/10/2018 17:00                              1.467512   1.279133   \n",
              "...                                                ...        ...   \n",
              "31/12/2018 23:00                             -0.473829  -0.685323   \n",
              "31/12/2018 23:15                             -0.545564  -0.685323   \n",
              "31/12/2018 23:30                             -0.582073  -0.685323   \n",
              "31/12/2018 23:45                             -0.589118  -0.685323   \n",
              "31/12/2018 00:00                             -0.591680  -0.685323   \n",
              "\n",
              "                  Lagging_Current_Power_Factor  Light_Load  Maximum_Load  \n",
              "date                                                                      \n",
              "19/10/2018 16:00                      0.064562       False          True  \n",
              "19/10/2018 16:15                      0.130005       False          True  \n",
              "19/10/2018 16:30                      0.130005       False          True  \n",
              "19/10/2018 16:45                      0.060959       False          True  \n",
              "19/10/2018 17:00                      0.117997       False          True  \n",
              "...                                        ...         ...           ...  \n",
              "31/12/2018 23:00                     -1.261712        True         False  \n",
              "31/12/2018 23:15                     -0.744772        True         False  \n",
              "31/12/2018 23:30                     -0.389938        True         False  \n",
              "31/12/2018 23:45                     -0.323894        True         False  \n",
              "31/12/2018 00:00                     -0.353914        True         False  \n",
              "\n",
              "[7041 rows x 5 columns]"
            ]
          },
          "execution_count": 179,
          "metadata": {},
          "output_type": "execute_result"
        }
      ],
      "source": [
        "testing_data = testing_data.drop(columns='Medium_Load')\n",
        "testing_data"
      ]
    },
    {
      "cell_type": "code",
      "execution_count": 180,
      "metadata": {
        "id": "Nn2mAMoLK5cB"
      },
      "outputs": [],
      "source": [
        "test_poly = poly.transform(testing_data)\n",
        "\n",
        "y_test_pred = polynom_model.predict(test_poly)"
      ]
    },
    {
      "cell_type": "code",
      "execution_count": 108,
      "metadata": {
        "id": "APM_txxmKx5X"
      },
      "outputs": [],
      "source": [
        "testing_data['Usage_kWh'] = y_test_pred\n",
        "testing_data.to_csv('test_with_predictions.csv', index=False)"
      ]
    }
  ],
  "metadata": {
    "colab": {
      "provenance": []
    },
    "kernelspec": {
      "display_name": "Python 3",
      "name": "python3"
    },
    "language_info": {
      "codemirror_mode": {
        "name": "ipython",
        "version": 3
      },
      "file_extension": ".py",
      "mimetype": "text/x-python",
      "name": "python",
      "nbconvert_exporter": "python",
      "pygments_lexer": "ipython3",
      "version": "3.11.8"
    }
  },
  "nbformat": 4,
  "nbformat_minor": 0
}
